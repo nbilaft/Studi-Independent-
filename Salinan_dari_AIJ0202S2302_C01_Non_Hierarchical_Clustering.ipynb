{
  "nbformat": 4,
  "nbformat_minor": 0,
  "metadata": {
    "colab": {
      "provenance": [],
      "collapsed_sections": [
        "7CGZ7I9-mLes",
        "49w60zdtmPEw",
        "inqw4Jr67InH",
        "HSMpew53tp61",
        "jMWuOlC4-amB",
        "5oC_K9UOxaDW",
        "2BiUEEw6GFEq",
        "eg_NNuaHCuK4",
        "nQszP68VSCk3",
        "GCAdn_8bSMZX",
        "wrMygf8nSS5i"
      ],
      "include_colab_link": true
    },
    "kernelspec": {
      "display_name": "Python 3",
      "language": "python",
      "name": "python3"
    },
    "language_info": {
      "codemirror_mode": {
        "name": "ipython",
        "version": 3
      },
      "file_extension": ".py",
      "mimetype": "text/x-python",
      "name": "python",
      "nbconvert_exporter": "python",
      "pygments_lexer": "ipython3",
      "version": "3.7.6"
    }
  },
  "cells": [
    {
      "cell_type": "markdown",
      "metadata": {
        "id": "view-in-github",
        "colab_type": "text"
      },
      "source": [
        "<a href=\"https://colab.research.google.com/github/nbilaft/Studi-Independent-/blob/main/Salinan_dari_AIJ0202S2302_C01_Non_Hierarchical_Clustering.ipynb\" target=\"_parent\"><img src=\"https://colab.research.google.com/assets/colab-badge.svg\" alt=\"Open In Colab\"/></a>"
      ]
    },
    {
      "cell_type": "markdown",
      "metadata": {
        "id": "7w6xl-0E66uk"
      },
      "source": [
        "# ML-6 Non-Hierarchical Clustering"
      ]
    },
    {
      "cell_type": "markdown",
      "source": [
        "# Import Library"
      ],
      "metadata": {
        "id": "7CGZ7I9-mLes"
      }
    },
    {
      "cell_type": "markdown",
      "source": [
        "![image.png](data:image/png;base64,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)"
      ],
      "metadata": {
        "id": "cbsurVx0Pvii"
      }
    },
    {
      "cell_type": "code",
      "metadata": {
        "id": "YpfUK-Na66ul"
      },
      "source": [
        "import pandas as pd\n",
        "import numpy as np\n",
        "from matplotlib import pyplot as plt\n",
        "from sklearn.preprocessing import StandardScaler\n",
        "from sklearn.cluster import KMeans\n",
        "from sklearn.metrics import silhouette_score\n"
      ],
      "execution_count": null,
      "outputs": []
    },
    {
      "cell_type": "markdown",
      "source": [
        "Menginstal library machine learning visualization: [yellowbrick](https://www.scikit-yb.org/en/latest/)."
      ],
      "metadata": {
        "id": "TSRiY76knUpp"
      }
    },
    {
      "cell_type": "markdown",
      "source": [
        "![image.png](data:image/png;base64,iVBORw0KGgoAAAANSUhEUgAAATEAAAArCAYAAAAQX78hAAAAAXNSR0IArs4c6QAAAARnQU1BAACxjwv8YQUAAAAJcEhZcwAADsMAAA7DAcdvqGQAAAZYSURBVHhe7Zw/bNtWEMavHTxpcYFCi5EhRAEt7qQhE7toMDQRAWJ4ytJCk7110CQEmrQ7k9AungwFMDQZGTRpaQZtXrQwQAEvQtGoBThlae+eHqlHihIpiYry5O8HECZF8t6/4/fuHiV/8+zZs/8IAAAs5Vv9FwAArAQiBgCwGogYAMBqIGIAAKuBiAEArAYiBgCwGogYAMBqIGIAAKuBiAEArAYiBgCwGogYAMBqIGIAAKuBiAEArAYiBgCwmsx/xfP8+XO6uLigo6Mjdfzhwwd6//692s/L2dkZvXjxQu1//vyZbm9v6ePHj+oYAAC2IVckJsJzc3NDb968WVvABLlH7hUbYmtX/ND5k375/Za+08eb0Li+p/v7a2ro453QuOYy7ul6p4Vsx6wf9NZrk6s/j3Db1AvP76gtqg5Jw6rvdjw+CzTo2mhrr73QG9n9VQBuu1ec7W18cC9jsBykkwdKqgCsQfeqTvV6nTqjQH+SYNiicz5fr/fJ1x8dLl26Um3t0LLuyOwvsDMOT8T+eqRPencTZs54xW67Q7pXyuGvdloIACs4IB88KBH7+59/9V4CCX8lDNch9GyLh8MqVF9yTpHDRiaZKZikLT1qu2b6Isf6dEisDrwZKUaY1ngOHziecV2irkkbu8gH945L7V5K21Tb4/0RSwfXHdecuDEfM9PSWT3T0lR1T6L+FdNOIr2Udogds6yY3bzLACt8bIHw2j350NNJJ0tVatam1InSAoc8o9OHrXM1M9X7K5KjDBuZ5ErBSlRt1mjakevq1Pf5+NJwIHFCr0wjfV5t5y0a6tNhWqOa4ffn18SiSxbJ04f5uc6IAha8PfngDhlSa8Ad4ZwaosSCUXMoGL2L+kMefK880uMqKWGZvIKFTESlWZ1QP+xz9oFJtakFZkiPk9l1SSrHJQqmY33EsA96x4PIhs/HlwnxK7HdZmU8aw+PLTvQfCLM44MiSit8LIZ57Z7Cuie0JuZTPxoI7dzlk+WzSypF2MjG759TS3tM94HLKB1TZXaoKVGltk2pXboyHW44oHEgTSm6JV8B3QceNYdOQ0Vya1QpBTQehI9kg06dgEZv5w/psDWI37M1LtUqLEaGcMoYvBsFVKrUlP+Mp7x/PBvlMJpKJWCxjcZO29D3Rcg1oZ8OH2nC/pK8ZDmhyL+NfHAZJxLtKQGb++s+eNoL+wvisAFF2FgHmUnV7NqMQv1NIqh4+tSkakmf+KLE3/pt2pbVzB50RyuSW6tQyR/MHzr3hMoq+jXr4bGEFUmFOKCiyWP8SR9K+KX9R+2rCZFFtcwzihI3l07Ki/ctkJxIJ4+RIKsJiyOp/EFSel0XcagqTmP25Z44KBH71PmRfmv+qo9W44p3BFMyAvW1KcLGRkQpAW+cNzpeyrrZCiS18RyOKkMbK9667Zbwrd98y/Wwrdnnw8GY02VJKSUiIhq9M6NQiVQ4EjNTp3XqkosxcaC1EOnG/Gc85VowjVMqj9/SYFKhmiuCEpCZTSaRdDMuWtuSXtdFxH/Yb8re3tdTD0rE8n9PrEGveBYJxoMtBr8IGwUQOn8CSU/ia0FzlOMbQuC2L/cUia1GpdJOzRBojtw8TnXW7XMW/YHvUK3H7ZwkI4cuPSTXHQtnSAPO10vVV/PxcNt0yZ3uD4y0j6OyV6dllep2HyYcjJ3wiQktDYrYBmd+5D8UprZMWFdjHW0pQ2qd98mXF0h7FLJc39h/+fIl3d3dbf0t+yJtpSEi9tP3f9Ddzxfxr1moxcd4guD3zZlW3g6lpVQyQ+t8P9NGNhIBNVPUIhh16HxWCKdXHvEUN7erypWP9MJ87nok2yQzZ7i4PysnsuL3qU8e1abxesRLEeY2sttSDMlyNrav+23ZmKnF/ViDjf5K6XOFvDhRxrL7S0iWkeqDFK5naZvm+tZCPQz/1KgyeDSXLbLnHbeF6xbqYfikvGxqVjkpj7f3S3FQIraUZKdvQhE2wP7A+B0sT3thHzwROKpRURgE7BDJJWLy4+/Xr1+r3z/Kj7nXRe6Re8VG+ENyAHZO9MVOj8qcLi3JsIDlZKaTAADwNYN0EgBgNRAxAIDVQMQAAFYDEQMAWA1EDABgNRAxAIDVQMQAAFYDEQMAWA1EDABgNRAxAIDVQMQAAFYDEQMAWA1EDABgMUT/AwC4dV7/fVLqAAAAAElFTkSuQmCC)"
      ],
      "metadata": {
        "id": "nwb3TzVOPrf6"
      }
    },
    {
      "cell_type": "code",
      "source": [
        "# Tulis di sini\n",
        "!pip install -U yellowbrick\n"
      ],
      "metadata": {
        "id": "LxS_0oFOnkqR",
        "colab": {
          "base_uri": "https://localhost:8080/"
        },
        "outputId": "56e72560-2230-478e-bff9-1d94fd4bd711"
      },
      "execution_count": null,
      "outputs": [
        {
          "output_type": "stream",
          "name": "stdout",
          "text": [
            "Requirement already satisfied: yellowbrick in /usr/local/lib/python3.10/dist-packages (1.5)\n",
            "Requirement already satisfied: matplotlib!=3.0.0,>=2.0.2 in /usr/local/lib/python3.10/dist-packages (from yellowbrick) (3.7.1)\n",
            "Requirement already satisfied: scipy>=1.0.0 in /usr/local/lib/python3.10/dist-packages (from yellowbrick) (1.11.4)\n",
            "Requirement already satisfied: scikit-learn>=1.0.0 in /usr/local/lib/python3.10/dist-packages (from yellowbrick) (1.2.2)\n",
            "Requirement already satisfied: numpy>=1.16.0 in /usr/local/lib/python3.10/dist-packages (from yellowbrick) (1.25.2)\n",
            "Requirement already satisfied: cycler>=0.10.0 in /usr/local/lib/python3.10/dist-packages (from yellowbrick) (0.12.1)\n",
            "Requirement already satisfied: contourpy>=1.0.1 in /usr/local/lib/python3.10/dist-packages (from matplotlib!=3.0.0,>=2.0.2->yellowbrick) (1.2.1)\n",
            "Requirement already satisfied: fonttools>=4.22.0 in /usr/local/lib/python3.10/dist-packages (from matplotlib!=3.0.0,>=2.0.2->yellowbrick) (4.51.0)\n",
            "Requirement already satisfied: kiwisolver>=1.0.1 in /usr/local/lib/python3.10/dist-packages (from matplotlib!=3.0.0,>=2.0.2->yellowbrick) (1.4.5)\n",
            "Requirement already satisfied: packaging>=20.0 in /usr/local/lib/python3.10/dist-packages (from matplotlib!=3.0.0,>=2.0.2->yellowbrick) (24.0)\n",
            "Requirement already satisfied: pillow>=6.2.0 in /usr/local/lib/python3.10/dist-packages (from matplotlib!=3.0.0,>=2.0.2->yellowbrick) (9.4.0)\n",
            "Requirement already satisfied: pyparsing>=2.3.1 in /usr/local/lib/python3.10/dist-packages (from matplotlib!=3.0.0,>=2.0.2->yellowbrick) (3.1.2)\n",
            "Requirement already satisfied: python-dateutil>=2.7 in /usr/local/lib/python3.10/dist-packages (from matplotlib!=3.0.0,>=2.0.2->yellowbrick) (2.8.2)\n",
            "Requirement already satisfied: joblib>=1.1.1 in /usr/local/lib/python3.10/dist-packages (from scikit-learn>=1.0.0->yellowbrick) (1.4.0)\n",
            "Requirement already satisfied: threadpoolctl>=2.0.0 in /usr/local/lib/python3.10/dist-packages (from scikit-learn>=1.0.0->yellowbrick) (3.4.0)\n",
            "Requirement already satisfied: six>=1.5 in /usr/local/lib/python3.10/dist-packages (from python-dateutil>=2.7->matplotlib!=3.0.0,>=2.0.2->yellowbrick) (1.16.0)\n"
          ]
        }
      ]
    },
    {
      "cell_type": "markdown",
      "source": [
        "Import library [KElbowVisualizer](https://www.scikit-yb.org/en/latest/api/cluster/elbow.html)."
      ],
      "metadata": {
        "id": "F8nKzmPWnlQB"
      }
    },
    {
      "cell_type": "markdown",
      "source": [
        "![image.png](data:image/png;base64,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)"
      ],
      "metadata": {
        "id": "n3l085DvPlgf"
      }
    },
    {
      "cell_type": "code",
      "source": [
        "# Tulis di sini\n",
        "from yellowbrick.cluster import KElbowVisualizer"
      ],
      "metadata": {
        "id": "kZB24XEKnqCD"
      },
      "execution_count": null,
      "outputs": []
    },
    {
      "cell_type": "markdown",
      "source": [
        "# Load Dataset"
      ],
      "metadata": {
        "id": "49w60zdtmPEw"
      }
    },
    {
      "cell_type": "markdown",
      "source": [
        "Download dataset [di sini](https://drive.google.com/file/d/1kQhSkVx2BYYRHeGZtjjfgZTOMSf9YjhY/view?usp=sharing)\n",
        "\n",
        "Pada hands-on ini, kita masih menggunakan dataset Mall_Customers.csv.\n",
        "\n",
        "Berbeda dengan materi sebelumnya, kali ini, kita akan lakukan Customer Segmentation menggunakan algoritma K-Means."
      ],
      "metadata": {
        "id": "TEU2IzNXi0sN"
      }
    },
    {
      "cell_type": "markdown",
      "source": [
        "![image.png](data:image/png;base64,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)"
      ],
      "metadata": {
        "id": "8xHA9AxqPhpo"
      }
    },
    {
      "cell_type": "code",
      "metadata": {
        "id": "W3_MYofJ66ul",
        "colab": {
          "base_uri": "https://localhost:8080/",
          "height": 455
        },
        "outputId": "fdc5dfb9-8ee4-4adc-d3a6-84814056da42"
      },
      "source": [
        "# Tulis di sini\n",
        "data = pd.read_csv('/content/Mall_Customers.csv', index_col='CustomerID')\n",
        "data"
      ],
      "execution_count": null,
      "outputs": [
        {
          "output_type": "execute_result",
          "data": {
            "text/plain": [
              "            Gender  Age  AnnualIncome  SpendingScore\n",
              "CustomerID                                          \n",
              "1             Male   19            15             39\n",
              "2             Male   21            15             81\n",
              "3           Female   20            16              6\n",
              "4           Female   23            16             77\n",
              "5           Female   31            17             40\n",
              "...            ...  ...           ...            ...\n",
              "209         Female   35          1207             79\n",
              "210         Female   45           126            182\n",
              "211           Male   32           126            174\n",
              "212           Male   32           137            192\n",
              "213           Male   30           137            183\n",
              "\n",
              "[240 rows x 4 columns]"
            ],
            "text/html": [
              "\n",
              "  <div id=\"df-7b953f33-6e94-45d8-961a-fee3fde48a2e\" class=\"colab-df-container\">\n",
              "    <div>\n",
              "<style scoped>\n",
              "    .dataframe tbody tr th:only-of-type {\n",
              "        vertical-align: middle;\n",
              "    }\n",
              "\n",
              "    .dataframe tbody tr th {\n",
              "        vertical-align: top;\n",
              "    }\n",
              "\n",
              "    .dataframe thead th {\n",
              "        text-align: right;\n",
              "    }\n",
              "</style>\n",
              "<table border=\"1\" class=\"dataframe\">\n",
              "  <thead>\n",
              "    <tr style=\"text-align: right;\">\n",
              "      <th></th>\n",
              "      <th>Gender</th>\n",
              "      <th>Age</th>\n",
              "      <th>AnnualIncome</th>\n",
              "      <th>SpendingScore</th>\n",
              "    </tr>\n",
              "    <tr>\n",
              "      <th>CustomerID</th>\n",
              "      <th></th>\n",
              "      <th></th>\n",
              "      <th></th>\n",
              "      <th></th>\n",
              "    </tr>\n",
              "  </thead>\n",
              "  <tbody>\n",
              "    <tr>\n",
              "      <th>1</th>\n",
              "      <td>Male</td>\n",
              "      <td>19</td>\n",
              "      <td>15</td>\n",
              "      <td>39</td>\n",
              "    </tr>\n",
              "    <tr>\n",
              "      <th>2</th>\n",
              "      <td>Male</td>\n",
              "      <td>21</td>\n",
              "      <td>15</td>\n",
              "      <td>81</td>\n",
              "    </tr>\n",
              "    <tr>\n",
              "      <th>3</th>\n",
              "      <td>Female</td>\n",
              "      <td>20</td>\n",
              "      <td>16</td>\n",
              "      <td>6</td>\n",
              "    </tr>\n",
              "    <tr>\n",
              "      <th>4</th>\n",
              "      <td>Female</td>\n",
              "      <td>23</td>\n",
              "      <td>16</td>\n",
              "      <td>77</td>\n",
              "    </tr>\n",
              "    <tr>\n",
              "      <th>5</th>\n",
              "      <td>Female</td>\n",
              "      <td>31</td>\n",
              "      <td>17</td>\n",
              "      <td>40</td>\n",
              "    </tr>\n",
              "    <tr>\n",
              "      <th>...</th>\n",
              "      <td>...</td>\n",
              "      <td>...</td>\n",
              "      <td>...</td>\n",
              "      <td>...</td>\n",
              "    </tr>\n",
              "    <tr>\n",
              "      <th>209</th>\n",
              "      <td>Female</td>\n",
              "      <td>35</td>\n",
              "      <td>1207</td>\n",
              "      <td>79</td>\n",
              "    </tr>\n",
              "    <tr>\n",
              "      <th>210</th>\n",
              "      <td>Female</td>\n",
              "      <td>45</td>\n",
              "      <td>126</td>\n",
              "      <td>182</td>\n",
              "    </tr>\n",
              "    <tr>\n",
              "      <th>211</th>\n",
              "      <td>Male</td>\n",
              "      <td>32</td>\n",
              "      <td>126</td>\n",
              "      <td>174</td>\n",
              "    </tr>\n",
              "    <tr>\n",
              "      <th>212</th>\n",
              "      <td>Male</td>\n",
              "      <td>32</td>\n",
              "      <td>137</td>\n",
              "      <td>192</td>\n",
              "    </tr>\n",
              "    <tr>\n",
              "      <th>213</th>\n",
              "      <td>Male</td>\n",
              "      <td>30</td>\n",
              "      <td>137</td>\n",
              "      <td>183</td>\n",
              "    </tr>\n",
              "  </tbody>\n",
              "</table>\n",
              "<p>240 rows × 4 columns</p>\n",
              "</div>\n",
              "    <div class=\"colab-df-buttons\">\n",
              "\n",
              "  <div class=\"colab-df-container\">\n",
              "    <button class=\"colab-df-convert\" onclick=\"convertToInteractive('df-7b953f33-6e94-45d8-961a-fee3fde48a2e')\"\n",
              "            title=\"Convert this dataframe to an interactive table.\"\n",
              "            style=\"display:none;\">\n",
              "\n",
              "  <svg xmlns=\"http://www.w3.org/2000/svg\" height=\"24px\" viewBox=\"0 -960 960 960\">\n",
              "    <path d=\"M120-120v-720h720v720H120Zm60-500h600v-160H180v160Zm220 220h160v-160H400v160Zm0 220h160v-160H400v160ZM180-400h160v-160H180v160Zm440 0h160v-160H620v160ZM180-180h160v-160H180v160Zm440 0h160v-160H620v160Z\"/>\n",
              "  </svg>\n",
              "    </button>\n",
              "\n",
              "  <style>\n",
              "    .colab-df-container {\n",
              "      display:flex;\n",
              "      gap: 12px;\n",
              "    }\n",
              "\n",
              "    .colab-df-convert {\n",
              "      background-color: #E8F0FE;\n",
              "      border: none;\n",
              "      border-radius: 50%;\n",
              "      cursor: pointer;\n",
              "      display: none;\n",
              "      fill: #1967D2;\n",
              "      height: 32px;\n",
              "      padding: 0 0 0 0;\n",
              "      width: 32px;\n",
              "    }\n",
              "\n",
              "    .colab-df-convert:hover {\n",
              "      background-color: #E2EBFA;\n",
              "      box-shadow: 0px 1px 2px rgba(60, 64, 67, 0.3), 0px 1px 3px 1px rgba(60, 64, 67, 0.15);\n",
              "      fill: #174EA6;\n",
              "    }\n",
              "\n",
              "    .colab-df-buttons div {\n",
              "      margin-bottom: 4px;\n",
              "    }\n",
              "\n",
              "    [theme=dark] .colab-df-convert {\n",
              "      background-color: #3B4455;\n",
              "      fill: #D2E3FC;\n",
              "    }\n",
              "\n",
              "    [theme=dark] .colab-df-convert:hover {\n",
              "      background-color: #434B5C;\n",
              "      box-shadow: 0px 1px 3px 1px rgba(0, 0, 0, 0.15);\n",
              "      filter: drop-shadow(0px 1px 2px rgba(0, 0, 0, 0.3));\n",
              "      fill: #FFFFFF;\n",
              "    }\n",
              "  </style>\n",
              "\n",
              "    <script>\n",
              "      const buttonEl =\n",
              "        document.querySelector('#df-7b953f33-6e94-45d8-961a-fee3fde48a2e button.colab-df-convert');\n",
              "      buttonEl.style.display =\n",
              "        google.colab.kernel.accessAllowed ? 'block' : 'none';\n",
              "\n",
              "      async function convertToInteractive(key) {\n",
              "        const element = document.querySelector('#df-7b953f33-6e94-45d8-961a-fee3fde48a2e');\n",
              "        const dataTable =\n",
              "          await google.colab.kernel.invokeFunction('convertToInteractive',\n",
              "                                                    [key], {});\n",
              "        if (!dataTable) return;\n",
              "\n",
              "        const docLinkHtml = 'Like what you see? Visit the ' +\n",
              "          '<a target=\"_blank\" href=https://colab.research.google.com/notebooks/data_table.ipynb>data table notebook</a>'\n",
              "          + ' to learn more about interactive tables.';\n",
              "        element.innerHTML = '';\n",
              "        dataTable['output_type'] = 'display_data';\n",
              "        await google.colab.output.renderOutput(dataTable, element);\n",
              "        const docLink = document.createElement('div');\n",
              "        docLink.innerHTML = docLinkHtml;\n",
              "        element.appendChild(docLink);\n",
              "      }\n",
              "    </script>\n",
              "  </div>\n",
              "\n",
              "\n",
              "<div id=\"df-fbfc1dfe-b67d-4815-8df4-ff4fa02bf4ab\">\n",
              "  <button class=\"colab-df-quickchart\" onclick=\"quickchart('df-fbfc1dfe-b67d-4815-8df4-ff4fa02bf4ab')\"\n",
              "            title=\"Suggest charts\"\n",
              "            style=\"display:none;\">\n",
              "\n",
              "<svg xmlns=\"http://www.w3.org/2000/svg\" height=\"24px\"viewBox=\"0 0 24 24\"\n",
              "     width=\"24px\">\n",
              "    <g>\n",
              "        <path d=\"M19 3H5c-1.1 0-2 .9-2 2v14c0 1.1.9 2 2 2h14c1.1 0 2-.9 2-2V5c0-1.1-.9-2-2-2zM9 17H7v-7h2v7zm4 0h-2V7h2v10zm4 0h-2v-4h2v4z\"/>\n",
              "    </g>\n",
              "</svg>\n",
              "  </button>\n",
              "\n",
              "<style>\n",
              "  .colab-df-quickchart {\n",
              "      --bg-color: #E8F0FE;\n",
              "      --fill-color: #1967D2;\n",
              "      --hover-bg-color: #E2EBFA;\n",
              "      --hover-fill-color: #174EA6;\n",
              "      --disabled-fill-color: #AAA;\n",
              "      --disabled-bg-color: #DDD;\n",
              "  }\n",
              "\n",
              "  [theme=dark] .colab-df-quickchart {\n",
              "      --bg-color: #3B4455;\n",
              "      --fill-color: #D2E3FC;\n",
              "      --hover-bg-color: #434B5C;\n",
              "      --hover-fill-color: #FFFFFF;\n",
              "      --disabled-bg-color: #3B4455;\n",
              "      --disabled-fill-color: #666;\n",
              "  }\n",
              "\n",
              "  .colab-df-quickchart {\n",
              "    background-color: var(--bg-color);\n",
              "    border: none;\n",
              "    border-radius: 50%;\n",
              "    cursor: pointer;\n",
              "    display: none;\n",
              "    fill: var(--fill-color);\n",
              "    height: 32px;\n",
              "    padding: 0;\n",
              "    width: 32px;\n",
              "  }\n",
              "\n",
              "  .colab-df-quickchart:hover {\n",
              "    background-color: var(--hover-bg-color);\n",
              "    box-shadow: 0 1px 2px rgba(60, 64, 67, 0.3), 0 1px 3px 1px rgba(60, 64, 67, 0.15);\n",
              "    fill: var(--button-hover-fill-color);\n",
              "  }\n",
              "\n",
              "  .colab-df-quickchart-complete:disabled,\n",
              "  .colab-df-quickchart-complete:disabled:hover {\n",
              "    background-color: var(--disabled-bg-color);\n",
              "    fill: var(--disabled-fill-color);\n",
              "    box-shadow: none;\n",
              "  }\n",
              "\n",
              "  .colab-df-spinner {\n",
              "    border: 2px solid var(--fill-color);\n",
              "    border-color: transparent;\n",
              "    border-bottom-color: var(--fill-color);\n",
              "    animation:\n",
              "      spin 1s steps(1) infinite;\n",
              "  }\n",
              "\n",
              "  @keyframes spin {\n",
              "    0% {\n",
              "      border-color: transparent;\n",
              "      border-bottom-color: var(--fill-color);\n",
              "      border-left-color: var(--fill-color);\n",
              "    }\n",
              "    20% {\n",
              "      border-color: transparent;\n",
              "      border-left-color: var(--fill-color);\n",
              "      border-top-color: var(--fill-color);\n",
              "    }\n",
              "    30% {\n",
              "      border-color: transparent;\n",
              "      border-left-color: var(--fill-color);\n",
              "      border-top-color: var(--fill-color);\n",
              "      border-right-color: var(--fill-color);\n",
              "    }\n",
              "    40% {\n",
              "      border-color: transparent;\n",
              "      border-right-color: var(--fill-color);\n",
              "      border-top-color: var(--fill-color);\n",
              "    }\n",
              "    60% {\n",
              "      border-color: transparent;\n",
              "      border-right-color: var(--fill-color);\n",
              "    }\n",
              "    80% {\n",
              "      border-color: transparent;\n",
              "      border-right-color: var(--fill-color);\n",
              "      border-bottom-color: var(--fill-color);\n",
              "    }\n",
              "    90% {\n",
              "      border-color: transparent;\n",
              "      border-bottom-color: var(--fill-color);\n",
              "    }\n",
              "  }\n",
              "</style>\n",
              "\n",
              "  <script>\n",
              "    async function quickchart(key) {\n",
              "      const quickchartButtonEl =\n",
              "        document.querySelector('#' + key + ' button');\n",
              "      quickchartButtonEl.disabled = true;  // To prevent multiple clicks.\n",
              "      quickchartButtonEl.classList.add('colab-df-spinner');\n",
              "      try {\n",
              "        const charts = await google.colab.kernel.invokeFunction(\n",
              "            'suggestCharts', [key], {});\n",
              "      } catch (error) {\n",
              "        console.error('Error during call to suggestCharts:', error);\n",
              "      }\n",
              "      quickchartButtonEl.classList.remove('colab-df-spinner');\n",
              "      quickchartButtonEl.classList.add('colab-df-quickchart-complete');\n",
              "    }\n",
              "    (() => {\n",
              "      let quickchartButtonEl =\n",
              "        document.querySelector('#df-fbfc1dfe-b67d-4815-8df4-ff4fa02bf4ab button');\n",
              "      quickchartButtonEl.style.display =\n",
              "        google.colab.kernel.accessAllowed ? 'block' : 'none';\n",
              "    })();\n",
              "  </script>\n",
              "</div>\n",
              "    </div>\n",
              "  </div>\n"
            ],
            "application/vnd.google.colaboratory.intrinsic+json": {
              "type": "dataframe",
              "variable_name": "data",
              "summary": "{\n  \"name\": \"data\",\n  \"rows\": 240,\n  \"fields\": [\n    {\n      \"column\": \"CustomerID\",\n      \"properties\": {\n        \"dtype\": \"number\",\n        \"std\": 63,\n        \"min\": 1,\n        \"max\": 213,\n        \"num_unique_values\": 213,\n        \"samples\": [\n          10,\n          198,\n          67\n        ],\n        \"semantic_type\": \"\",\n        \"description\": \"\"\n      }\n    },\n    {\n      \"column\": \"Gender\",\n      \"properties\": {\n        \"dtype\": \"category\",\n        \"num_unique_values\": 2,\n        \"samples\": [\n          \"Female\",\n          \"Male\"\n        ],\n        \"semantic_type\": \"\",\n        \"description\": \"\"\n      }\n    },\n    {\n      \"column\": \"Age\",\n      \"properties\": {\n        \"dtype\": \"number\",\n        \"std\": 45,\n        \"min\": 18,\n        \"max\": 410,\n        \"num_unique_values\": 56,\n        \"samples\": [\n          19,\n          22\n        ],\n        \"semantic_type\": \"\",\n        \"description\": \"\"\n      }\n    },\n    {\n      \"column\": \"AnnualIncome\",\n      \"properties\": {\n        \"dtype\": \"number\",\n        \"std\": 145,\n        \"min\": 15,\n        \"max\": 1207,\n        \"num_unique_values\": 67,\n        \"samples\": [\n          65,\n          38\n        ],\n        \"semantic_type\": \"\",\n        \"description\": \"\"\n      }\n    },\n    {\n      \"column\": \"SpendingScore\",\n      \"properties\": {\n        \"dtype\": \"number\",\n        \"std\": 31,\n        \"min\": 1,\n        \"max\": 192,\n        \"num_unique_values\": 88,\n        \"samples\": [\n          86,\n          39\n        ],\n        \"semantic_type\": \"\",\n        \"description\": \"\"\n      }\n    }\n  ]\n}"
            }
          },
          "metadata": {},
          "execution_count": 6
        }
      ]
    },
    {
      "cell_type": "markdown",
      "source": [
        "Memeriksa kelengkapan dataset."
      ],
      "metadata": {
        "id": "vtPQ1kGFm0sw"
      }
    },
    {
      "cell_type": "markdown",
      "source": [
        "![image.png](data:image/png;base64,iVBORw0KGgoAAAANSUhEUgAAAMMAAAAtCAYAAAATMd9YAAAAAXNSR0IArs4c6QAAAARnQU1BAACxjwv8YQUAAAAJcEhZcwAADsMAAA7DAcdvqGQAAARaSURBVHhe7dy/SyNpHAbwZ6+wSrPbxEJSmBRZQbCQkCqQRVAsjiB7wfsHpgibwi6NQbLNdCkiFiltVnKHBIsQQS6QSkIKQfAsjIVsEZuzmcrm7p3JdyZjzCaT2+yPOM8HBjOTmTcTeZ95v+84+CoUCv0LIsIv8pPI9xgGIsEwEAmGgUgwDESCYSASDAORYBiIBMNAJBgGIsEwEAmGgUgwDESCYSASX3yEe3FxEdvb25ibm7PWz8/PUa/XrddebWxsIB6PW68fHx9xdHSE29tba51+vKR+gh0U8WuuIVtMGZT/WsHFOw0HssUvRo4MZgc+PDzE3t7exEEwmceYx5ptmG19c1oJtVoJmqz+dKzzq6H0lSeolWpWO73l/31fMwi7sS7qT4JgOsCn1jzen+hIyha/YJmkJAoV1CoFJGT9Z2aeayrcQXVzE5vWkkVZ3vMsqWMnBrQ+Dr/6N3JFtBDDbjkjW/yBYfieylmrA2cn7r190dcBoHM5eQBcMr/HELip49mg4GggV2zBiGxA99HwMPNheFIypMKy1SVRQMUpKdTiGgGsEUFty62qDhZYRc7Zr4KCe5gY0YYnA8c/L5M0lKzPNH/a+w2cgyfu481lWAmVwUrEQOvTmBlB4xRXRgBL6/5Jw0yHwQxCKtiGbpcM1Y68Y0ug8Buw75QUVXRUp/8gvayZT1vb9bYBGK52NtPIN61dlNFteNLMI20fK5ueC2A1t4YHvfc51Y5a/2CHrt/JrbyHU06HrzjnYe6TQrCty3ma3yuI1GAgMiuIoIu7L44KtgZOrwwE3ryV9ZdvhsOgYTlsoL2fh9Nvn2kin3W/X8al6o2B11FZ92IabXjTqfZDWO59CHqfUkZWOriV907V6fBp+wBtGWEVtbN+ilUGz9SWMJZdaUiG5lXw/8Hfsj7WfMg3E+nZDUNiAUF5OYpdCtnLsEpqnGm08a0lFtRvw3jAtaz3XONBDXrBhYnrLV962RNoraTmA0BbSg/nyjqJabTxHTQ/37tGElsU5nz7/nN/tGjcddV+b+C5+OneqYLJH2Y3DM0zXKsJXnRNrnrmPfyBS7Z1tcQ9nL6g9hl2Ve91pCjspty8ttGfJP+gv3OUL62SaM01l9FKKYTVXOgP962ngwvcqFnDyti7pkmsLwVUReW5oJp5MzwyqFp+vw016+yVLymgqrehqgJHM7+PthFWk0gpcdYeUDUny4PK2d6ENSf7ue7keG5jhH6ZpTqnWg+nem31J7/ToOYV6vs7vw+1WDcX0oNzqgNc3ACRcWlIrmMpYODq1C/jwpjHMba2tnB8fPzVj1BMsy2agqSOk90Yun++gzb0DmsS+skulq4+Djyq8bK97DkDDdfIodgyEHlfxrDxIanvIIYWij4KgokP6vkYH9R7iv94mEiwTCISDAORYBiIBMNAJBgGIsEwEAmGgUgwDESCYSASDAORYBiIBMNAJBgGIvEqHo/zqVUihSMDkQX4D2gZ75bHsbGSAAAAAElFTkSuQmCC)"
      ],
      "metadata": {
        "id": "ssHlpPTxPdO6"
      }
    },
    {
      "cell_type": "code",
      "source": [
        "# Tulis di sini\n",
        "data.info()"
      ],
      "metadata": {
        "id": "OnFOKxcWKoft",
        "colab": {
          "base_uri": "https://localhost:8080/"
        },
        "outputId": "45965485-855c-45d6-e1c6-b22c3036c710"
      },
      "execution_count": null,
      "outputs": [
        {
          "output_type": "stream",
          "name": "stdout",
          "text": [
            "<class 'pandas.core.frame.DataFrame'>\n",
            "Index: 240 entries, 1 to 213\n",
            "Data columns (total 4 columns):\n",
            " #   Column         Non-Null Count  Dtype \n",
            "---  ------         --------------  ----- \n",
            " 0   Gender         240 non-null    object\n",
            " 1   Age            240 non-null    int64 \n",
            " 2   AnnualIncome   240 non-null    int64 \n",
            " 3   SpendingScore  240 non-null    int64 \n",
            "dtypes: int64(3), object(1)\n",
            "memory usage: 9.4+ KB\n"
          ]
        }
      ]
    },
    {
      "cell_type": "markdown",
      "source": [
        "Kita hanya memilih dua variable saja, yakni **AnnualIncome** dan **SpendingScore**.\n",
        "\n",
        "> Note: Jika kita memilih variable Gender, maka kita perlu melakukan preprocessing terlebih dahulu."
      ],
      "metadata": {
        "id": "Fo7qRegbm4HC"
      }
    },
    {
      "cell_type": "markdown",
      "source": [
        "![image.png](data:image/png;base64,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)"
      ],
      "metadata": {
        "id": "NM357rcePYPC"
      }
    },
    {
      "cell_type": "code",
      "metadata": {
        "id": "65741eLs66um",
        "colab": {
          "base_uri": "https://localhost:8080/"
        },
        "outputId": "ce60d5f4-5981-426e-acd6-155df9a663d3"
      },
      "source": [
        "# Tulis di sini\n",
        "X =data[['AnnualIncome', 'SpendingScore']].values\n",
        "X"
      ],
      "execution_count": null,
      "outputs": [
        {
          "output_type": "execute_result",
          "data": {
            "text/plain": [
              "array([[  15,   39],\n",
              "       [  15,   81],\n",
              "       [  16,    6],\n",
              "       [  16,   77],\n",
              "       [  17,   40],\n",
              "       [  17,   76],\n",
              "       [  18,    6],\n",
              "       [  18,   94],\n",
              "       [  19,    3],\n",
              "       [  19,   72],\n",
              "       [  19,   14],\n",
              "       [  19,   99],\n",
              "       [  20,   15],\n",
              "       [  20,   77],\n",
              "       [  20,   13],\n",
              "       [  20,   79],\n",
              "       [  21,   35],\n",
              "       [  21,   66],\n",
              "       [  23,   29],\n",
              "       [  23,   98],\n",
              "       [  24,   35],\n",
              "       [  24,   73],\n",
              "       [  25,    5],\n",
              "       [  25,   73],\n",
              "       [  28,   14],\n",
              "       [  28,   82],\n",
              "       [  28,   32],\n",
              "       [  28,   61],\n",
              "       [  29,   31],\n",
              "       [  29,   87],\n",
              "       [  30,    4],\n",
              "       [  30,   73],\n",
              "       [  33,    4],\n",
              "       [  33,   92],\n",
              "       [  33,   14],\n",
              "       [  33,   81],\n",
              "       [  34,   17],\n",
              "       [  34,   73],\n",
              "       [  37,   26],\n",
              "       [  37,   75],\n",
              "       [  38,   35],\n",
              "       [  38,   92],\n",
              "       [  39,   36],\n",
              "       [  39,   61],\n",
              "       [  39,   28],\n",
              "       [  39,   65],\n",
              "       [  40,   55],\n",
              "       [  40,   47],\n",
              "       [  40,   42],\n",
              "       [  40,   42],\n",
              "       [  42,   52],\n",
              "       [  42,   60],\n",
              "       [  43,   54],\n",
              "       [  43,   60],\n",
              "       [  43,   45],\n",
              "       [  43,   41],\n",
              "       [  44,   50],\n",
              "       [  44,   46],\n",
              "       [  46,   51],\n",
              "       [  46,   46],\n",
              "       [  46,   56],\n",
              "       [  46,   55],\n",
              "       [  47,   52],\n",
              "       [  47,   59],\n",
              "       [  48,   51],\n",
              "       [  48,   59],\n",
              "       [  48,   50],\n",
              "       [  48,   48],\n",
              "       [  48,   59],\n",
              "       [  48,   47],\n",
              "       [  49,   55],\n",
              "       [  49,   42],\n",
              "       [  50,   49],\n",
              "       [  50,   56],\n",
              "       [  54,   47],\n",
              "       [  54,   54],\n",
              "       [  54,   53],\n",
              "       [  54,   48],\n",
              "       [  54,   52],\n",
              "       [  54,   42],\n",
              "       [  54,   51],\n",
              "       [  54,   55],\n",
              "       [  54,   41],\n",
              "       [  54,   44],\n",
              "       [  54,   57],\n",
              "       [  54,   46],\n",
              "       [  57,   58],\n",
              "       [  57,   55],\n",
              "       [  58,   60],\n",
              "       [  58,   46],\n",
              "       [  59,   55],\n",
              "       [  59,   41],\n",
              "       [  60,   49],\n",
              "       [  60,   40],\n",
              "       [  60,   42],\n",
              "       [  60,   52],\n",
              "       [  60,   47],\n",
              "       [  60,   50],\n",
              "       [  61,   42],\n",
              "       [  61,   49],\n",
              "       [  62,   41],\n",
              "       [  62,   48],\n",
              "       [  62,   59],\n",
              "       [  62,   55],\n",
              "       [  62,   56],\n",
              "       [  62,   42],\n",
              "       [  63,   50],\n",
              "       [  63,   46],\n",
              "       [  63,   43],\n",
              "       [  63,   48],\n",
              "       [  63,   52],\n",
              "       [  63,   54],\n",
              "       [  64,   42],\n",
              "       [  64,   46],\n",
              "       [  65,   48],\n",
              "       [  65,   50],\n",
              "       [  65,   43],\n",
              "       [  65,   59],\n",
              "       [  67,   43],\n",
              "       [  67,   57],\n",
              "       [  67,   56],\n",
              "       [  67,   40],\n",
              "       [  69,   58],\n",
              "       [  69,   91],\n",
              "       [  70,   29],\n",
              "       [  70,   77],\n",
              "       [  71,   35],\n",
              "       [  71,   95],\n",
              "       [  71,   11],\n",
              "       [  71,   75],\n",
              "       [  71,    9],\n",
              "       [  71,   75],\n",
              "       [  72,   34],\n",
              "       [  72,   71],\n",
              "       [  73,    5],\n",
              "       [  73,   88],\n",
              "       [  73,    7],\n",
              "       [  73,   73],\n",
              "       [  74,   10],\n",
              "       [  74,   72],\n",
              "       [  75,    5],\n",
              "       [  75,   93],\n",
              "       [  76,   40],\n",
              "       [  76,   87],\n",
              "       [  77,   12],\n",
              "       [  77,   97],\n",
              "       [  77,   36],\n",
              "       [  77,   74],\n",
              "       [  78,   22],\n",
              "       [  78,   90],\n",
              "       [  78,   17],\n",
              "       [  78,   88],\n",
              "       [  78,   20],\n",
              "       [  78,   76],\n",
              "       [  78,   16],\n",
              "       [  78,   89],\n",
              "       [  78,    1],\n",
              "       [  78,   78],\n",
              "       [  78,    1],\n",
              "       [  78,   73],\n",
              "       [  79,   35],\n",
              "       [  79,   83],\n",
              "       [  81,    5],\n",
              "       [  81,   93],\n",
              "       [  85,   26],\n",
              "       [  85,   75],\n",
              "       [  86,   20],\n",
              "       [  86,   95],\n",
              "       [  87,   27],\n",
              "       [  87,   63],\n",
              "       [  87,   13],\n",
              "       [  87,   75],\n",
              "       [  87,   10],\n",
              "       [  87,   92],\n",
              "       [  88,   13],\n",
              "       [  88,   86],\n",
              "       [  88,   15],\n",
              "       [  88,   69],\n",
              "       [  93,   14],\n",
              "       [  93,   90],\n",
              "       [  97,   32],\n",
              "       [  97,   86],\n",
              "       [  98,   15],\n",
              "       [  98,   88],\n",
              "       [  99,   39],\n",
              "       [  99,   97],\n",
              "       [ 101,   24],\n",
              "       [ 101,   68],\n",
              "       [ 103,   17],\n",
              "       [ 103,   85],\n",
              "       [ 103,   23],\n",
              "       [ 103,   69],\n",
              "       [ 113,    8],\n",
              "       [ 113,   91],\n",
              "       [ 120,   16],\n",
              "       [ 120,   79],\n",
              "       [ 126,   28],\n",
              "       [ 126,   74],\n",
              "       [ 137,   18],\n",
              "       [ 137,   83],\n",
              "       [  20,   13],\n",
              "       [  20,   79],\n",
              "       [  21,   35],\n",
              "       [  21,   66],\n",
              "       [  23,   29],\n",
              "       [  23,   98],\n",
              "       [  24,   35],\n",
              "       [  24,   73],\n",
              "       [  25,    5],\n",
              "       [  25,   73],\n",
              "       [  28,   14],\n",
              "       [  28,   82],\n",
              "       [  28,   32],\n",
              "       [  28,   61],\n",
              "       [  29,   31],\n",
              "       [  29,   87],\n",
              "       [  30,    4],\n",
              "       [  30,   73],\n",
              "       [  33,    4],\n",
              "       [  33,   92],\n",
              "       [  33,   14],\n",
              "       [  33,   81],\n",
              "       [  34,   17],\n",
              "       [  34,   73],\n",
              "       [  37,   26],\n",
              "       [  37,   75],\n",
              "       [  38,   35],\n",
              "       [ 101,   68],\n",
              "       [ 103,   17],\n",
              "       [ 103,   85],\n",
              "       [ 103,   23],\n",
              "       [ 103,   69],\n",
              "       [1130,    8],\n",
              "       [1130,   91],\n",
              "       [1201,   16],\n",
              "       [1207,   79],\n",
              "       [ 126,  182],\n",
              "       [ 126,  174],\n",
              "       [ 137,  192],\n",
              "       [ 137,  183]])"
            ]
          },
          "metadata": {},
          "execution_count": 8
        }
      ]
    },
    {
      "cell_type": "markdown",
      "source": [
        "Karena standar besar/kecil di kedua variabel berbeda, maka kita perlu melakukan standarisasi terlebih dahulu menggunakan `StandardScaler`."
      ],
      "metadata": {
        "id": "jwK-PmksnIHP"
      }
    },
    {
      "cell_type": "markdown",
      "source": [
        "![image.png](data:image/png;base64,iVBORw0KGgoAAAANSUhEUgAAAjAAAAA8CAYAAAB4rIA9AAAAAXNSR0IArs4c6QAAAARnQU1BAACxjwv8YQUAAAAJcEhZcwAADsMAAA7DAcdvqGQAAAukSURBVHhe7d1HiBTBHsfx8smK4KqIEUXFeBDBCIp4WFExgBnUgwfTQQ96EDyYE+LBRcSTggnxIGJWzAdRD4IZBC8GVBTzguGgK/jer17/1952Uu/Orpbz/cAwu90z3dXVNVX/rqqZbtKtW7efDgAAICD/iZ4BAACCQQADAACCQwADAACCQwADAACCQwADAACCQwADAACCQwADAACCQwADAACC07R169br9UfPnj3d4sWL3ejRo11FRYVr3ry5e/TokX9RocaPH+/mzJnj3z9ixAj38uVLV1VVFa0FwrJo0SK3cOFCd+bMmWiJc0OHDnWVlZXu2bNn7tWrV9FSlJru3bu77du3u6ZNm7qHDx9GS/Oj/ADFU6sH5vv37+7AgQNu/fr17vz589HSwuk9eq+2oW0V09q1a92JEyfc5MmToyXODRo0yB0+fNjt2LEjWtI4unXr5vbt2+fOnj1b81D6/jSlQelS+hqK5fmCBQuiJc6fE50by4vkeSoGHZttX/tXOhqSgpcpU6a4ixcvRkv+79atW+7x48du2bJlvhGrj2S+JcuQ8ljL43ldyqzsWX419ufe6Lxv2bLFffv2zR07dswvs3OZPIdKY7y8FrP8AKUumCGkjRs3uufPn7tp06bVNNDz5s1zX79+9Vc0jUUVkfb3+fNnN3HixJqH0henCk0VV7Eb8r+NGlc19qdPn67Ji6lTp7pTp05FrygO5a+2ffTo0WhJw9FVsvZ18uTJmgYqbvfu3f55xYoV/rkuVI7UW3nnzp2afEuWoXzUONa3ES/GNhqDPvNLly51r1+/rskv/f8nqFdOFMQYlXd9BgYPHlzzmddnQ+k+ePCgu3v3rl8mxSg/AAKbA3P58mXXpk0bN3bsWF9JqHK4fv26D2waS9euXf2z0gLnunTp4t68eeMuXboULQmfel6+fPnizp07Fy2pTd3/R44ccZ07d3bTp0+PlqZj5ejevXv+OZM9e/b4hlrPpa5t27auRYsW7v79+9GSP0PB7YABA9zVq1d9OYjTZ0BD5mPGjPF108iRI33dlAzmi1F+AAQWwKgi0BXrqFGj3MyZM33l8Ccq92bNmvlKKhPrSlavRHl5uX/ONESgCi4+DJUcdtFrdWUcHzpJXikntzF8+PBozS82DJFtG7aP+H7i6ZT4NjZv3uyPK65jx44+qMzF8sW2kxwGSq6vy1BYchvJ49D/Ot748STzQ936vXr1ythAxd2+fdsHOfFjKJbkcSi9cUqzlvfu3ds/7HVphtYK2YbSod4DPWt5pn3kOm9WPpcsWVKrnCaPJ7mNNMdh8pXzXOfe0qmyrXRo/8uXL/evSZZDBTDZglvVR8ePH3edOnVyK1eu9AGX3p9JQ5YfoFQE9y2k/fv3u+rqat+Ipu0FUWVhFXHykaxUs7GuYqv0kxWl1msIZefOnb6C0nOmIYJZs2b5ys7WJYfHRPto166dX6/taJ2lU39v2LCh1lDWjRs3/Dqj4+3Ro0fN+uQ2jAIfvU7Bll7Tv39/36iIXjtp0qSa41i1apU/LqNj0mTvGTNmZM1HbWv+/Pm1hpkUgFq3utI0bNgwPyRg+1DlP3fuXL++EMl9aBs6jmQQozwdN26cX6+HGpt4mocMGeLL1tu3b6MlmSm40VyG9u3bR0sKo/Qon5IBbrzRtjKUzGtj+aR81yNTnuZT6DYsjRcuXPDrNYSjoVsp9LxNmDDB95TqNSqjyn87Vj1rKC1b2dC5Uf5Y4GzlTIFGtjKq9LZs2fK3z2a+c9+nTx+3d+9e/3e/fv188KbjGThwoF8m+vvTp09Zg1uduwcPHvi80XO281HX8gPgl+ACGFUgGkaqC1Umqhytoow/0vTkWNe+5mNYIJOp4c5l69atvrIz6hpXZamucqOhGZvfo6EGdU9ryEaUD2VlZVmv8ETHu3r16ui/37dhtJ9169b5IOrFixd+mVWs6i5Xr1c8rUnxxlANTPIKWr1VuXrLtE4Nip5F6VZDqeCtUMqP+D60DTUgCszUmBgFBJq7oPUfPnzwc6ji+dGhQwf/bGnJp1WrVqkmY9pcHjW28QA3TfDR2FTOLV/fv3/vgwPlaaHnTUGLvd+GzGwIzaicZWKfNe1H+aW06P/4PCu9V2mw//W3AiYFKPFymO/cq7xY+df79e2i+JcRdJ51vt+9exct+Z3yRWWuUGnLD4Bfggtg1BiqEVZFmeyxyEeVWX17YOKsck1eVRYi2W2uhj8NBRgayspHV6G2DzWWGu5JUi9OvBFSY6pjU96qsSqUAhld/aphiF+laxtq+HKxngl7KDBMQ42mBZP2yDSkprSp8RIds9KZdvJsKVEDHm+wlVfKMysv9T1vKm8KKhRs2DaSvWa5ZCtfluZ4oNQY515DqbrA0nHFJ/QCKL6gAhgFGaogdXWkik4VRZphBmucFXQkH3aFWBfZriqzsW7z+DdQGuLbNWoI1DDo6lX7UHCh3paGpIbh6dOnta7SFSDl6k3ReVVlb70Reqg3Jw01YPGhEHvEG9tC2NBRoYFxruGEf10xzpvEP5falrZZ6AVFtvJlPYjWo1IMOs8639mGffS51oWM0rRr1y5/oZXvIquUyw9QX8EEMFY5qIJUsKHuYgUAf8NVjnqFdHUX/0aJVZzx8XOjQEe9J/qhP7FjS0PHLjp+UbCS7HFQpR6/6lSwl6kHJhsLRmwYRunUVz81FyEbvUZzT/Q+Cxw0PKbAM1ujpG58XelbnlmgmobyXmkstOHLptDJlTbZN9twgvV8pelNSEtBW3KYJK36bKMY5y1J20r7G1IqXzr3Vg/oWPR5yjUHpa5UzvTtIU3mTVKwLBrWVdnXHLdsF1n5yg+A/IIJYOKVg9GE3kKucopJlbR1ddtDvQ02h8So4tTERwUV9jprzCz4sgmJeu/NmzdTVdy2fduGgozkNyOUV5pXo6tavUYBTdorZOWxaBuaSHnt2rVavTjxISo99Bo1HPGueQWc6mGytOqhoTxrNLUPBVp6r9bp66fxhkfnVseiddqGAij7xog1WspTTcDUZE7bhx5pAwibXKnGJdfcBJvsW+wGUpRmpT05cTV5LMl8i+dpoeqzjXznrRDJoVRtS+UnTY+oXqvPk02Itm00xNCgfohOkgGMBW/6TFoe5LrIasjyA5SKJv9rHH7qD91KQL9JoB/uevLkiV9ZV8XcFtDY1DgpWNCV/Zo1a6Klvyiw0bwNBTqZ1uPftmnTJj9xWAGSBTRpUH6A4ghuEi/Q0NQo6UpegUymHxqzX2K1X1RFadF51zCjlYO0KD9AcdTqgZk9e3bNN1v0zZq090PSzRxtHoaGQw4dOkQPDIKlIQnNYdKzUVCj+9hs27atTlffjUHDernmomgYUd8YQ92pF0X3fdPv12S63UQ2IZQfIBQ1AQwAAEAoGEICAADBIYABAADBIYABAADBIYABAADBIYABAADBIYABAADBIYABAADBCSaA0U+7x+99I7pni+7doh/uAgAApSOYAEb3HdHNEuM3btQNHnUzucrKSv8/AAAoDU1bt269Pvr7r1dWVuZGjBjhfvz44bp27eoqKirc5cuX3ZUrV6JXAACAUhDcrQQ0lNS3b1//98ePH7mnCwAAJSi4Sbz79+931dXVrry83Pe+AACA0hNcAKO7A7dp0yb6DwAAlKLgApgxY8a4qqoq9/r161oTegEAQOkIKoBZsGCB6927t7t+/bo7e/as74mZO3dutBYAAJSKYAIY/ebLuHHj3KNHj9yePXvcqVOn3J07d9zgwYNr/TYMAAD49wUTwOg3X2Tfvn3+WTShV8NJDCUBAFBagvsaNQAAQHCTeAEAAAhgAABAcAhgAABAcAhgAABAcAhgAABAcAhgAABAcAhgAABAcAhgAABAcAhgAABAcAhgAABAcAhgAABAcAhgAABAcAhgAABAcAhgAABAcAhgAABAcAhgAABAcJoMHz78Z/Q3AABAEOiBAQAAgXHuv1LjLyEIQ9dUAAAAAElFTkSuQmCC)"
      ],
      "metadata": {
        "id": "Bl7UvxQ0PVAV"
      }
    },
    {
      "cell_type": "code",
      "source": [
        "# Tulis di sini\n",
        "X = StandardScaler().fit_transform(X)\n",
        "X"
      ],
      "metadata": {
        "id": "nHCpXry-LX_F",
        "colab": {
          "base_uri": "https://localhost:8080/"
        },
        "outputId": "fe3ac969-56cc-4782-bdda-05a89f82ee7c"
      },
      "execution_count": null,
      "outputs": [
        {
          "output_type": "execute_result",
          "data": {
            "text/plain": [
              "array([[-4.31393298e-01, -4.21372977e-01],\n",
              "       [-4.31393298e-01,  9.16824758e-01],\n",
              "       [-4.24485019e-01, -1.47281405e+00],\n",
              "       [-4.24485019e-01,  7.89377354e-01],\n",
              "       [-4.17576739e-01, -3.89511126e-01],\n",
              "       [-4.17576739e-01,  7.57515504e-01],\n",
              "       [-4.10668459e-01, -1.47281405e+00],\n",
              "       [-4.10668459e-01,  1.33102882e+00],\n",
              "       [-4.03760179e-01, -1.56839961e+00],\n",
              "       [-4.03760179e-01,  6.30068100e-01],\n",
              "       [-4.03760179e-01, -1.21791925e+00],\n",
              "       [-4.03760179e-01,  1.49033807e+00],\n",
              "       [-3.96851899e-01, -1.18605740e+00],\n",
              "       [-3.96851899e-01,  7.89377354e-01],\n",
              "       [-3.96851899e-01, -1.24978110e+00],\n",
              "       [-3.96851899e-01,  8.53101056e-01],\n",
              "       [-3.89943619e-01, -5.48820381e-01],\n",
              "       [-3.89943619e-01,  4.38896995e-01],\n",
              "       [-3.76127059e-01, -7.39991486e-01],\n",
              "       [-3.76127059e-01,  1.45847622e+00],\n",
              "       [-3.69218779e-01, -5.48820381e-01],\n",
              "       [-3.69218779e-01,  6.61929951e-01],\n",
              "       [-3.62310499e-01, -1.50467591e+00],\n",
              "       [-3.62310499e-01,  6.61929951e-01],\n",
              "       [-3.41585659e-01, -1.21791925e+00],\n",
              "       [-3.41585659e-01,  9.48686609e-01],\n",
              "       [-3.41585659e-01, -6.44405933e-01],\n",
              "       [-3.41585659e-01,  2.79587741e-01],\n",
              "       [-3.34677379e-01, -6.76267784e-01],\n",
              "       [-3.34677379e-01,  1.10799586e+00],\n",
              "       [-3.27769099e-01, -1.53653776e+00],\n",
              "       [-3.27769099e-01,  6.61929951e-01],\n",
              "       [-3.07044259e-01, -1.53653776e+00],\n",
              "       [-3.07044259e-01,  1.26730512e+00],\n",
              "       [-3.07044259e-01, -1.21791925e+00],\n",
              "       [-3.07044259e-01,  9.16824758e-01],\n",
              "       [-3.00135979e-01, -1.12233370e+00],\n",
              "       [-3.00135979e-01,  6.61929951e-01],\n",
              "       [-2.79411140e-01, -8.35577038e-01],\n",
              "       [-2.79411140e-01,  7.25653653e-01],\n",
              "       [-2.72502860e-01, -5.48820381e-01],\n",
              "       [-2.72502860e-01,  1.26730512e+00],\n",
              "       [-2.65594580e-01, -5.16958530e-01],\n",
              "       [-2.65594580e-01,  2.79587741e-01],\n",
              "       [-2.65594580e-01, -7.71853336e-01],\n",
              "       [-2.65594580e-01,  4.07035144e-01],\n",
              "       [-2.58686300e-01,  8.84166361e-02],\n",
              "       [-2.58686300e-01, -1.66478171e-01],\n",
              "       [-2.58686300e-01, -3.25787425e-01],\n",
              "       [-2.58686300e-01, -3.25787425e-01],\n",
              "       [-2.44869740e-01, -7.16891644e-03],\n",
              "       [-2.44869740e-01,  2.47725890e-01],\n",
              "       [-2.37961460e-01,  5.65547852e-02],\n",
              "       [-2.37961460e-01,  2.47725890e-01],\n",
              "       [-2.37961460e-01, -2.30201872e-01],\n",
              "       [-2.37961460e-01, -3.57649276e-01],\n",
              "       [-2.31053180e-01, -7.08926181e-02],\n",
              "       [-2.31053180e-01, -1.98340021e-01],\n",
              "       [-2.17236620e-01, -3.90307673e-02],\n",
              "       [-2.17236620e-01, -1.98340021e-01],\n",
              "       [-2.17236620e-01,  1.20278487e-01],\n",
              "       [-2.17236620e-01,  8.84166361e-02],\n",
              "       [-2.10328340e-01, -7.16891644e-03],\n",
              "       [-2.10328340e-01,  2.15864039e-01],\n",
              "       [-2.03420060e-01, -3.90307673e-02],\n",
              "       [-2.03420060e-01,  2.15864039e-01],\n",
              "       [-2.03420060e-01, -7.08926181e-02],\n",
              "       [-2.03420060e-01, -1.34616320e-01],\n",
              "       [-2.03420060e-01,  2.15864039e-01],\n",
              "       [-2.03420060e-01, -1.66478171e-01],\n",
              "       [-1.96511780e-01,  8.84166361e-02],\n",
              "       [-1.96511780e-01, -3.25787425e-01],\n",
              "       [-1.89603500e-01, -1.02754469e-01],\n",
              "       [-1.89603500e-01,  1.20278487e-01],\n",
              "       [-1.61970380e-01, -1.66478171e-01],\n",
              "       [-1.61970380e-01,  5.65547852e-02],\n",
              "       [-1.61970380e-01,  2.46929344e-02],\n",
              "       [-1.61970380e-01, -1.34616320e-01],\n",
              "       [-1.61970380e-01, -7.16891644e-03],\n",
              "       [-1.61970380e-01, -3.25787425e-01],\n",
              "       [-1.61970380e-01, -3.90307673e-02],\n",
              "       [-1.61970380e-01,  8.84166361e-02],\n",
              "       [-1.61970380e-01, -3.57649276e-01],\n",
              "       [-1.61970380e-01, -2.62063723e-01],\n",
              "       [-1.61970380e-01,  1.52140338e-01],\n",
              "       [-1.61970380e-01, -1.98340021e-01],\n",
              "       [-1.41245541e-01,  1.84002189e-01],\n",
              "       [-1.41245541e-01,  8.84166361e-02],\n",
              "       [-1.34337261e-01,  2.47725890e-01],\n",
              "       [-1.34337261e-01, -1.98340021e-01],\n",
              "       [-1.27428981e-01,  8.84166361e-02],\n",
              "       [-1.27428981e-01, -3.57649276e-01],\n",
              "       [-1.20520701e-01, -1.02754469e-01],\n",
              "       [-1.20520701e-01, -3.89511126e-01],\n",
              "       [-1.20520701e-01, -3.25787425e-01],\n",
              "       [-1.20520701e-01, -7.16891644e-03],\n",
              "       [-1.20520701e-01, -1.66478171e-01],\n",
              "       [-1.20520701e-01, -7.08926181e-02],\n",
              "       [-1.13612421e-01, -3.25787425e-01],\n",
              "       [-1.13612421e-01, -1.02754469e-01],\n",
              "       [-1.06704141e-01, -3.57649276e-01],\n",
              "       [-1.06704141e-01, -1.34616320e-01],\n",
              "       [-1.06704141e-01,  2.15864039e-01],\n",
              "       [-1.06704141e-01,  8.84166361e-02],\n",
              "       [-1.06704141e-01,  1.20278487e-01],\n",
              "       [-1.06704141e-01, -3.25787425e-01],\n",
              "       [-9.97958608e-02, -7.08926181e-02],\n",
              "       [-9.97958608e-02, -1.98340021e-01],\n",
              "       [-9.97958608e-02, -2.93925574e-01],\n",
              "       [-9.97958608e-02, -1.34616320e-01],\n",
              "       [-9.97958608e-02, -7.16891644e-03],\n",
              "       [-9.97958608e-02,  5.65547852e-02],\n",
              "       [-9.28875808e-02, -3.25787425e-01],\n",
              "       [-9.28875808e-02, -1.98340021e-01],\n",
              "       [-8.59793009e-02, -1.34616320e-01],\n",
              "       [-8.59793009e-02, -7.08926181e-02],\n",
              "       [-8.59793009e-02, -2.93925574e-01],\n",
              "       [-8.59793009e-02,  2.15864039e-01],\n",
              "       [-7.21627410e-02, -2.93925574e-01],\n",
              "       [-7.21627410e-02,  1.52140338e-01],\n",
              "       [-7.21627410e-02,  1.20278487e-01],\n",
              "       [-7.21627410e-02, -3.89511126e-01],\n",
              "       [-5.83461811e-02,  1.84002189e-01],\n",
              "       [-5.83461811e-02,  1.23544327e+00],\n",
              "       [-5.14379011e-02, -7.39991486e-01],\n",
              "       [-5.14379011e-02,  7.89377354e-01],\n",
              "       [-4.45296212e-02, -5.48820381e-01],\n",
              "       [-4.45296212e-02,  1.36289067e+00],\n",
              "       [-4.45296212e-02, -1.31350480e+00],\n",
              "       [-4.45296212e-02,  7.25653653e-01],\n",
              "       [-4.45296212e-02, -1.37722850e+00],\n",
              "       [-4.45296212e-02,  7.25653653e-01],\n",
              "       [-3.76213412e-02, -5.80682231e-01],\n",
              "       [-3.76213412e-02,  5.98206249e-01],\n",
              "       [-3.07130613e-02, -1.50467591e+00],\n",
              "       [-3.07130613e-02,  1.13985771e+00],\n",
              "       [-3.07130613e-02, -1.44095220e+00],\n",
              "       [-3.07130613e-02,  6.61929951e-01],\n",
              "       [-2.38047813e-02, -1.34536665e+00],\n",
              "       [-2.38047813e-02,  6.30068100e-01],\n",
              "       [-1.68965014e-02, -1.50467591e+00],\n",
              "       [-1.68965014e-02,  1.29916697e+00],\n",
              "       [-9.98822143e-03, -3.89511126e-01],\n",
              "       [-9.98822143e-03,  1.10799586e+00],\n",
              "       [-3.07994148e-03, -1.28164295e+00],\n",
              "       [-3.07994148e-03,  1.42661437e+00],\n",
              "       [-3.07994148e-03, -5.16958530e-01],\n",
              "       [-3.07994148e-03,  6.93791802e-01],\n",
              "       [ 3.82833847e-03, -9.63024442e-01],\n",
              "       [ 3.82833847e-03,  1.20358142e+00],\n",
              "       [ 3.82833847e-03, -1.12233370e+00],\n",
              "       [ 3.82833847e-03,  1.13985771e+00],\n",
              "       [ 3.82833847e-03, -1.02674814e+00],\n",
              "       [ 3.82833847e-03,  7.57515504e-01],\n",
              "       [ 3.82833847e-03, -1.15419555e+00],\n",
              "       [ 3.82833847e-03,  1.17171956e+00],\n",
              "       [ 3.82833847e-03, -1.63212331e+00],\n",
              "       [ 3.82833847e-03,  8.21239205e-01],\n",
              "       [ 3.82833847e-03, -1.63212331e+00],\n",
              "       [ 3.82833847e-03,  6.61929951e-01],\n",
              "       [ 1.07366184e-02, -5.48820381e-01],\n",
              "       [ 1.07366184e-02,  9.80548459e-01],\n",
              "       [ 2.45531783e-02, -1.50467591e+00],\n",
              "       [ 2.45531783e-02,  1.29916697e+00],\n",
              "       [ 5.21862981e-02, -8.35577038e-01],\n",
              "       [ 5.21862981e-02,  7.25653653e-01],\n",
              "       [ 5.90945781e-02, -1.02674814e+00],\n",
              "       [ 5.90945781e-02,  1.36289067e+00],\n",
              "       [ 6.60028580e-02, -8.03715187e-01],\n",
              "       [ 6.60028580e-02,  3.43311443e-01],\n",
              "       [ 6.60028580e-02, -1.24978110e+00],\n",
              "       [ 6.60028580e-02,  7.25653653e-01],\n",
              "       [ 6.60028580e-02, -1.34536665e+00],\n",
              "       [ 6.60028580e-02,  1.26730512e+00],\n",
              "       [ 7.29111380e-02, -1.24978110e+00],\n",
              "       [ 7.29111380e-02,  1.07613401e+00],\n",
              "       [ 7.29111380e-02, -1.18605740e+00],\n",
              "       [ 7.29111380e-02,  5.34482548e-01],\n",
              "       [ 1.07452538e-01, -1.21791925e+00],\n",
              "       [ 1.07452538e-01,  1.20358142e+00],\n",
              "       [ 1.35085658e-01, -6.44405933e-01],\n",
              "       [ 1.35085658e-01,  1.07613401e+00],\n",
              "       [ 1.41993938e-01, -1.18605740e+00],\n",
              "       [ 1.41993938e-01,  1.13985771e+00],\n",
              "       [ 1.48902217e-01, -4.21372977e-01],\n",
              "       [ 1.48902217e-01,  1.42661437e+00],\n",
              "       [ 1.62718777e-01, -8.99300740e-01],\n",
              "       [ 1.62718777e-01,  5.02620697e-01],\n",
              "       [ 1.76535337e-01, -1.12233370e+00],\n",
              "       [ 1.76535337e-01,  1.04427216e+00],\n",
              "       [ 1.76535337e-01, -9.31162591e-01],\n",
              "       [ 1.76535337e-01,  5.34482548e-01],\n",
              "       [ 2.45618137e-01, -1.40909035e+00],\n",
              "       [ 2.45618137e-01,  1.23544327e+00],\n",
              "       [ 2.93976096e-01, -1.15419555e+00],\n",
              "       [ 2.93976096e-01,  8.53101056e-01],\n",
              "       [ 3.35425776e-01, -7.71853336e-01],\n",
              "       [ 3.35425776e-01,  6.93791802e-01],\n",
              "       [ 4.11416856e-01, -1.09047184e+00],\n",
              "       [ 4.11416856e-01,  9.80548459e-01],\n",
              "       [-3.96851899e-01, -1.24978110e+00],\n",
              "       [-3.96851899e-01,  8.53101056e-01],\n",
              "       [-3.89943619e-01, -5.48820381e-01],\n",
              "       [-3.89943619e-01,  4.38896995e-01],\n",
              "       [-3.76127059e-01, -7.39991486e-01],\n",
              "       [-3.76127059e-01,  1.45847622e+00],\n",
              "       [-3.69218779e-01, -5.48820381e-01],\n",
              "       [-3.69218779e-01,  6.61929951e-01],\n",
              "       [-3.62310499e-01, -1.50467591e+00],\n",
              "       [-3.62310499e-01,  6.61929951e-01],\n",
              "       [-3.41585659e-01, -1.21791925e+00],\n",
              "       [-3.41585659e-01,  9.48686609e-01],\n",
              "       [-3.41585659e-01, -6.44405933e-01],\n",
              "       [-3.41585659e-01,  2.79587741e-01],\n",
              "       [-3.34677379e-01, -6.76267784e-01],\n",
              "       [-3.34677379e-01,  1.10799586e+00],\n",
              "       [-3.27769099e-01, -1.53653776e+00],\n",
              "       [-3.27769099e-01,  6.61929951e-01],\n",
              "       [-3.07044259e-01, -1.53653776e+00],\n",
              "       [-3.07044259e-01,  1.26730512e+00],\n",
              "       [-3.07044259e-01, -1.21791925e+00],\n",
              "       [-3.07044259e-01,  9.16824758e-01],\n",
              "       [-3.00135979e-01, -1.12233370e+00],\n",
              "       [-3.00135979e-01,  6.61929951e-01],\n",
              "       [-2.79411140e-01, -8.35577038e-01],\n",
              "       [-2.79411140e-01,  7.25653653e-01],\n",
              "       [-2.72502860e-01, -5.48820381e-01],\n",
              "       [ 1.62718777e-01,  5.02620697e-01],\n",
              "       [ 1.76535337e-01, -1.12233370e+00],\n",
              "       [ 1.76535337e-01,  1.04427216e+00],\n",
              "       [ 1.76535337e-01, -9.31162591e-01],\n",
              "       [ 1.76535337e-01,  5.34482548e-01],\n",
              "       [ 7.27133885e+00, -1.40909035e+00],\n",
              "       [ 7.27133885e+00,  1.23544327e+00],\n",
              "       [ 7.76182672e+00, -1.15419555e+00],\n",
              "       [ 7.80327640e+00,  8.53101056e-01],\n",
              "       [ 3.35425776e-01,  4.13487169e+00],\n",
              "       [ 3.35425776e-01,  3.87997689e+00],\n",
              "       [ 4.11416856e-01,  4.45349020e+00],\n",
              "       [ 4.11416856e-01,  4.16673354e+00]])"
            ]
          },
          "metadata": {},
          "execution_count": 9
        }
      ]
    },
    {
      "cell_type": "markdown",
      "source": [
        "# Metode Elbow"
      ],
      "metadata": {
        "id": "inqw4Jr67InH"
      }
    },
    {
      "cell_type": "markdown",
      "source": [
        "Sebelum men-training model K-Means, sebaiknya kita mencari nilai K yang paling baik/optimal terlebih dahulu.\n",
        "\n",
        "Nilai ini bisa kita cari menggunakan Metode Elbow atau `KElbowVisualizer` pada Python.\n",
        "\n"
      ],
      "metadata": {
        "id": "93vJAzF7FFk1"
      }
    },
    {
      "cell_type": "markdown",
      "source": [
        "![image.png](data:image/png;base64,iVBORw0KGgoAAAANSUhEUgAAA9IAAABfCAYAAAAEVf9FAAAAAXNSR0IArs4c6QAAAARnQU1BAACxjwv8YQUAAAAJcEhZcwAADsMAAA7DAcdvqGQAADJtSURBVHhe7Z1tjFTXmef/ya6wbMoeFVjTLQRNQkOmgGGnExUomSUtt9Wy2ZLHqoyAjcNHj0oL6f5AFEf1hdao+VJKRuZDs3i2pHwZiTgCdlJioh4ctWirxtJYTU1MhDAtQ+HwItS1Y1yKU5g1u5vsOeeee++5t25V3Vt9u+lq/j/pQt2XOi/POff2+d/nOae+NDAw8EcQQgghhBBCCCEkFF/W/xNCCCGEEEIIISQEFNKEEEIIIYQQQkgEKKQJIYQQQgghhJAIUEgTQgghhBBCCCERoJAmhBBCCCGkS/bu3Ys1a9boPULIkwKFNCGEEEIIIYQQEgEKaUIIIYQQQgghJAIU0oQQQgghhBBCSAS+NDAw8Ef92WHLli347ne/68z3eP/993HhwgX1OSz79u3DN7/5TfX50aNH+PnPf46bN2+qfUJ6jiNFXBy6jBdzp/QB8mQzgsL5o8CJV5Gf1YcIIYQ8kcg50nNzc2q8Swh5cmjpkZYPg3/4h3/A3/7t30YW0RL5HfldmQYfLNEYnjyD6TOTGNb7YchNTWN6Wm8RvxsbuSlf3sOYPGOUZ3gSZ0T5zkwapZPf8R9baUgRvb8fc2+vBBGdw5Sw11RO75JFsAWvn/4x3iodw+t79SHNtolj4rg8F3wemEX+wgL2HCviiD5CyIpjy3q8cGw91srPI5vwiv35cSLL8ZNN6NO7YVh76GviO1/XW7TvhieBtJPH1/HCoVWwcJSy9deRHtH7j5su2n410Tfm9q/Hfy+uweCxlVCOVljl8/TdqP1ZPv/897JOY1Xc32RF0NOh3d0IztVKcTyDTCaDQqWhjzx+clN5pFFB4eAEyvqYJJEaddpseONK/5N6BMX9W3HjHD2PnYlD5C/fi4JtE4dE//w9fqf3HfZ+D6//WRVvZn+Ew2J789dA+offx0v6tMOpHM7d2Ir95wtYKeNUQlYjD05/hF++8QF+Of2JPrIUNFCRebxxFdc+04eWCCWoxhJ6jzwp1E7K/vUBZi8/0EdWMEqEfg2DW/T+40aWJ/M8FqY/QCXiWCyx5VnnZcHaDU/rT4TEA+dIk6UhN4XsYBUlU0Snkkg0qqgihVHLRY3RVA0VIf4TyZS6ZKUxUtiHrY05rAhnNImRF5D9BlB5619wXx9xeO9nyB/6Ga7r3euT/4Kb2Iy/eF0fMDiVO4cbiT14jW5pshLZ/AxsuaYGkPUv0ANDeBIXs3eUcIsqPMiTwCNUjwthf/x+DzwT1mDw0ABw+Wq0viyff599ggWsR796IbBG/P8Q1y4/EGNOeqRJPLScI/3Xf/3X+Md//MdFz2uOMy0b6YnOp4Pe5jZQKRzEhK3cZChxPu0MJBqVAg46Jy1kSHR2UO8Igq5phSpHch6VvjRkcaqlEpDNYtBXDn95m/OQIdB5lYZDw+fJlSHQRkGrpQzGi3rHQOWVmm/yAi8LsoyjdZH3XRyYzgL+Msrzu66gUB/FgbsHMT4v2ufAXZwU+/nkDDL2xV20m8cedjlmksjbF/ntKejc9nIe7DGsu/AigqZGK1vLcl/Z5bZNteTWQ+JrN+956X0dRb0wg2Re9huJrw9L/GkIvO0v07G/L6kK04/DOq3zqNSQTosrhB1K8ylkrQ7rLWsn/OVwbOrP38CXR+t26zYNs67heenEj/EdTOPwUeCN0rfx6d8dx0/f0yebeEFckwH+6Uf4yU/1IYMjxYvYj3OcP09WEDJMeRv69Z6fcF4dmcYG1C8/xPah54HPbuPSzfXYPbQWuHUdvzxpRz/58/oEl964g5rek0gP7O7Nekfhu0Z6mw4PuM98MWB+93TAlDAZliluRX/6ofHlE1RWK6R0Jzbd9Jch4LhKbz3uvPURqvbwRpVR2MtG2G1Wi5VmO9j4yuFLw99eMp3t9au4hK9gRLaHwGMzXz2b21u37Vv3kDxst90DXDPrIZAh9Xb6LkE2a83i2t6yefK9q6jv3Yntz1lHm+rjt7nCWx9/OTxpyO/v/Ryz7z2DETsdo93CoOZI//t1/OXfbHD7V4s0lF233G99rq3NO9xvyp7P4NobdWxyrvNe47GFv4xN94iL3TaqjMn7uJYcUG2yMH0dyMi8Iti8I3bbf4BrG1rbqy2yXXfWMVvfgO33PkLllqhb5gtcEvsjyXvuM6xtH7RYfP+x6mP3YUk0e5CVSk96pMsTB90wZjmYF5/lfibTLKJrYgBsnSuhls575uJKIZTtM7+fCS2iHQbTSM5kUKqKj1kpigqoNBJIWS5XS2yla2Kw36ocWkTXhFjQ1zSFZysB0ycElk6jUEFfNubwVz1/2Zln7WxnEHX68uhUFn1ClLbSaOWZefTtymF4NIXaFd9FIdpN2mPXFfu8Za/B7JSQYgaJNPJSTOs0qmJ/LGrbj7yMHYkGPr2m94MYzIq2ke8MdD5i320XIQ53XXHSl+3W8JyXiD+KedlvrGtKVbE/ZkxX8Le9zEOfsrAEqLS3nU+h0ofstGkPkWZK2ELmL+yQleJfddhdXpu1Q7aLpxxic15MFDFulE2KY+casxO0bbdwaSgRbbSbv66yXZv7sNjMKSB7v4cXv3oLvzj6rj7Qnm0T38YW3MJvAkS05NTlG0D/AMO7yQrCClNWIaRS9IrPl25ZA8RoHsq12L5FDBDfuo3GcwPYLQefMrx6c1LPc7UG9QmdrhW2+jR2G/Ng1QA0KQaV+nxTeLYexDbEoNJK4zoaQzvjn8PYlI/cwgvCUMg8Mk8LMWHkYQym7dBe2RZ2uzSVQ4lCIw1h+0SmeV5oQthIiQt9DYa+4obh3ryPd1W617GgDzUj2vawFNNWPpduif1DxnxZUY6RIbjlUO3WhYiOoe37M5agktfIPt2fMeZZK5tbIb8qDdlXfYJO1mXTVTuPgDQkon+PSDGky7Eg+3ukPvgHfOUl+ZLHzqeLNDravPP9ZvG8OLYN0Da5dEvsG1MJ2oaY233HsaN1rdw84nLzgGoT2Zf7M7IfySkRa7HpW7q+YWwehg3y5d1DXIoqog0e/Ot9JHYmsPZb69G46htfh+mDMfSfvjEhouvmPU8RvVpYtaHdUqQlqiVDzBVxVoYQG/NzFQk7zLhLhJA/a+dRnRFCvoy7zl8ZGbqcEJecNTxmvnIMjyKVqKLUSnUKcrsGRRon3ZcE5QnMKB0UWgZ1RqR50BYuns3nHe2EEGrS8RmEMx+6PIP5vlGMpWpo0tFh2q047hHpUpg3xCNto6cdzbDyIq4IezWFj3dq++3rxJ+tBdxu+7AzPaLzqItndJ9TECEOvQXFvOe8RbXk2rhoFRR2SZva3k9uFwZFGWaMC8oTM+LIIMzuUZ2xbSEG2LLDztfFp6i4L4i6IlS7tSOHXYOi/CfdyAJ/Xe2XbE2b0xe24PXDYqTy63/Gr9R+B+R86W88i991uj6xDtv1R0JWConkWjTqcvC7Rj5W0Ljn9bKEYeE9ewArBtXT4qlx63P32TGSRL8Y6F8zBtgPTt8TT83nsUkJvwQ2bRbfO916ECwHtwkhKt1BZcMKvTTmNcZBX2bAl89SYYiJLujb+Twal3/rikAhbK5JsSKEgAfT43XzC2G1tUh6PL+dWZh2xWbtqhBtz/mmAty655Zjti7a9WnRLnq/I/G1vXwBZF8jRVHDLIcK372Na3YaN3+PO0LQeWwxe8fT7k1pKIRgdcRaA3eEzaOF/34Zv/0fdaOu0dPoaPOO95uL6e1s1EWpkk/Fej/J/ufYXJX5kchH70tC2bwz/UPB3vEwOPOhZZ9IbsDuLQ9xxyiTJFQfjKv/OC8gyWpi1QrpVFLcetJbaHil/OHgctBdqADpvH2Nz6u5aFKQxajd9aqgslTatliS84bV0VYMQ+rPRDrvqYsv0nfxxOWRVhEClhe5tce8DKGhkKhd0QJU0LdRCeUw7SYFlVyQyrnGCAMPS2xtL/5yiKpoypg46PVsSw+qU85pX/h+R6y2b4d6OeEpg8Qv6GNAvmixDObUJ3pExCLbbXij+CMkPfhGGtPecPCOHunX/wvSuIyfTtojlTYIEV344RD+5GPRB8NcT8hKYWSTWplWhiJKz+UrP7FCCvsz8a7SqwaqnxnCWvEI9c9EvhvEIHLLUx3vcSn2sXmbtZKx3ppDWxeLfpGgXiosIdKbp7zD0uZWXaKtmG2V02oz1x5mSKmDZ767FYFgDvYXy4N7D0W7bHC83GsPbRAi7iEaYR+Fy9X28sXOcwPYbtt5pE/09QeoCyHjIj25bh6vGGG8cfLMf/2qpy6B7daGTjbveL85eOuvFutbhEe3O+KxuXwhoLzuLZ5b3hX9xRZ43SMsCBsm6nU3mkK/WAjXBxdfFxkFoCID7DRW7GrpJCqrVkjPSyUh51a29ExZmB6sUnUQ2VhXAQ8WNMHipxWWh1vO3/XUQ25tvNiRicsjrShivFQVeri1CFd21+VXLxY0ndtNhsIL8WReI0OW1blodGz7a5+KdPsxEGkg5KLCx+WCa3Y5MzLsX5+MCc9LGYfgFziLxuwjHdq3mRjarXxX/BGUc8j1943NvhXMNvVsuv+89OdiZLN2CD9wftoqgy14Fukfis+nv4dtVjKCF/CGFtGHw4SANz5FuxkAhCwrapEpa/VpK+RVhvjqMM0YB9Rq4G94MS3WIClEe1jvt/KWecKc9RbrwN/yli3LAkNOWLXYpj9BfybKysdWOe0QfM/mzElfTmT4tzXwt0KO4w2Fj7Pt1UsiKVBUmLc511vOTd2GfjMfFbYcM9u+wN7/ZIRli02F8Eemtc3juN+Wh3ht/uD0b8Xf1wGMBKx076zob28t+o66Tt9Dyo6azn0wvrrYIfXq2dyiPqT36GkhbYmI4PBcFTbaNB+1PUrExYr0vDaQSB9wvZ3DkxhLJ9xQ2+IVT2iqFF9+D6wM902kxyLPVX6sFMe1xzeap7dzu1kisVG3X0MIgTYW3SPtJ7DtZ9/Bh40EdrzcnZJW3nXjhcnw5FhEj7TuP05Ye8CCXLr/jBqdIzclrjGnHCwFgaHh1ouj4CkHYdutXRoyRD/hnUMekV8dtX7Syt2mcRO/R+XvxGdnpW75+9JCYD+4jDdDiOgjQ1uFWrmNGJ1BhMSE3zMXMyr09Hls98wFFINOO+xTh9ma8yb9i0KpMMnN25b8t45V6PKi8vGLcfEs6uSZMsPgDdTgvUWYpyxnwpzv/JiwQsxNQW+K0xAsU9vbobluOf2eeS00nWgEIYwOxe+R/vJzfxD//m/XYy/qG9Uj3dHmne63ONHTBbqbphC3zeUK49exIPpK3GsndO6DS9F/fGHwpKfpbY+0EGtqcSYn1NPwkOlQVLkolxniaS5a5Q27lSHENe/PNcWA9JApb6edj15Iy3Um295bXQa54rZcCMpE1DNTqvlCWs3QWjdkVolwudCW2o87VD0a5YmTqDRk3a1yKGHZiY7tZtnLDXXPIznjX4CrM+HafhbvfCiE7I6Xu1pIqjguyuW0hcgjOSP6gj4ZEmVD2GnIVc38Xm1hD+uNhVMXtRhXzP1YGMxJX22qH/ujFcqYOGktqOZc53TSsO3WLg1p0wxKNdem1hZvP1e/Ly1jrjyea7/H2uYIpI6+cZkrdpOVhjUAVKgw2whhuaFpoOILZVaLSzneHDEAPm2clytu+705OhxaLqhlpyE3d8AsPUL6uBJidnhkxN+4lV565SF283jFXKRJh8PbYfBOeLW5SNO0KLsYdFvXyQWWpKffwElDb2oRo2YBqjxsnxlhnmY5VDkfOl5Je4siNt1wVyGyxL5d5ygiRNbVbFd7C1+OONq+M2qOsNMmQWmIPira3Q2XlwuX+dotBv7wb0/ho9+vc9t07+e4dNn0jbrhwSp0WC5Opfbdtu9s8073Wxg6l8PCb7co7bIUNnfTDFsOFbbdiY59MI66GM8wval2eyxRJiRuevLnrwhZPo6geHE/+ueO49X8rD5GiAV/+ooQsvqQA//mnwCzfprpYaSVu5catTI4rntD35X3W658HtGLvgjUz1/NzeHRo25DrHvH5oQQl1U7R5qQeDiF3LkbSOw5ikI3bmmyejlSxP6tN3COIpoQsqowohkMlIevabGrx4m1OJsfa7XmpYjAWEp6xeaEEJOWHunvfve7WLPGCm14//33ceHCBfU5LPv27cM3v/lN9Vm+ofv5z3/eUx7poLnKHuTq1HGHz5KVixBNF4curz7Po/7d7tY9vYFKoZsF51Y7IyicPwqceBUMVCCErDr07+t6/jaYP7m1YpChylYIu0u037uOg8V7pAU9Y3NCiE2gkCaEEEIIIYR0JhYhTQjpORjaTQghhBBCCCGERIBCmhBCCCGEEEIIiQCFNCGEEEIIIYQQEgEKaUIIIYQQQgghJAIU0oQQQgghhBBCSAQopAkhhBBCCCGEkAhQSBNCVibyt7uLR/QOWT3I3+A+j8KI3l1pdOx3K7z8hBBCCFkWVr+QHp7EmelpnJkc1geWGZ3/tN6mcvp4E8OYPCOuOTMpPq1WrDp6bJCb8tklhynDXvZmtt/w5Bnj3JT4hg+VZsDx2LDKGNSnVNn8bdhUx2WmF/ugFDP7+zH39il9YPUT2Hc6kJty23XJ2i3W+0mK0GPYs3AB+Vl9SLNt4hjeKv1Yb8fw+l59Iiqvf99K48QL+oCXl07Yecjt+3hJH3c49Tbm+vfjfEulPIv8hQXsOVbEin/Ns2U9Xji2Hmvl55FNeMX+HDtrMHjs60uYficSSP9E5K+3Fw6t0ceb6RuT12xCn95/PLSxl2ynx14+YO2hr+GVsYTek2gbe461QfY9f1uourVvn55hhbTTkhBT3ax7zd5Wqa1Mgvp8WGLsT+rebVkO/eyx2+WxPbNXD/RILzXlCRzMZJDJlFDVh4hGCrzsIKqlDMaL+phGHssou1nbwYmyPiNNetA6XnpcFi3iisg6kRr1CZdhjKYSaMzPwC3tCqDn+uARFPdvxY1zrzaJLUk3gnO1Uhy37o9CpaGPrGxGCkexB3M4nvO9INn7Pbz+Z1W8mf0RDovtzV8D6R8GiNwOKJH853VUHugDPqRY/86fXnby+cXHm/Gd09/DNn3eQgjlE3MQShktHdOncjh3Yyv2ny+AjumVQAOVNz7AL9+4imuf6UMkRuTgexv6b13HL09Ge9YktjzrDNTXbnhafyKrHiEMd0P0F3VffoBLt57Hboq2JcYSybtxHwv6iJ++sZ3YXrfbRTwvMYCRsC/HSCCrX0hrEWEKsZVJGRMHxaD44MTKEmFLxjAmx9JApdAkonuBoqWkMWqqueFRpBINzM/4WrA4rsTOyq/nyuiDI4V92NqYwxPkjH5COILX9iRw40JeSFUf7/0M+UM/E8Mui+uT/4Kb2Iy/eF0fCMPr38eL9b/H4aPv6wN+XkD2G8/i5kU3n1/9z8v43dohZP35zOZxYq6BrftaC+VTuXO4kdiD11ayW3rzM7CHSErE1L9Ai3cMi+QRqsfFwOz4/SVKPz5qJ+UA8g5qev/x0Dv2kqw99BVsx23MRhHRsu999okY0K9H/xZ5YI34/yGuXX6ARHIVeKRJe2bveF661KZvo/Gc3RdWKTfv410hUN89/UgfWF7kfZp8T+b/hT7iY8t6bN/8ANem7XYRz6H3PhH36gYMruZ2WWK+NDAw8Ef9uXeQoYbZPqHBDsLVxzIsNY90rYSMUiwy/DaLQeskGkKwBYlpGRqZtS8SeK5T+QClzDhsDaSuh52HROfrvNBp+MplY5VHJNYkqDxlaFRQ8AsZVQ6jkAp/Pr5y+NOR3t98EjOZK9jl2KXqqdvSY5UxOZPB2Y1nkE/NN9e1jZ2aCGgfhX28BGQdu/nr2qbdlK1SmG9qR7f848WAcsp8R+tunVQ6aWcgG+R5t9N0y+G9bnjSbyfr+tS82Z/b1MXDEvdBX33995yqS3IGmSu73LSq5r0ksUJ/1114EX6npfq+aSiHaOWQtL3vO6HbuVJLIy3SaFRKmE9llf2b2s4ob3MezW0vLvLa3mf34D6k8wq8n2LAvp/s+8cuU1PbdUCG6+/7FMdfDRDSTbyAN0Rd8U8/wk9+qg+FZgteP/3fkP5f00JUv6uPCWTI918Bv8j+d/xKH5Ie7O98Ffjdr/8e+cmb+qhmpIDzx3bgw+PBkRGSI8WL2I9zeNHfWR87Mgx3G/r1np+F6Q9Q6dgIVhqJy1c9A0MZNjgy9BCXtBiV4Zu7N1vn8JkQWwHi0HONoGGmKUMaRVPb6UnU9dKbZQzE/WkE10F6ZHZi001vmSVWuW1/2Cee/BxkaObhAefZEXRdx3J0SKOjvfz2UPvPAx5vsFXP7c/pXZHCtbc+QlV3YVXX5D3M1je4dY7oTbbT+OX0U6I+63HHSD8Ustw766oM2+99hMotYZfMF7gkyyTTtcvis5enb2ja2lzms/dzzL73DEaknSQBdvWnEZRPJ/xpmG27d+9ezP37dfzl32xoURd5P21A/a17SB62701vu0m8/dTG7ENL3/bh+mBEVDtH70cd281/v5ltr/vGtfqAEJDyu9dxZ8s2ZTunDwX1n8j3vfd5203fitfmbZ7dW+4b94bbl4KfpyQMvemRLp5FpZFAynQHam9g5aw9sCtiXIWzFsS1+pAPOfjM9omBq7rO2kIPpjXDkweAk+73S1XRgceihZ12DM/UHk03D3GjVk4aQkkPyOVLBPsaMcjPN4W/DiKrhZSVjtiPMHFXig9nPqa5RZ38u3ESY+kaSm0G/YNZbx7R5xeLuklRq+wh+4BZ12Z7ZUo1pPNnoKY9l+96HqAuKSRFH6vPy89WePfgLrdguV1CXNTuunUKEVKdm/KVQ2xRtIlkRfRBLV5rum/JOtfS+eZ55INZLcqsa6pi39O2Iy9jh7Dxp9f0voEd0q/KKAWnLksm0yyi25UjjvseiTRS9YIqSyKdVS9XpE3s/qCErezjTh7+cjT3wSbbK8EqXxjqNAoV9In7Ivq9ECNmmXRHlXU171Vn8z1/jgxtFX+txSBH77dj28S3hRy+hd9EFtEdeFDHx+qDFOo/Vh7sX4gDf5IcUEc9zL6DD8XfmXXb9X4Apy7fAPoHVmB4t/hb+MYHmL0shktyIKZCK60BnvwcbsDUsLyHRmiu5VVcK9KpOc9Iy8Or8wpADt52J0W7i2uscMIuPDZiULnpqvt9mVd/Jtp8wgenP7K+P/2JPuJHPDfFgLwhBpR2Pk2e647l6JxGJ3t5UIPpp4VQEt8xBtNrD4kcT7t5XLq1FtsP+cJmN2+zBKu85q3baIj9dOSO+hQGD8n6RBTRBg/+9T4SOxNY+631aFz1PeO0CHLtdR2NoZ1N86o7tv1z4h6UYkinsSD2dxtpxNEHlZAy0/D3o/X/B/9ZiOi2dREttP2wFNPWNU3tJuo6MgSrvZ08vKJu+dpeE9QHZbvZc2w929daejb7MkLsfnYfCxH6Ued2E0JQiU/7fHPby76xqX5V9ZvE0DblsZXPwn7RJx08/UdOD3keu81w54590Hrexja1JCabB2JHJan0dgp7WGVObGCUSLf0aGh3GTPzYgBrzFEdHk0hUZ0xxGVI/OG5ESlPjHvytEJ+k0JyLQ1KBKDkHfirlwhVlAwFVjxbQSOgbqZHa74ubtC+jaEFly22mraIym8w7XoLWyHLaeYRVVyKFAyhXsbEjGgXu65NL10Enpcz86iLz0nViNKLqwW2D9XWg7vEFZIcpI6uXolcUCON7lgJfdC6/0pGOxVxVorMpnnkZmSAtLNsFuOK7etE31jA7S7fjIYuxyLve1mPGbv+QtTLrqTuJ4WeK185q+sp8ZUj4J71I1/MeF5WlCcgu7H58mY52SgFc1MkkCyWXrPAv3lelI1goF+YKugNiR85X/obz+J3v/5nx3McK2oxsm/j07/7keOF/l39tvo/iP6BDiPQxDq00dqPlURSiN66HHiukY8ENO5FEw9SBHnCMYWo3vTcJ7gWVQgvNqRz9o5H/Kty4Wkh8vWBGPEMsP2ELEfbNEKSECLCGkw3i9gHp+94jtWuCsH1nBvGr5CeOXsQfvP3uNPNYHnzgOH5jIYzH1rmndyA3Vse4o7vuS7FdeLWdcOmAS9vQtlciE3Hy9bAHSGUmsLHF9UHE9gkQ2JP23k08+Wv/F+svf1x+7oIFoyXEv52Uza7dc9t29m6+Gvoreuytb2gZR/UIcy2sHS3Fi9chDCU3tyF91rbryVt2+0RqifNNIPa3nheCbtcE+3TqPtLYfYfHe6cfCpiH4yH2GzeBvmC4pXDz+Ca+L5dr6h/G4hLz86RLk/MoOoMhq2Ba1QRIweAhQqQzttelC5WppUeMNML0xT+GiMiL+XJ9Q++U0nxEJXeZqMcRmiri+1NtVAD4AihoHF5pKVILlT6kF3uBaNscansVcNdT8XLuFuTl8grrM9K4OV2oU/8PVICe3gj+szvFa8IOTUIpWvEdYNiL6qOli8nVGSAbctubLIC+mAqKXqb9DYb5QgMw27UhXy2seZkR/YGtyFMOWK579siIxfEAMfbwVC2OpjRB9sxjI194vJ03lOXpWza9gwirWLXm19WhvVIh0KI6MIPh/AnH4t284dax8HaIfzgxTrezB7HT9+TB7Zg05+qM6sL6dH4iRWKmBjaKT5b4Xv9ma9HW6VVDN6u3VqLTd+yBqaW8Kl7vbQdkJ7g2cvA9sO2B6WblWllqKL9fbGZoZyxIb1K17GweZuTT/Oqt53KESaNMDyP7TIs1xRVJn7vlBOSGjMymuGt20hkWni9mrxkQdc9Ul7IRN3oN1qkyBc9MGwlt+aw5sW3/aL74JanOub5H575AzDwVbecYmuuS3se3Hvoma+69tAG9OMhGmYfWK62b9cHo3hHlXf1eRUNY4rRMIRpNyUKjTJ4Q+8XgeflxHI8fyQx2bwdTrSCHeWwBskuX5YRix5ebEyG1moPovTuwPIKRcX0pihBE2nwl8OUEKyoFFwvzJKtJD2MyTE5bzdgTvN8Xfz5lp4+XQZnC5on2z1xeaQl5YmTosXSyC9TnOqwVCW2iFP26oPpCLWFS0O/abC9i7ldfZg/OYOa9CRK8eMRgpZHVXoIVVh39Upz24TAtWuhC5usjD6o7CXnzNplsLeoc3avfSraph+dnICtCFuOxd33nQjwtAs8fbAj1sscOa/aUw+5dXG/LR75fBH9sy/b9OLMtKVn89h8FrcXxHCkXZy0DLfWItoztzkufnoVcmxiLjYmRr5Yt/b3uH7RP2pxWegUHtH4FCH87MuLXOhHhxnKuW8q5BFyLqX47Js72gnp8bK8ajKsW9yizkI14XHCqsUWffVeOY9Prxhte2FkuKo+Gy92iKaVB4Z2GiGxYcvRLo2wyHBe0X5JITKbVtS1wsehw/TV5g8zjpOb93FJiZkA8dnkJQv2jqn21x5SJRY1yjNo2tPePHM442n7xfXBzvy/z8Vw+vbHbjntLeL9JqShIxytMG9zasBytn2bPhjWOyrFnxbRkadzaNq2mxDpnlB4dY0+twhUZMBnn+t+tpzPnxhs3gbLky7+DpjPcPWS6JOmaBESnh4W0kKAnK1IVyFyoykxdl38Tw65oZkan+BSIa2mR0h5KE3PkxA1S+QyknNpU/PmvGiD8gzmPXOAewHpjbTmyAb9HnO85HAgbfwslbKX+IN0wLXX8OQY0gk3XFd6DxPJA9jVN4+ZchFXaimMbhQnzDnQ4pOcYiA9oLLZuwrr9mCJJxOPF1Og5lSbz9cV0gfLM/No+Oc7d4Oel7rj5dYjT8smwaHZ3ZSj6b5fNHrqSfqAaA2N8uQnUJ3R4tKMZhDIZ4vfcy5D9BPpscBpBVGRi2JdvHix9c85hcK9ZyOviyBQ84m3DrX47WW5QFgGWx5cxpttRfQRFEU9Ll7s5jec38VvPhY5/ZX7s1ovnZB5VlFW3mkfbebr20SZ9/14eID6YgeWszVckysvjzyLTfJnVUIO2lrRFFZ5Sw5Y3TBJNS/S41WyPCZWiLq1L+ft+uVl7Nz8wjdY7qIcTWlEQa7srb3b5qBae0fdUEzxt2zJvJIWUswshfhUA3tRv9YvGpam7ZtDezugwqPdyAzby2ryh9/+RzwY+Gr3c5EFfTst0dlSJC1727fog6GwRL8M3e9WRPvxt5s1fcDw2OsQ8sWRUF7hhmhz+2XO8j5/FmPzDuh+7M6p13WJGGVEvPTmqt0OesEeOdcwcOXmAEFhrDTrX7nX8rp40/FcI75bqI9aKw/rNLwD4AYqpXmksnJ1bCudoAGyxF3BV87BdVcXdzHK0qIu3lWAbVvoXYm5ArAM/w1ciXo5scporXqtD+m6dbKHez6gngphe7tuqq7e0Pbm1Y79+fjaXqchPb0q36Zyapy8mvtO57bv0GYK7zXyuzPJPEbrbjm8+TzGPhhgd/O8KkeIlaVHCudxbMeHbVd39t67RttLOpQjzH3fFmULaxXreaNOkJ+NZ4M/n6Y+aNpUtvtMEnlz1XdJgN3ddEK0m41cMXu/EH2NuZCrZhsY9VVptunz7ZEieD9wrnlFdvn7zj/4xrN6z0AKa+NnsSRqpWxVleN41VxO2w4L17sOvjTslboVAenbdO6HreuzMhADWbVKsBiMCyH8gpoT51s8KyRS3Mow1eaVXWUe7mq1LtKzYuXVbqVjG881YuCtVhw2V3b2CZeFadFiGV03OYgOEDYK6UVSaYgBo2elYxtjxWPpPfOFbDZ50jqVo2Mane1l5WGs3uuk6V5jt4eF9DDdx6aM277qfMDqvEGrmbdCpWG2gV32gBWxg1Bt6lt5XSHrJxd2stPoZLNQbW/YS+DPO0wf7IinnOL7b32O7cY9FbRqt8Sti2U/mPdQy7b2Yt53y9H2rcsV3m7NNtc492RnOreb774WffPSzfXYbfdbox4Nwy4w+7avf0mannO+a6I/f0IQg83DlcNnsyhlJIH0uJAmhKw+LIHS7xdKZBFYNt164/H+VJMSp3sWhPbMoetS6JcCN5ZSwPb0T18RQpYbJaTn5vDoUUix2kSw4LWEs/tzcyRm/AKWkIj0dGg3IWQ1cgq5czeQ2HMUhUWEyRGXkcI+bBX/37j8eEXfbP4E5hpbsb/rGPMRFPapmmDpqiLyOLoHmDvRUkRLMb9/6w2co4gmhMRC8KJPakE2Z74uIWSlQY80IWRlIj2PQ5eX1eOnws8DwuAdmkLvVzraEy2GYXNtvKvLixCq548CJyKWZzHh6VHo2O+6LD8hZNWyeI+0ICi0O2QoPekSeqTJIqGQJoQQQgghpEtiEdKEkJ6Dod2EEEIIIYQQQkgEKKQJIYQQQgghhJAIUEgTQgghhBBCCCERoJAmhBBCCCGEEEIiQCFNCCGEEEIIIYREgEKaEEIIIYQQQgiJAIU0WdnI33QtHtE7Eej2e4QQQgghhBDSgdUvpIcncWZ6Gmcmh/WBZUbnP623qZw+3sQwJs+Ia85Mik8rn9yUW6fp6Sl4qhWXzaUY3t+PubdP6QMy6TMivzPwJp3DlCyHadxTb2Oufz/OF0b0AUIIIYQQQgiJB3qkl5ryBA5mMshkSqjqQ72OFLPZwSpKql5yG0dRnwuDEsMdXxgcQXH/Vtw49yrys/qQoDxxEKVqAukx9/u5qSwGGxUUxs1SzCJ/Yg7Ycwx0TBNCCCGEEELiZPULaS1kD06U9YGVShkTB4UoPTghPq1sUskEUL3SWjzHYPORwj5sbczBcEY7FM9W0EikcUA6oIcnMTooijMTYLfZPE7MNbB1XwH0SxNCCCGEEELi4ksDAwN/1J97h9wUprN9qBQOwtVqMjQ6j3SthIzyTMpw3yyExlI0KoVAYSdDlLP2RQLPdSofoGR4XNX1sPOQ6HyFtrRo+MplY5VHJAaP41TgKYP0rPrFtCqHUUiFPx9fOfzpyHDrfBIzmSvY5dhFepWjeZMlzTawaW9z6YnOu4Yy8NdlBIXzx7DuwovIBQhpiUorVRM1GMSg0+YBjBRw/tgOfHjc69kmhBBCCImDvXv3Ym5uDo8ePdJHCCFPAr3pkS6eRaWRQGrUCA4eHkUqIQTZWVtQFTGuwo4L4lp9yIcUY9k+ITidEOXoXtThyQPASff7/rDjMBTHre8WWhW0OO6kb+UhRerJ4JcI9jW1NPJN4dODyGoxb6Uj9ltP2vah5yGLTWn6wawzR9qdC93e5jIsW+ar6imFvi5rJuN78TDyMnaItvz0mt4PoDxxEhUpoj1tHsDsO/hQ9JV12/U+IYQQQgghhCySHg3tLmNmvoFEatQRisOjKSSqMwGe4A4kUjD1eFTKE+OePItXhMpNJJHS+3GjxD9KXsGvXiJUUTK8slb4c3PdqoZHfL4uBG3fxpCi3xbJlpAXCWkRvARh89vXIYEF3G7nQVZ11p9D0D/A4G5CCCGEEEJIPPTsHOnyxAyqjlAcxqhQVdUrbTyTAUgPaaECpPMtVp8Og29V7uYQ7BgReY2lax7BrEglhfCU3majHPm0OOangfq8/ihQHuIemJMdRO6AqF+jgkoXEQCEEEIIIYQQshh6eLGxIq4IEaXCu6V3EhW0i/BthR1ubHlahRiN9PNTOUwJwYpKwUkjo9y1S8EwJsdSmC8EzGmerwuJbK6ibW9Bc7V7gGufivr0o6UTOTelwsvlAmMTeuGxsQ4/tbXQ1r1NCCGEEEIIIeHp6VW7ZfiyUNLIjaaEmJxZtGdVhTqbKIHah41ao6mwatPhPLxRnAVqd+2chbBeIo90biqP1Lw5L9qgPIP5RpT5zm1wPOxdeOdDUr5bax9Sr+c173g5SElrG1dLVoh6eQInKw0k0mO+35bWhJhvTQghhBBCCCFR6M1Vux3slaoDVp8OXOlaIOf26tBo/4rd4mRTOp5rxHcL9VHkkzNOGmr1aHepbFRK80hl5erYVjre8y7uitbela5djLK0qIt3VWz/6uECc+VutWq39Gh38FKr62RYeIBNNS1X7Q5hcxuv7f2rdsvFts/j2I4PcfzVPExfsvU9f9l03dG84nmrdAghhBBC4oCrdhPyZNLjQpqsXo6geHE/+ueO49Vuf7eKP31FCCGEkCWGQpqQJ5OeDu0mq5lTyJ27gcSeoyh0teD2CApH9wBzJyiiCSGEEEIIIbFCIU1WLqdyePHcAva8dkQfiMCR17Bn4Vz33mxCCCGEEEIIaQFDuwkhhBBCCOkShnYT8mRCjzQhhBBCCCGEEBIBCmlCCCGEEEIIISQCFNKEEEIIIYQQQkgEKKQJIYQQQgghhJAIUEgTQgghhBBCCCERoJAmhBBCCCGEEEIiQCFNepwRFM6fR2FE79ocKeJisYvfnyaEEEIIIYSQDqx+IT08iTPT0zgzOawPLDM6/2m9TeX08SaGMXlGXHNmUnzqUXJToo5TaFnF2JEi+hj2LFxAflYfsjn1Nub69+N8k8ImhBBCCCGEkMVBj/RSU57AwUwGmUwJVX2IxMNI4Sj2YA7Hc6f0EZNZ5E/MAXuOgY5pQgghhBBCSJysfiGthezBibI+sFIpY+KgENwHJ8Qn0pkjeG1PAjcu5IVkbsFsHifmGti6rwD6pQkhhBBCCCFx0ZtCWoUQn4E3WluHRjux0zlMGSHVrUK7c1PuNU3XBYQqq+s98dk6XycNf7k64ylDUGi3Kodxjdpa1N8+709HhZjLuph26SIM21+WTuVtOt/GXqqMQfazvuMx+5EhbG3M4e0gZ7TB7DsfopHYgZeppAkhhBBCCCEx0ZtCungWlUYCqVFDcQ2PIpVooHK2qA8UMa5CqgviWn3Ix/DkGWT7Kiio66wtqud6ePIAcNL9fqmaQHos2jzn4rj13UKrghbHnfStPIBG5STcokqhmUe6VnKvqaWRbxKxg8hOZ4GSnY7Ybz1puxkpdLN9qBTcsjR70EWao3Vt0xKqiTTGXKXcVM5MqYZ0Xovn8l3UrAt9pJAUbVuf17uCI0NbgYXbrb3RNrPv4EPRV9Zt1/uEEEIIIYQQskh6NLS7jJn5BhKpUUcoDo+mkKjOGOIyJIkUTD0elfLEuCfP4hWhchNJIf2WBiX+UfIKfvUSoYrSuP0SQb5rqKARULeqENH2ZfN1Idz7NkYS/aJy3hcYTYhyOOK6CMsc2hpNLzsEnpci86iLz9bl0nPeyrs/goF+oPHpNb3fmf4BuqQJIYQQQggh8dCzc6TLEzOoOkJxGKOpBKpXDIEWgvLEQRQqQDpvhxl3EersW5V7OjuoTywBIq+xdM0jmBWppJC30ttslCOfFsf8eL26sv6R5mTL+eaWwZx8oji0rXLWcNeTYRl3a7bYtj73bRSNmtuFPqHzlcAe3oi+pu8RQgghhBBCyOOhhxcbk95O7cmUnk5UYDo6w6LEpA4zVqHOQXN+W5LDlBCsqBSMUOWlWpt7GJNjKcwXxkXNfczXhUSuomSXwdkORvfQd8JZhVxsoq6D2VZe4wBUOfsgdbLLMDb2CYmvFb7ykgtyu/owf3IGNRl1IAV4ow73HcAsbi8I8R0hXnvhdscgcEIIIYQQQggJRQ8LaSt8WShp5EZTQoHNhPestsAWcQ4+4afCqk2Hs/KUAjXHVSqE9RJ5pHNTeaTmzXnRBuUZzDciznduheNhD+GdV/aJgCpnAukDbsrDk2NIJ6qY0RUr360hkTyAXX3zmCkXcaWWwuhGcaJ219O+py7fALYOoeMvW428jB2JBiJEgRNCCCGEEEJIW3paSCthhjSy6ZojxByclaPzQqgBCTsc2RCb/hW78zJs2gx1Lk9gRi4epkO/88kZ74Jg4vxJsT+YtdMYRb1U8YhLKb6tc1lIiW1f664O7q6inbcKirzaN4SsqIvU504d9OamIX86q4BKX9ZzPnBF7cXgX7E7n0atFMXrLctZQnXQLaeyecbwsktxPjiIPv1ipHilhnR60PFYO5y6jBvYiqEOSnrk5R1IND7EO3RIE0IIIYQQQmLiSwMDA3/UnwnpKUYK53FszwLOvZhD4K9gjRRw/tgOfHj8VeQppAkhhBCyBOzduxdzc3N49OiRPkIIeRLobY80eaKZzZ/AXGMr9heD3NIjKBzdA8ydoIgmhBBCCCGExAqFNOlhZpF/9Tjm+veh4P91qyOvYc/CObxKFU0IIYQQQgiJGYZ2E0IIIYQQ0iUM7SbkyYQeaUIIIYQQQgghJAIU0oQQQgghhBBCSAQopAkhhBBCCCGEkAhQSBNCCCGEEEIIIRGgkCaEEEIIIYQQQiJAIU0IIYQQQgghhESAQpoQQgghhBBCCIkAhTQhhBBCCCGEEBIa4P8DjhJ/qpGQlMgAAAAASUVORK5CYII=)"
      ],
      "metadata": {
        "id": "SaA8OENZPRPI"
      }
    },
    {
      "cell_type": "code",
      "source": [
        "tes_model = KMeans(random_state=42)\n",
        "visualizer = KElbowVisualizer(tes_model, k=(2,10))\n",
        "visualizer.fit(X)\n",
        "visualizer.show()"
      ],
      "metadata": {
        "id": "B81TqxVkBXbc",
        "colab": {
          "base_uri": "https://localhost:8080/",
          "height": 837
        },
        "outputId": "f8324396-f486-4a0e-b546-836a09a01616"
      },
      "execution_count": null,
      "outputs": [
        {
          "output_type": "stream",
          "name": "stderr",
          "text": [
            "/usr/local/lib/python3.10/dist-packages/sklearn/cluster/_kmeans.py:870: FutureWarning: The default value of `n_init` will change from 10 to 'auto' in 1.4. Set the value of `n_init` explicitly to suppress the warning\n",
            "  warnings.warn(\n",
            "/usr/local/lib/python3.10/dist-packages/sklearn/cluster/_kmeans.py:870: FutureWarning: The default value of `n_init` will change from 10 to 'auto' in 1.4. Set the value of `n_init` explicitly to suppress the warning\n",
            "  warnings.warn(\n",
            "/usr/local/lib/python3.10/dist-packages/sklearn/cluster/_kmeans.py:870: FutureWarning: The default value of `n_init` will change from 10 to 'auto' in 1.4. Set the value of `n_init` explicitly to suppress the warning\n",
            "  warnings.warn(\n",
            "/usr/local/lib/python3.10/dist-packages/sklearn/cluster/_kmeans.py:870: FutureWarning: The default value of `n_init` will change from 10 to 'auto' in 1.4. Set the value of `n_init` explicitly to suppress the warning\n",
            "  warnings.warn(\n",
            "/usr/local/lib/python3.10/dist-packages/sklearn/cluster/_kmeans.py:870: FutureWarning: The default value of `n_init` will change from 10 to 'auto' in 1.4. Set the value of `n_init` explicitly to suppress the warning\n",
            "  warnings.warn(\n",
            "/usr/local/lib/python3.10/dist-packages/sklearn/cluster/_kmeans.py:870: FutureWarning: The default value of `n_init` will change from 10 to 'auto' in 1.4. Set the value of `n_init` explicitly to suppress the warning\n",
            "  warnings.warn(\n",
            "/usr/local/lib/python3.10/dist-packages/sklearn/cluster/_kmeans.py:870: FutureWarning: The default value of `n_init` will change from 10 to 'auto' in 1.4. Set the value of `n_init` explicitly to suppress the warning\n",
            "  warnings.warn(\n",
            "/usr/local/lib/python3.10/dist-packages/sklearn/cluster/_kmeans.py:870: FutureWarning: The default value of `n_init` will change from 10 to 'auto' in 1.4. Set the value of `n_init` explicitly to suppress the warning\n",
            "  warnings.warn(\n"
          ]
        },
        {
          "output_type": "display_data",
          "data": {
            "text/plain": [
              "<Figure size 800x550 with 2 Axes>"
            ],
            "image/png": "[encoded data removed]"
          },
          "metadata": {}
        },
        {
          "output_type": "execute_result",
          "data": {
            "text/plain": [
              "<Axes: title={'center': 'Distortion Score Elbow for KMeans Clustering'}, xlabel='k', ylabel='distortion score'>"
            ]
          },
          "metadata": {},
          "execution_count": 11
        }
      ]
    },
    {
      "cell_type": "markdown",
      "source": [
        "Berdasarkan hasil Metode Elbow, Titik Elbow berada pada K=5.\n",
        "\n",
        "Maka nilai K terbaik/optimal adalah 5."
      ],
      "metadata": {
        "id": "8KUs3kBxs8m7"
      }
    },
    {
      "cell_type": "markdown",
      "source": [
        "# Modeling"
      ],
      "metadata": {
        "id": "HSMpew53tp61"
      }
    },
    {
      "cell_type": "markdown",
      "source": [
        "Selanjutnya kita lakukan training model menggunakan algoritma K-Means dengan:\n",
        "- cluster bejumlah 5 (K=5)\n",
        "- random state bernilai 42\n",
        "\n",
        "Random state berguna untuk mengontrol ke-random-an inisiasi centroid.\n",
        "\n",
        "\n",
        "Kita juga bisa men-tuning hyperparameter K-Means lainnya. Baca dokumentasi lengkapnya [di sini](https://scikit-learn.org/stable/modules/generated/sklearn.cluster.KMeans.html)."
      ],
      "metadata": {
        "id": "0O7lycbhtzF2"
      }
    },
    {
      "cell_type": "markdown",
      "source": [
        "![image.png](data:image/png;base64,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)"
      ],
      "metadata": {
        "id": "SELj-I_nPM4H"
      }
    },
    {
      "cell_type": "code",
      "source": [
        "# Tulis di sini\n",
        "jumlah_cluster = 5\n",
        "randomizer = 42\n",
        "model_kmeans = KMeans(n_clusters=jumlah_cluster, random_state=randomizer)\n",
        "\n",
        "model_kmeans.fit(X)"
      ],
      "metadata": {
        "id": "AiL89o6X7MYj",
        "colab": {
          "base_uri": "https://localhost:8080/",
          "height": 130
        },
        "outputId": "5878c5dd-539b-4142-86bf-7b24d7cb14fc"
      },
      "execution_count": null,
      "outputs": [
        {
          "output_type": "stream",
          "name": "stderr",
          "text": [
            "/usr/local/lib/python3.10/dist-packages/sklearn/cluster/_kmeans.py:870: FutureWarning: The default value of `n_init` will change from 10 to 'auto' in 1.4. Set the value of `n_init` explicitly to suppress the warning\n",
            "  warnings.warn(\n"
          ]
        },
        {
          "output_type": "execute_result",
          "data": {
            "text/plain": [
              "KMeans(n_clusters=5, random_state=42)"
            ],
            "text/html": [
              "<style>#sk-container-id-1 {color: black;background-color: white;}#sk-container-id-1 pre{padding: 0;}#sk-container-id-1 div.sk-toggleable {background-color: white;}#sk-container-id-1 label.sk-toggleable__label {cursor: pointer;display: block;width: 100%;margin-bottom: 0;padding: 0.3em;box-sizing: border-box;text-align: center;}#sk-container-id-1 label.sk-toggleable__label-arrow:before {content: \"▸\";float: left;margin-right: 0.25em;color: #696969;}#sk-container-id-1 label.sk-toggleable__label-arrow:hover:before {color: black;}#sk-container-id-1 div.sk-estimator:hover label.sk-toggleable__label-arrow:before {color: black;}#sk-container-id-1 div.sk-toggleable__content {max-height: 0;max-width: 0;overflow: hidden;text-align: left;background-color: #f0f8ff;}#sk-container-id-1 div.sk-toggleable__content pre {margin: 0.2em;color: black;border-radius: 0.25em;background-color: #f0f8ff;}#sk-container-id-1 input.sk-toggleable__control:checked~div.sk-toggleable__content {max-height: 200px;max-width: 100%;overflow: auto;}#sk-container-id-1 input.sk-toggleable__control:checked~label.sk-toggleable__label-arrow:before {content: \"▾\";}#sk-container-id-1 div.sk-estimator input.sk-toggleable__control:checked~label.sk-toggleable__label {background-color: #d4ebff;}#sk-container-id-1 div.sk-label input.sk-toggleable__control:checked~label.sk-toggleable__label {background-color: #d4ebff;}#sk-container-id-1 input.sk-hidden--visually {border: 0;clip: rect(1px 1px 1px 1px);clip: rect(1px, 1px, 1px, 1px);height: 1px;margin: -1px;overflow: hidden;padding: 0;position: absolute;width: 1px;}#sk-container-id-1 div.sk-estimator {font-family: monospace;background-color: #f0f8ff;border: 1px dotted black;border-radius: 0.25em;box-sizing: border-box;margin-bottom: 0.5em;}#sk-container-id-1 div.sk-estimator:hover {background-color: #d4ebff;}#sk-container-id-1 div.sk-parallel-item::after {content: \"\";width: 100%;border-bottom: 1px solid gray;flex-grow: 1;}#sk-container-id-1 div.sk-label:hover label.sk-toggleable__label {background-color: #d4ebff;}#sk-container-id-1 div.sk-serial::before {content: \"\";position: absolute;border-left: 1px solid gray;box-sizing: border-box;top: 0;bottom: 0;left: 50%;z-index: 0;}#sk-container-id-1 div.sk-serial {display: flex;flex-direction: column;align-items: center;background-color: white;padding-right: 0.2em;padding-left: 0.2em;position: relative;}#sk-container-id-1 div.sk-item {position: relative;z-index: 1;}#sk-container-id-1 div.sk-parallel {display: flex;align-items: stretch;justify-content: center;background-color: white;position: relative;}#sk-container-id-1 div.sk-item::before, #sk-container-id-1 div.sk-parallel-item::before {content: \"\";position: absolute;border-left: 1px solid gray;box-sizing: border-box;top: 0;bottom: 0;left: 50%;z-index: -1;}#sk-container-id-1 div.sk-parallel-item {display: flex;flex-direction: column;z-index: 1;position: relative;background-color: white;}#sk-container-id-1 div.sk-parallel-item:first-child::after {align-self: flex-end;width: 50%;}#sk-container-id-1 div.sk-parallel-item:last-child::after {align-self: flex-start;width: 50%;}#sk-container-id-1 div.sk-parallel-item:only-child::after {width: 0;}#sk-container-id-1 div.sk-dashed-wrapped {border: 1px dashed gray;margin: 0 0.4em 0.5em 0.4em;box-sizing: border-box;padding-bottom: 0.4em;background-color: white;}#sk-container-id-1 div.sk-label label {font-family: monospace;font-weight: bold;display: inline-block;line-height: 1.2em;}#sk-container-id-1 div.sk-label-container {text-align: center;}#sk-container-id-1 div.sk-container {/* jupyter's `normalize.less` sets `[hidden] { display: none; }` but bootstrap.min.css set `[hidden] { display: none !important; }` so we also need the `!important` here to be able to override the default hidden behavior on the sphinx rendered scikit-learn.org. See: https://github.com/scikit-learn/scikit-learn/issues/21755 */display: inline-block !important;position: relative;}#sk-container-id-1 div.sk-text-repr-fallback {display: none;}</style><div id=\"sk-container-id-1\" class=\"sk-top-container\"><div class=\"sk-text-repr-fallback\"><pre>KMeans(n_clusters=5, random_state=42)</pre><b>In a Jupyter environment, please rerun this cell to show the HTML representation or trust the notebook. <br />On GitHub, the HTML representation is unable to render, please try loading this page with nbviewer.org.</b></div><div class=\"sk-container\" hidden><div class=\"sk-item\"><div class=\"sk-estimator sk-toggleable\"><input class=\"sk-toggleable__control sk-hidden--visually\" id=\"sk-estimator-id-1\" type=\"checkbox\" checked><label for=\"sk-estimator-id-1\" class=\"sk-toggleable__label sk-toggleable__label-arrow\">KMeans</label><div class=\"sk-toggleable__content\"><pre>KMeans(n_clusters=5, random_state=42)</pre></div></div></div></div></div>"
            ]
          },
          "metadata": {},
          "execution_count": 13
        }
      ]
    },
    {
      "cell_type": "markdown",
      "source": [
        "![image.png](data:image/png;base64,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)"
      ],
      "metadata": {
        "id": "epymwBNqPIso"
      }
    },
    {
      "cell_type": "code",
      "source": [
        "# Tulis di sini\n",
        "labels_kmeans = model_kmeans.labels_\n",
        "labels_kmeans\n"
      ],
      "metadata": {
        "id": "mKxWqTIUwJoX",
        "colab": {
          "base_uri": "https://localhost:8080/"
        },
        "outputId": "fb86ef2f-a9b6-452b-cf0c-21d7941e7bb6"
      },
      "execution_count": null,
      "outputs": [
        {
          "output_type": "execute_result",
          "data": {
            "text/plain": [
              "array([4, 1, 0, 1, 4, 1, 0, 1, 0, 1, 0, 1, 0, 1, 0, 1, 4, 1, 0, 1, 4, 1,\n",
              "       0, 1, 0, 1, 4, 4, 4, 1, 0, 1, 0, 1, 0, 1, 0, 1, 0, 1, 4, 1, 4, 4,\n",
              "       0, 1, 4, 4, 4, 4, 4, 4, 4, 4, 4, 4, 4, 4, 4, 4, 4, 4, 4, 4, 4, 4,\n",
              "       4, 4, 4, 4, 4, 4, 4, 4, 4, 4, 4, 4, 4, 4, 4, 4, 4, 4, 4, 4, 4, 4,\n",
              "       4, 4, 4, 4, 4, 4, 4, 4, 4, 4, 4, 4, 4, 4, 4, 4, 4, 4, 4, 4, 4, 4,\n",
              "       4, 4, 4, 4, 4, 4, 4, 4, 4, 4, 4, 4, 4, 1, 0, 1, 4, 1, 0, 1, 0, 1,\n",
              "       4, 1, 0, 1, 0, 1, 0, 1, 0, 1, 4, 1, 0, 1, 4, 1, 0, 1, 0, 1, 0, 1,\n",
              "       0, 1, 0, 1, 0, 1, 4, 1, 0, 1, 0, 1, 0, 1, 0, 4, 0, 1, 0, 1, 0, 1,\n",
              "       0, 1, 0, 1, 4, 1, 0, 1, 4, 1, 0, 1, 0, 1, 0, 1, 0, 1, 0, 1, 0, 1,\n",
              "       0, 1, 0, 1, 4, 1, 0, 1, 4, 1, 0, 1, 0, 1, 4, 4, 4, 1, 0, 1, 0, 1,\n",
              "       0, 1, 0, 1, 0, 1, 4, 1, 0, 1, 0, 1, 2, 2, 2, 2, 3, 3, 3, 3],\n",
              "      dtype=int32)"
            ]
          },
          "metadata": {},
          "execution_count": 15
        }
      ]
    },
    {
      "cell_type": "markdown",
      "source": [
        "Karena kita menentukan K=5 (cluster berjumlah 5), maka kita akan mendapat 5 centroid.\n",
        "\n",
        "Informasi (letak) tiap centroid bisa kita akses menggunakan method `cluster_centers_`."
      ],
      "metadata": {
        "id": "hdc1sbzaw9MQ"
      }
    },
    {
      "cell_type": "markdown",
      "source": [
        "![image.png](data:image/png;base64,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)"
      ],
      "metadata": {
        "id": "cZB5JT4MPEXD"
      }
    },
    {
      "cell_type": "code",
      "source": [
        "# Tulis di sini\n",
        "print(model_kmeans.cluster_centers_)"
      ],
      "metadata": {
        "id": "3_uv_2iFtwHS",
        "colab": {
          "base_uri": "https://localhost:8080/"
        },
        "outputId": "ddf4febf-575e-4c2b-b6e7-c1c11a488663"
      },
      "execution_count": null,
      "outputs": [
        {
          "output_type": "stream",
          "name": "stdout",
          "text": [
            "[[-0.09894748 -1.20506271]\n",
            " [-0.11772005  0.91897759]\n",
            " [ 7.52694521 -0.11868539]\n",
            " [ 0.37342132  4.15876808]\n",
            " [-0.17079383 -0.15322869]]\n"
          ]
        }
      ]
    },
    {
      "cell_type": "markdown",
      "source": [
        "# Evaluasi Model"
      ],
      "metadata": {
        "id": "jMWuOlC4-amB"
      }
    },
    {
      "cell_type": "markdown",
      "source": [
        "Ada beberapa metode yang bisa kita gunakan untuk mengevaluasi model clustering, antara lain:\n",
        "1. Melihat dendrogram\n",
        "2. Metode elbow\n",
        "3. Visualisasi data\n",
        "4. Silhouette Coefficient (SC)\n",
        "\n",
        "Dendrogram digunakan pada model AHC.\n",
        "Sedangkan, metode elbow sudah kita gunakan untuk menentukan nilai K terbaik.\n",
        "\n",
        "Selanjutnya, kita akan mengevaluasi model clustering menggunakan visualisasi data dan SC."
      ],
      "metadata": {
        "id": "4YQ5j_II-egI"
      }
    },
    {
      "cell_type": "markdown",
      "source": [
        "## Visualisasi Hasil Clustering (Visualisasi Data)"
      ],
      "metadata": {
        "id": "5oC_K9UOxaDW"
      }
    },
    {
      "cell_type": "markdown",
      "source": [
        "Kita bisa memvisualisasikan hasil clustering dan centroid secara bersamaan menggunaan scatter plot."
      ],
      "metadata": {
        "id": "CktiI-429PhM"
      }
    },
    {
      "cell_type": "markdown",
      "source": [
        "![image.png](data:image/png;base64,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)"
      ],
      "metadata": {
        "id": "cjXIOts0O_kv"
      }
    },
    {
      "cell_type": "code",
      "source": [
        "plt.scatter(X[:,0], X[:,1], c=labels_kmeans, cmap='rainbow')\n",
        "\n",
        "plt.scatter(model_kmeans.cluster_centers_[:,0], model_kmeans.cluster_centers_[:,1], color='black')\n",
        "\n",
        "plt.show()\n"
      ],
      "metadata": {
        "id": "i7D6DzUPxYry",
        "colab": {
          "base_uri": "https://localhost:8080/",
          "height": 484
        },
        "outputId": "61651eb0-1ac9-4aec-a744-d5328d67ceca"
      },
      "execution_count": null,
      "outputs": [
        {
          "output_type": "display_data",
          "data": {
            "text/plain": [
              "<Figure size 800x550 with 1 Axes>"
            ],
            "image/png": "[encoded data removed]"
          },
          "metadata": {}
        }
      ]
    },
    {
      "cell_type": "markdown",
      "source": [
        "Terlihat hasil clustering sudah cukup bagus.\n",
        "\n",
        "---\n",
        "\n",
        "**Note**:\n",
        "- Kita bisa memvisualisasikan dataset secara 2D karena dataset tersebut hanya terdiri dari dua variable/feature, yakni **AnnualIncome** dan **SpendingScore**.\n",
        "- Jika dataset kita terdiri dari tiga variable, maka kita masih bisa memvisualisasikan dataset secara 3D.\n",
        "- Namun, kita tidak akan bisa memvisualisasikan dataset dengan jumlah variable lebih dari tiga, karena visualisasinya lebih dari 3D.\n",
        "- Salah satu solusi visualisasi dataset dengan jumlah variable >3 adalah reduksi dimensi (dimensionality reduction).\n",
        "\n",
        "Materi dimensionality reduction akan kita pelajari pada domain Data Science."
      ],
      "metadata": {
        "id": "v7cZY-1XD7zf"
      }
    },
    {
      "cell_type": "markdown",
      "source": [
        "## Silhouette Coefficient"
      ],
      "metadata": {
        "id": "2BiUEEw6GFEq"
      }
    },
    {
      "cell_type": "markdown",
      "source": [
        "Kita bisa menggunakan `silhouette_score` untuk mendapat Silhouette Score model yang telah kita training."
      ],
      "metadata": {
        "id": "1L30gyMXBYFZ"
      }
    },
    {
      "cell_type": "markdown",
      "source": [
        "![image.png](data:image/png;base64,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)"
      ],
      "metadata": {
        "id": "cr0-BvkbO54F"
      }
    },
    {
      "cell_type": "code",
      "source": [
        "# Tulis si sini\n",
        "SC_kmeans = silhouette_score(X, labels_kmeans, metric='euclidean')\n",
        "print('Silhouette Score model K=means= ', SC_kmeans)"
      ],
      "metadata": {
        "id": "Iqyt86I8E7oU",
        "colab": {
          "base_uri": "https://localhost:8080/"
        },
        "outputId": "4a40bd49-e05d-4225-a2f2-bf4164bbfc77"
      },
      "execution_count": null,
      "outputs": [
        {
          "output_type": "stream",
          "name": "stdout",
          "text": [
            "Silhouette Score model K=means=  0.5726323363898457\n"
          ]
        }
      ]
    },
    {
      "cell_type": "markdown",
      "source": [
        "Semakin Silhouette Score mendekati 1, maka model clustering akan semakin bagus.\n",
        "\n",
        "Berdasarkan Silhouette Score, model K-Means yang telah kita training sudah cukup bagus."
      ],
      "metadata": {
        "id": "SUvt3s4TKK7g"
      }
    },
    {
      "cell_type": "markdown",
      "source": [
        "Alangkah baiknya jika kita men-training lebih dari satu model clustering dengan berbagai algoritma dan tuning hyperparameter.\n",
        "\n",
        "Kemudian, kita bandingkan Silhouette Score tiap model untuk mengetahui mana model terbagus."
      ],
      "metadata": {
        "id": "WHobarIOImXW"
      }
    },
    {
      "cell_type": "markdown",
      "source": [
        "# Kesimpulan"
      ],
      "metadata": {
        "id": "eg_NNuaHCuK4"
      }
    },
    {
      "cell_type": "markdown",
      "source": [
        "Simpan hasil clustering ke dalam dataset."
      ],
      "metadata": {
        "id": "7vKlF6epI0eM"
      }
    },
    {
      "cell_type": "markdown",
      "source": [
        "![image.png](data:image/png;base64,iVBORw0KGgoAAAANSUhEUgAAAYwAAAA+CAYAAAA4TCyAAAAAAXNSR0IArs4c6QAAAARnQU1BAACxjwv8YQUAAAAJcEhZcwAADsMAAA7DAcdvqGQAAArXSURBVHhe7d1PaFtHHgfw7y5LLjU2zpKYpXLYxAsRSUNKMEsOiSDBh+BtWpFtTEghlxQfSnwo7UGX9cG96JDQg8MezPZS2BDcJWg3qclBpKDmEBZTErINDqySgr0sTmiEjXPJZfc38+ZJ80ayNJKfZUv+fuBhvSdp/P7ozW/m90Z6v9i3b9//QERE1MAvzV8iIqK6GDCIiMgLAwYREXlhwCAiIi8MGERE5IUBg4iIvDBgEBGRFwYMIiLywoBBREReGDCIiMgLAwYREXlhwCAiIi8MGERE5KXmr9UeOHAAFy5cwK5du/T8gwcPcPfuXf3Y15kzZ3D8+HH9+M2bN7h58yaePXum57vNqew/8Kff95i5Nfzzi/eR+c7MEm26TzBz70P8zszh33/D6fE/mxmi+KwbMM6dO4dbt25tuJKPs6y6xqcxlwZyoxOYMYvaRQeMQ0/wxfsZrBsnDp9E7swgnt+9gU9/NMsUvRy4fe17fGUWAQl8+VkKcF8bh/XWQ1weu4izg2Zm5SGu/uUJ7pvZZkTKwQp++PpbTL0M5k6M/AGfH+0LZrDobHdnCrZ3k7elznGzfTJzDx9iKwLGOKblBBwyc2vzWYxNFsycp1jO4RjWw8P49BzSyGF0ot21zdba8Smp1NQs5manINXz5nrxM16bh9vVV7M3kL52A1cfrZglzatUnkFZaalEceoQTpjn7+e/DZbfXTRLNosKuhfx5WEz2+m2/ednBhOjoxgdzWJ+zSzaEttlPboTr2G01QpKL8zDrfLj97rCjr3nokgr+Oyg6lHYLe1VTM221lPpFEGgbUdPaRt8fmhH+5X525F0tzDse2pF89dITWE2M4zw6oL0T5Edm4TqoKqeRWY4fGYYmbk5ZPTjNcxnx1DuxdYpoykvn+Cja0/MTAtMSqJssYD07JKZUXox+fF7OBZme0QkfbHnEP566V28ZWYbpTZacfmwrJ+sV5h+akmNFJ3utcget7c3mvYCXj+6g4/yq/IoSOftDxYDZy7q8jRnn0XLcFNKqpyjKEnwwwfhfm0uvaaf3/0IV18drbyu6rg562tUtsfY6Odnm3DP2WJuFFVZHZ2aCl9UrEpRRcuoft6Hux4bTV2F5QXbo9JiIyjNL2N4WBZKnZFbSCKt6puincZKSWMqg3I1VKtuiewLEXm/+T/ZPPozYRrOqb8Ut4xW6zDRsT0MfYAGZMN191OmnBMs1ME4D1wPnx/NodgzjCtTQfKpMDmml2dVv1XtwPLr7J1dv4z4DOLsZ1KxlSe3ApFK5fBzk+KR6euHeD2YiqRbLo9JpbYqlVH4GrcXoSsctbyA52ZRvHrxdq95uMlURXy29yGuWttaqVyX8Km1nSowlveJGyysMq4+6pVjcBKXzfOBPhy79B4O/nTHvAY49kGT6TU5Tipo6NdVHTcV5OVYqyCi1+MOflipESw2m2oUSYNprmqaRawfdam4jjwOz6Xg3BtKT0u1ZxtCeqRkzkeVVpL56cor3PM+Oz+A9JxbRn2qsRipO2TacLAw5VWCXw+Gk7Id2XmsSZ2R7s8HddTQEbOuJlgsSwAw65BbloZrJD0uAeHI4/Lzo6qsoTSs3SHk/2RU0DBlFGX+ilWGOrbpAQkipgw1tRgslA4NGOM4MiSR9Hq9DS9gcsJ+fgaP5Xj19CfNvI84yvBh5/zV5FbqUgnardKXS3gqFcve3zg19OB+p8LrYn37cXqPedy0BN5RqbO/V1Jl9/OPZJ8P4h3nmodded//r/zt+zUO6jlPavBAeOyqjlsv+vtkPb4Lj+0q7v20grd2tynyhgqTGAsrk8jktFQ3amYi0pso5BekPTyARCQoSY+hXKHJ+ZeXE24gYSrA6vO+MJmXdwzhSDMRQ+lJYmTDwTAhlb4JFjUq4WI+XCbr/I1s+EJJHhmpESR7ZFutHTLzjQou9nrNYCK6w7AgBQxEd5h0OirHaSaooBCtoXqQ3PjGap0ZMFIJ+Zg1ploSdovJ7pX5iqOMOKgWcaUHEk09KSqPfnvR6ql8XGkJt8cq/tOmRrFq2evW/qVwf7g9gwb29GKv7j2E71dTdVpIeaGCREhf/4nzWsUqSiuyHqcSZj6BPx7tw+tXbexdKO3qYagWs12+neqtJ6wA9XmvWtRWGdaIKF8quyCNdauc5nooZUPDOp1UCQxNSPbLlkjvqbwdMtXYH6r3UtlWK33lSzUGgo0tlxPtoTSney96S/dX9n+kK1aVtWokjjJioFMwkZFHQerCFY5y0s/jXXw+FlZE7fH0laxUm3o55XSQTDpQNhMgX67ihb4eEe6vyrQpgwEaGUxVgtZiob3pKKUtPQyVgpHKXeXgw/JVisU8u55UQpqGayUsqJnCEpZ1jt5ex2CyG+I+wpS0mnJFqbhbGSmptkW2YSDdQiWsexvq+ou7LZV9rlNnQ/ZrWhz5ZR9fqcCG0q03BDozYOiumdXNci/qCP1Bk4/XUviBl9fU6h0UlpbX7Z76lrHZDu6W7sTKz3hq5k+MnKzqYUS1r7VvC9M60cq7F5NjTVTmevhoL9426aYgWAaP16MDVRXVegf2H64VNJfwr0Vp2VvXI7bEngQO9jnpyMgF8W6SRL+0jtdKuuoXEkCuNOphjOO8NKnXFvKmBa9Swk6OPgYLpVZqYUNVxroSbjJo6Dosen3GlQx2WBAsRWrqSvM9DJedFmtB535xLzJ6SaJwtoSRTD/y5RET5qJSuIPDkQrq4pPTHAlHOATsUQZ+ZXh9cW89NUYFhSNnKl/cc0bSSCv0tqzb6Vdhfr16hJT7xbvoiJ6KdUcXlVWP/qnPXRd7ZFGN9dSio48io5dkW/UoI3Xh2FSm7gipddfRGRlWf5SUYpfjHgNX423R+/y3z63jELxHXUQPexHV6yCcY9eMLfviXo1Gm2aP6nFeU8zlgLS6YGvON3dEoqg1iip6viqqFW7Oe4/1qPt+T7oM64t7qjegR13q/wP95UEpFBMLapuSWFDbCPW4Th2lREYwqRSelXKTsnPyX0dK4Yiu4Hn9f8KV19tvffmxxv6oOTLNU/d803sLbShg0M5Vp7Gwt8WRUlv3TW/aCbr3GgbRNnfCHeWm6AvyzsV2om2CPz4Yg53w44M1Uyc2J91Dfmrt1+a/VMkfH4xLObW0ng186a0b1AwYRERELqakiIjICwMGERF5YcAgIiIvDBhEROSFAYOIiLwwYBARkRcGDCIi8tI9AUP9ZkqrP1NMREQN7fgehvpm51wrP21MRLTDMCVFREReOvqnQRr+TLH7c8nW78Cs/5sx9s+bizplEBHtJB3bw9DBwr6Re9Wt8FKYOg9cD58fzaHYM4wr5lZT4R231I3odRAov84KFg3KICLaSTo0YFTfDL5aAZMT9vPqbl3q9sDR26PXF0cZRETdoTMDhr4ZfGP6gnb5Bupu+spPHGUQEXWD7r3oPT6NzDAiN4yvylo1EkcZRERdojMDhr6Beg+SI+ZaQo371qYSqg+yjKUwnySvqdU7KCwtAz1JhEXZfMsgItoJOneUVGT0UhG5bAkj9W6wvjaP3EIS6f585ab0RnS0lT1Kyr8MIqJuxzvuERGRl+69hkFERLFiwCAiIi8MGERE5IUBg4iIvDBgEBGRFwYMIiLywoBBREReGDCIiMgLAwYREXlhwCAiIi8MGERE5IUBg4iIvDBgEBGRFwYMIiLywoBBREQegP8Dpr3KZAyNqboAAAAASUVORK5CYII=)"
      ],
      "metadata": {
        "id": "IDQoRbEhO0as"
      }
    },
    {
      "cell_type": "code",
      "source": [
        "data['Hasil_Clustering']= labels_kmeans\n",
        "data"
      ],
      "metadata": {
        "id": "dSRvjl71Ijop",
        "colab": {
          "base_uri": "https://localhost:8080/",
          "height": 455
        },
        "outputId": "8b9d3d65-b90e-4cc1-fb65-3ef959659075"
      },
      "execution_count": null,
      "outputs": [
        {
          "output_type": "execute_result",
          "data": {
            "text/plain": [
              "            Gender  Age  AnnualIncome  SpendingScore  Hasil_Clustering\n",
              "CustomerID                                                            \n",
              "1             Male   19            15             39                 4\n",
              "2             Male   21            15             81                 1\n",
              "3           Female   20            16              6                 0\n",
              "4           Female   23            16             77                 1\n",
              "5           Female   31            17             40                 4\n",
              "...            ...  ...           ...            ...               ...\n",
              "209         Female   35          1207             79                 2\n",
              "210         Female   45           126            182                 3\n",
              "211           Male   32           126            174                 3\n",
              "212           Male   32           137            192                 3\n",
              "213           Male   30           137            183                 3\n",
              "\n",
              "[240 rows x 5 columns]"
            ],
            "text/html": [
              "\n",
              "  <div id=\"df-a914cb4c-f903-4dcf-83f1-455796c1dd50\" class=\"colab-df-container\">\n",
              "    <div>\n",
              "<style scoped>\n",
              "    .dataframe tbody tr th:only-of-type {\n",
              "        vertical-align: middle;\n",
              "    }\n",
              "\n",
              "    .dataframe tbody tr th {\n",
              "        vertical-align: top;\n",
              "    }\n",
              "\n",
              "    .dataframe thead th {\n",
              "        text-align: right;\n",
              "    }\n",
              "</style>\n",
              "<table border=\"1\" class=\"dataframe\">\n",
              "  <thead>\n",
              "    <tr style=\"text-align: right;\">\n",
              "      <th></th>\n",
              "      <th>Gender</th>\n",
              "      <th>Age</th>\n",
              "      <th>AnnualIncome</th>\n",
              "      <th>SpendingScore</th>\n",
              "      <th>Hasil_Clustering</th>\n",
              "    </tr>\n",
              "    <tr>\n",
              "      <th>CustomerID</th>\n",
              "      <th></th>\n",
              "      <th></th>\n",
              "      <th></th>\n",
              "      <th></th>\n",
              "      <th></th>\n",
              "    </tr>\n",
              "  </thead>\n",
              "  <tbody>\n",
              "    <tr>\n",
              "      <th>1</th>\n",
              "      <td>Male</td>\n",
              "      <td>19</td>\n",
              "      <td>15</td>\n",
              "      <td>39</td>\n",
              "      <td>4</td>\n",
              "    </tr>\n",
              "    <tr>\n",
              "      <th>2</th>\n",
              "      <td>Male</td>\n",
              "      <td>21</td>\n",
              "      <td>15</td>\n",
              "      <td>81</td>\n",
              "      <td>1</td>\n",
              "    </tr>\n",
              "    <tr>\n",
              "      <th>3</th>\n",
              "      <td>Female</td>\n",
              "      <td>20</td>\n",
              "      <td>16</td>\n",
              "      <td>6</td>\n",
              "      <td>0</td>\n",
              "    </tr>\n",
              "    <tr>\n",
              "      <th>4</th>\n",
              "      <td>Female</td>\n",
              "      <td>23</td>\n",
              "      <td>16</td>\n",
              "      <td>77</td>\n",
              "      <td>1</td>\n",
              "    </tr>\n",
              "    <tr>\n",
              "      <th>5</th>\n",
              "      <td>Female</td>\n",
              "      <td>31</td>\n",
              "      <td>17</td>\n",
              "      <td>40</td>\n",
              "      <td>4</td>\n",
              "    </tr>\n",
              "    <tr>\n",
              "      <th>...</th>\n",
              "      <td>...</td>\n",
              "      <td>...</td>\n",
              "      <td>...</td>\n",
              "      <td>...</td>\n",
              "      <td>...</td>\n",
              "    </tr>\n",
              "    <tr>\n",
              "      <th>209</th>\n",
              "      <td>Female</td>\n",
              "      <td>35</td>\n",
              "      <td>1207</td>\n",
              "      <td>79</td>\n",
              "      <td>2</td>\n",
              "    </tr>\n",
              "    <tr>\n",
              "      <th>210</th>\n",
              "      <td>Female</td>\n",
              "      <td>45</td>\n",
              "      <td>126</td>\n",
              "      <td>182</td>\n",
              "      <td>3</td>\n",
              "    </tr>\n",
              "    <tr>\n",
              "      <th>211</th>\n",
              "      <td>Male</td>\n",
              "      <td>32</td>\n",
              "      <td>126</td>\n",
              "      <td>174</td>\n",
              "      <td>3</td>\n",
              "    </tr>\n",
              "    <tr>\n",
              "      <th>212</th>\n",
              "      <td>Male</td>\n",
              "      <td>32</td>\n",
              "      <td>137</td>\n",
              "      <td>192</td>\n",
              "      <td>3</td>\n",
              "    </tr>\n",
              "    <tr>\n",
              "      <th>213</th>\n",
              "      <td>Male</td>\n",
              "      <td>30</td>\n",
              "      <td>137</td>\n",
              "      <td>183</td>\n",
              "      <td>3</td>\n",
              "    </tr>\n",
              "  </tbody>\n",
              "</table>\n",
              "<p>240 rows × 5 columns</p>\n",
              "</div>\n",
              "    <div class=\"colab-df-buttons\">\n",
              "\n",
              "  <div class=\"colab-df-container\">\n",
              "    <button class=\"colab-df-convert\" onclick=\"convertToInteractive('df-a914cb4c-f903-4dcf-83f1-455796c1dd50')\"\n",
              "            title=\"Convert this dataframe to an interactive table.\"\n",
              "            style=\"display:none;\">\n",
              "\n",
              "  <svg xmlns=\"http://www.w3.org/2000/svg\" height=\"24px\" viewBox=\"0 -960 960 960\">\n",
              "    <path d=\"M120-120v-720h720v720H120Zm60-500h600v-160H180v160Zm220 220h160v-160H400v160Zm0 220h160v-160H400v160ZM180-400h160v-160H180v160Zm440 0h160v-160H620v160ZM180-180h160v-160H180v160Zm440 0h160v-160H620v160Z\"/>\n",
              "  </svg>\n",
              "    </button>\n",
              "\n",
              "  <style>\n",
              "    .colab-df-container {\n",
              "      display:flex;\n",
              "      gap: 12px;\n",
              "    }\n",
              "\n",
              "    .colab-df-convert {\n",
              "      background-color: #E8F0FE;\n",
              "      border: none;\n",
              "      border-radius: 50%;\n",
              "      cursor: pointer;\n",
              "      display: none;\n",
              "      fill: #1967D2;\n",
              "      height: 32px;\n",
              "      padding: 0 0 0 0;\n",
              "      width: 32px;\n",
              "    }\n",
              "\n",
              "    .colab-df-convert:hover {\n",
              "      background-color: #E2EBFA;\n",
              "      box-shadow: 0px 1px 2px rgba(60, 64, 67, 0.3), 0px 1px 3px 1px rgba(60, 64, 67, 0.15);\n",
              "      fill: #174EA6;\n",
              "    }\n",
              "\n",
              "    .colab-df-buttons div {\n",
              "      margin-bottom: 4px;\n",
              "    }\n",
              "\n",
              "    [theme=dark] .colab-df-convert {\n",
              "      background-color: #3B4455;\n",
              "      fill: #D2E3FC;\n",
              "    }\n",
              "\n",
              "    [theme=dark] .colab-df-convert:hover {\n",
              "      background-color: #434B5C;\n",
              "      box-shadow: 0px 1px 3px 1px rgba(0, 0, 0, 0.15);\n",
              "      filter: drop-shadow(0px 1px 2px rgba(0, 0, 0, 0.3));\n",
              "      fill: #FFFFFF;\n",
              "    }\n",
              "  </style>\n",
              "\n",
              "    <script>\n",
              "      const buttonEl =\n",
              "        document.querySelector('#df-a914cb4c-f903-4dcf-83f1-455796c1dd50 button.colab-df-convert');\n",
              "      buttonEl.style.display =\n",
              "        google.colab.kernel.accessAllowed ? 'block' : 'none';\n",
              "\n",
              "      async function convertToInteractive(key) {\n",
              "        const element = document.querySelector('#df-a914cb4c-f903-4dcf-83f1-455796c1dd50');\n",
              "        const dataTable =\n",
              "          await google.colab.kernel.invokeFunction('convertToInteractive',\n",
              "                                                    [key], {});\n",
              "        if (!dataTable) return;\n",
              "\n",
              "        const docLinkHtml = 'Like what you see? Visit the ' +\n",
              "          '<a target=\"_blank\" href=https://colab.research.google.com/notebooks/data_table.ipynb>data table notebook</a>'\n",
              "          + ' to learn more about interactive tables.';\n",
              "        element.innerHTML = '';\n",
              "        dataTable['output_type'] = 'display_data';\n",
              "        await google.colab.output.renderOutput(dataTable, element);\n",
              "        const docLink = document.createElement('div');\n",
              "        docLink.innerHTML = docLinkHtml;\n",
              "        element.appendChild(docLink);\n",
              "      }\n",
              "    </script>\n",
              "  </div>\n",
              "\n",
              "\n",
              "<div id=\"df-462c7eb5-8dc6-458d-beb6-14094184f93b\">\n",
              "  <button class=\"colab-df-quickchart\" onclick=\"quickchart('df-462c7eb5-8dc6-458d-beb6-14094184f93b')\"\n",
              "            title=\"Suggest charts\"\n",
              "            style=\"display:none;\">\n",
              "\n",
              "<svg xmlns=\"http://www.w3.org/2000/svg\" height=\"24px\"viewBox=\"0 0 24 24\"\n",
              "     width=\"24px\">\n",
              "    <g>\n",
              "        <path d=\"M19 3H5c-1.1 0-2 .9-2 2v14c0 1.1.9 2 2 2h14c1.1 0 2-.9 2-2V5c0-1.1-.9-2-2-2zM9 17H7v-7h2v7zm4 0h-2V7h2v10zm4 0h-2v-4h2v4z\"/>\n",
              "    </g>\n",
              "</svg>\n",
              "  </button>\n",
              "\n",
              "<style>\n",
              "  .colab-df-quickchart {\n",
              "      --bg-color: #E8F0FE;\n",
              "      --fill-color: #1967D2;\n",
              "      --hover-bg-color: #E2EBFA;\n",
              "      --hover-fill-color: #174EA6;\n",
              "      --disabled-fill-color: #AAA;\n",
              "      --disabled-bg-color: #DDD;\n",
              "  }\n",
              "\n",
              "  [theme=dark] .colab-df-quickchart {\n",
              "      --bg-color: #3B4455;\n",
              "      --fill-color: #D2E3FC;\n",
              "      --hover-bg-color: #434B5C;\n",
              "      --hover-fill-color: #FFFFFF;\n",
              "      --disabled-bg-color: #3B4455;\n",
              "      --disabled-fill-color: #666;\n",
              "  }\n",
              "\n",
              "  .colab-df-quickchart {\n",
              "    background-color: var(--bg-color);\n",
              "    border: none;\n",
              "    border-radius: 50%;\n",
              "    cursor: pointer;\n",
              "    display: none;\n",
              "    fill: var(--fill-color);\n",
              "    height: 32px;\n",
              "    padding: 0;\n",
              "    width: 32px;\n",
              "  }\n",
              "\n",
              "  .colab-df-quickchart:hover {\n",
              "    background-color: var(--hover-bg-color);\n",
              "    box-shadow: 0 1px 2px rgba(60, 64, 67, 0.3), 0 1px 3px 1px rgba(60, 64, 67, 0.15);\n",
              "    fill: var(--button-hover-fill-color);\n",
              "  }\n",
              "\n",
              "  .colab-df-quickchart-complete:disabled,\n",
              "  .colab-df-quickchart-complete:disabled:hover {\n",
              "    background-color: var(--disabled-bg-color);\n",
              "    fill: var(--disabled-fill-color);\n",
              "    box-shadow: none;\n",
              "  }\n",
              "\n",
              "  .colab-df-spinner {\n",
              "    border: 2px solid var(--fill-color);\n",
              "    border-color: transparent;\n",
              "    border-bottom-color: var(--fill-color);\n",
              "    animation:\n",
              "      spin 1s steps(1) infinite;\n",
              "  }\n",
              "\n",
              "  @keyframes spin {\n",
              "    0% {\n",
              "      border-color: transparent;\n",
              "      border-bottom-color: var(--fill-color);\n",
              "      border-left-color: var(--fill-color);\n",
              "    }\n",
              "    20% {\n",
              "      border-color: transparent;\n",
              "      border-left-color: var(--fill-color);\n",
              "      border-top-color: var(--fill-color);\n",
              "    }\n",
              "    30% {\n",
              "      border-color: transparent;\n",
              "      border-left-color: var(--fill-color);\n",
              "      border-top-color: var(--fill-color);\n",
              "      border-right-color: var(--fill-color);\n",
              "    }\n",
              "    40% {\n",
              "      border-color: transparent;\n",
              "      border-right-color: var(--fill-color);\n",
              "      border-top-color: var(--fill-color);\n",
              "    }\n",
              "    60% {\n",
              "      border-color: transparent;\n",
              "      border-right-color: var(--fill-color);\n",
              "    }\n",
              "    80% {\n",
              "      border-color: transparent;\n",
              "      border-right-color: var(--fill-color);\n",
              "      border-bottom-color: var(--fill-color);\n",
              "    }\n",
              "    90% {\n",
              "      border-color: transparent;\n",
              "      border-bottom-color: var(--fill-color);\n",
              "    }\n",
              "  }\n",
              "</style>\n",
              "\n",
              "  <script>\n",
              "    async function quickchart(key) {\n",
              "      const quickchartButtonEl =\n",
              "        document.querySelector('#' + key + ' button');\n",
              "      quickchartButtonEl.disabled = true;  // To prevent multiple clicks.\n",
              "      quickchartButtonEl.classList.add('colab-df-spinner');\n",
              "      try {\n",
              "        const charts = await google.colab.kernel.invokeFunction(\n",
              "            'suggestCharts', [key], {});\n",
              "      } catch (error) {\n",
              "        console.error('Error during call to suggestCharts:', error);\n",
              "      }\n",
              "      quickchartButtonEl.classList.remove('colab-df-spinner');\n",
              "      quickchartButtonEl.classList.add('colab-df-quickchart-complete');\n",
              "    }\n",
              "    (() => {\n",
              "      let quickchartButtonEl =\n",
              "        document.querySelector('#df-462c7eb5-8dc6-458d-beb6-14094184f93b button');\n",
              "      quickchartButtonEl.style.display =\n",
              "        google.colab.kernel.accessAllowed ? 'block' : 'none';\n",
              "    })();\n",
              "  </script>\n",
              "</div>\n",
              "    </div>\n",
              "  </div>\n"
            ],
            "application/vnd.google.colaboratory.intrinsic+json": {
              "type": "dataframe",
              "variable_name": "data",
              "summary": "{\n  \"name\": \"data\",\n  \"rows\": 240,\n  \"fields\": [\n    {\n      \"column\": \"CustomerID\",\n      \"properties\": {\n        \"dtype\": \"number\",\n        \"std\": 63,\n        \"min\": 1,\n        \"max\": 213,\n        \"num_unique_values\": 213,\n        \"samples\": [\n          10,\n          198,\n          67\n        ],\n        \"semantic_type\": \"\",\n        \"description\": \"\"\n      }\n    },\n    {\n      \"column\": \"Gender\",\n      \"properties\": {\n        \"dtype\": \"category\",\n        \"num_unique_values\": 2,\n        \"samples\": [\n          \"Female\",\n          \"Male\"\n        ],\n        \"semantic_type\": \"\",\n        \"description\": \"\"\n      }\n    },\n    {\n      \"column\": \"Age\",\n      \"properties\": {\n        \"dtype\": \"number\",\n        \"std\": 45,\n        \"min\": 18,\n        \"max\": 410,\n        \"num_unique_values\": 56,\n        \"samples\": [\n          19,\n          22\n        ],\n        \"semantic_type\": \"\",\n        \"description\": \"\"\n      }\n    },\n    {\n      \"column\": \"AnnualIncome\",\n      \"properties\": {\n        \"dtype\": \"number\",\n        \"std\": 145,\n        \"min\": 15,\n        \"max\": 1207,\n        \"num_unique_values\": 67,\n        \"samples\": [\n          65,\n          38\n        ],\n        \"semantic_type\": \"\",\n        \"description\": \"\"\n      }\n    },\n    {\n      \"column\": \"SpendingScore\",\n      \"properties\": {\n        \"dtype\": \"number\",\n        \"std\": 31,\n        \"min\": 1,\n        \"max\": 192,\n        \"num_unique_values\": 88,\n        \"samples\": [\n          86,\n          39\n        ],\n        \"semantic_type\": \"\",\n        \"description\": \"\"\n      }\n    },\n    {\n      \"column\": \"Hasil_Clustering\",\n      \"properties\": {\n        \"dtype\": \"int32\",\n        \"num_unique_values\": 5,\n        \"samples\": [\n          1,\n          3\n        ],\n        \"semantic_type\": \"\",\n        \"description\": \"\"\n      }\n    }\n  ]\n}"
            }
          },
          "metadata": {},
          "execution_count": 21
        }
      ]
    },
    {
      "cell_type": "markdown",
      "source": [
        "**Contoh**:\n",
        "\n",
        "Menghitung rata-rata tiap cluster untuk menarik kesimpulan."
      ],
      "metadata": {
        "id": "fTrfy_KwCzHA"
      }
    },
    {
      "cell_type": "markdown",
      "source": [
        "![image.png](data:image/png;base64,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)"
      ],
      "metadata": {
        "id": "yvMKe7biOves"
      }
    },
    {
      "cell_type": "code",
      "source": [
        "for i in range(jumlah_cluster):\n",
        "    print(f'Cluster ke-{i}')\n",
        "    print('Rata-rata pemasukan customer:', data[data['Hasil_Clustering']==i]['AnnualIncome'].mean())\n",
        "    print('Rata-rata pengeluaran customer:', data[data['Hasil_Clustering']==i]['SpendingScore'].mean())\n",
        "    print()\n"
      ],
      "metadata": {
        "id": "vT6pof0-C0qS",
        "colab": {
          "base_uri": "https://localhost:8080/"
        },
        "outputId": "a5e62740-2b1f-4c51-ab5d-68aa59913c33"
      },
      "execution_count": null,
      "outputs": [
        {
          "output_type": "stream",
          "name": "stdout",
          "text": [
            "Cluster ke-0\n",
            "Rata-rata pemasukan customer: 63.12280701754386\n",
            "Rata-rata pengeluaran customer: 14.403508771929825\n",
            "\n",
            "Cluster ke-1\n",
            "Rata-rata pemasukan customer: 60.4054054054054\n",
            "Rata-rata pengeluaran customer: 81.06756756756756\n",
            "\n",
            "Cluster ke-2\n",
            "Rata-rata pemasukan customer: 1167.0\n",
            "Rata-rata pengeluaran customer: 48.5\n",
            "\n",
            "Cluster ke-3\n",
            "Rata-rata pemasukan customer: 131.5\n",
            "Rata-rata pengeluaran customer: 182.75\n",
            "\n",
            "Cluster ke-4\n",
            "Rata-rata pemasukan customer: 52.722772277227726\n",
            "Rata-rata pengeluaran customer: 47.415841584158414\n",
            "\n"
          ]
        }
      ]
    },
    {
      "cell_type": "markdown",
      "source": [
        "Bisa kita simpulkan bahwa :    \n",
        "- Cluster 0 adalah kelompok customer menengah ke bawah yang hemat (pengeluarannya sangat kecil)\n",
        "- Cluster 1 adalah kelompok customer menengah ke bawah yang sangat boros (pengeluaran lebih besar dari pemasukan)\n",
        "- Cluster 2 adalah kelompok customer tingkat atas yang hemat (pengeluarannya sangat kecil)\n",
        "- Cluster 3 adalah kelompok customer menengah ke atas yang sangat boros (pengeluaran lebih besar dari pemasukan)\n",
        "- Cluster 4 adalah kelompok customer menengah ke bawah yang boros (pengeluaran hampir sama dengan pemasukan)\n",
        "\n",
        "---\n",
        "\n",
        "**OPEN DISCUSSION**\n",
        "\n",
        "Jika kamu adalah pemilik toko kredit dan akan menawarkan kredit mobil, cluster manakah yang menurutmu tepat?\n",
        "\n"
      ],
      "metadata": {
        "id": "oEiB6u3JDAlZ"
      }
    },
    {
      "cell_type": "markdown",
      "source": [
        "# Exercise (Latihan)\n",
        "\n",
        "Boleh pilih salah satu activity atau lakukan keduanya."
      ],
      "metadata": {
        "id": "nQszP68VSCk3"
      }
    },
    {
      "cell_type": "markdown",
      "source": [
        "## Activity 1"
      ],
      "metadata": {
        "id": "GCAdn_8bSMZX"
      }
    },
    {
      "cell_type": "markdown",
      "source": [
        "- Gunakan dataset Mall_Customers.csv\n",
        "- Gunakan variable Age, AnnualIncome, dan SpendingScore\n",
        "- Lakukan clustering menggunakan model AHC dan K-Means\n",
        "- Tentukan nilai K terbaik untuk setiap model\n",
        "- Bandingkan SC model K-Means dengan AHC\n",
        "- Tarik kesimpulan activity dan paparkan mana model terbaik"
      ],
      "metadata": {
        "id": "H9t5YafySaLX"
      }
    },
    {
      "cell_type": "code",
      "source": [
        "import pandas as pd\n",
        "import numpy as np\n",
        "from matplotlib import pyplot as plt\n",
        "from sklearn.preprocessing import StandardScaler\n",
        "from sklearn.cluster import KMeans\n",
        "from sklearn.metrics import silhouette_score\n"
      ],
      "metadata": {
        "id": "DiqK01P3Hgi_"
      },
      "execution_count": null,
      "outputs": []
    },
    {
      "cell_type": "code",
      "source": [
        "# Tulis di sini\n",
        "data = pd.read_csv('/content/Mall_Customers.csv', index_col='CustomerID')\n",
        "data"
      ],
      "metadata": {
        "colab": {
          "base_uri": "https://localhost:8080/",
          "height": 455
        },
        "id": "-mk27H-ED69Q",
        "outputId": "50c8a049-0cc5-405f-ef9e-e30431d28550"
      },
      "execution_count": null,
      "outputs": [
        {
          "output_type": "execute_result",
          "data": {
            "text/plain": [
              "            Gender  Age  AnnualIncome  SpendingScore\n",
              "CustomerID                                          \n",
              "1             Male   19            15             39\n",
              "2             Male   21            15             81\n",
              "3           Female   20            16              6\n",
              "4           Female   23            16             77\n",
              "5           Female   31            17             40\n",
              "...            ...  ...           ...            ...\n",
              "209         Female   35          1207             79\n",
              "210         Female   45           126            182\n",
              "211           Male   32           126            174\n",
              "212           Male   32           137            192\n",
              "213           Male   30           137            183\n",
              "\n",
              "[240 rows x 4 columns]"
            ],
            "text/html": [
              "\n",
              "  <div id=\"df-ef3cd74f-8b29-4f43-83e7-09a0a739e697\" class=\"colab-df-container\">\n",
              "    <div>\n",
              "<style scoped>\n",
              "    .dataframe tbody tr th:only-of-type {\n",
              "        vertical-align: middle;\n",
              "    }\n",
              "\n",
              "    .dataframe tbody tr th {\n",
              "        vertical-align: top;\n",
              "    }\n",
              "\n",
              "    .dataframe thead th {\n",
              "        text-align: right;\n",
              "    }\n",
              "</style>\n",
              "<table border=\"1\" class=\"dataframe\">\n",
              "  <thead>\n",
              "    <tr style=\"text-align: right;\">\n",
              "      <th></th>\n",
              "      <th>Gender</th>\n",
              "      <th>Age</th>\n",
              "      <th>AnnualIncome</th>\n",
              "      <th>SpendingScore</th>\n",
              "    </tr>\n",
              "    <tr>\n",
              "      <th>CustomerID</th>\n",
              "      <th></th>\n",
              "      <th></th>\n",
              "      <th></th>\n",
              "      <th></th>\n",
              "    </tr>\n",
              "  </thead>\n",
              "  <tbody>\n",
              "    <tr>\n",
              "      <th>1</th>\n",
              "      <td>Male</td>\n",
              "      <td>19</td>\n",
              "      <td>15</td>\n",
              "      <td>39</td>\n",
              "    </tr>\n",
              "    <tr>\n",
              "      <th>2</th>\n",
              "      <td>Male</td>\n",
              "      <td>21</td>\n",
              "      <td>15</td>\n",
              "      <td>81</td>\n",
              "    </tr>\n",
              "    <tr>\n",
              "      <th>3</th>\n",
              "      <td>Female</td>\n",
              "      <td>20</td>\n",
              "      <td>16</td>\n",
              "      <td>6</td>\n",
              "    </tr>\n",
              "    <tr>\n",
              "      <th>4</th>\n",
              "      <td>Female</td>\n",
              "      <td>23</td>\n",
              "      <td>16</td>\n",
              "      <td>77</td>\n",
              "    </tr>\n",
              "    <tr>\n",
              "      <th>5</th>\n",
              "      <td>Female</td>\n",
              "      <td>31</td>\n",
              "      <td>17</td>\n",
              "      <td>40</td>\n",
              "    </tr>\n",
              "    <tr>\n",
              "      <th>...</th>\n",
              "      <td>...</td>\n",
              "      <td>...</td>\n",
              "      <td>...</td>\n",
              "      <td>...</td>\n",
              "    </tr>\n",
              "    <tr>\n",
              "      <th>209</th>\n",
              "      <td>Female</td>\n",
              "      <td>35</td>\n",
              "      <td>1207</td>\n",
              "      <td>79</td>\n",
              "    </tr>\n",
              "    <tr>\n",
              "      <th>210</th>\n",
              "      <td>Female</td>\n",
              "      <td>45</td>\n",
              "      <td>126</td>\n",
              "      <td>182</td>\n",
              "    </tr>\n",
              "    <tr>\n",
              "      <th>211</th>\n",
              "      <td>Male</td>\n",
              "      <td>32</td>\n",
              "      <td>126</td>\n",
              "      <td>174</td>\n",
              "    </tr>\n",
              "    <tr>\n",
              "      <th>212</th>\n",
              "      <td>Male</td>\n",
              "      <td>32</td>\n",
              "      <td>137</td>\n",
              "      <td>192</td>\n",
              "    </tr>\n",
              "    <tr>\n",
              "      <th>213</th>\n",
              "      <td>Male</td>\n",
              "      <td>30</td>\n",
              "      <td>137</td>\n",
              "      <td>183</td>\n",
              "    </tr>\n",
              "  </tbody>\n",
              "</table>\n",
              "<p>240 rows × 4 columns</p>\n",
              "</div>\n",
              "    <div class=\"colab-df-buttons\">\n",
              "\n",
              "  <div class=\"colab-df-container\">\n",
              "    <button class=\"colab-df-convert\" onclick=\"convertToInteractive('df-ef3cd74f-8b29-4f43-83e7-09a0a739e697')\"\n",
              "            title=\"Convert this dataframe to an interactive table.\"\n",
              "            style=\"display:none;\">\n",
              "\n",
              "  <svg xmlns=\"http://www.w3.org/2000/svg\" height=\"24px\" viewBox=\"0 -960 960 960\">\n",
              "    <path d=\"M120-120v-720h720v720H120Zm60-500h600v-160H180v160Zm220 220h160v-160H400v160Zm0 220h160v-160H400v160ZM180-400h160v-160H180v160Zm440 0h160v-160H620v160ZM180-180h160v-160H180v160Zm440 0h160v-160H620v160Z\"/>\n",
              "  </svg>\n",
              "    </button>\n",
              "\n",
              "  <style>\n",
              "    .colab-df-container {\n",
              "      display:flex;\n",
              "      gap: 12px;\n",
              "    }\n",
              "\n",
              "    .colab-df-convert {\n",
              "      background-color: #E8F0FE;\n",
              "      border: none;\n",
              "      border-radius: 50%;\n",
              "      cursor: pointer;\n",
              "      display: none;\n",
              "      fill: #1967D2;\n",
              "      height: 32px;\n",
              "      padding: 0 0 0 0;\n",
              "      width: 32px;\n",
              "    }\n",
              "\n",
              "    .colab-df-convert:hover {\n",
              "      background-color: #E2EBFA;\n",
              "      box-shadow: 0px 1px 2px rgba(60, 64, 67, 0.3), 0px 1px 3px 1px rgba(60, 64, 67, 0.15);\n",
              "      fill: #174EA6;\n",
              "    }\n",
              "\n",
              "    .colab-df-buttons div {\n",
              "      margin-bottom: 4px;\n",
              "    }\n",
              "\n",
              "    [theme=dark] .colab-df-convert {\n",
              "      background-color: #3B4455;\n",
              "      fill: #D2E3FC;\n",
              "    }\n",
              "\n",
              "    [theme=dark] .colab-df-convert:hover {\n",
              "      background-color: #434B5C;\n",
              "      box-shadow: 0px 1px 3px 1px rgba(0, 0, 0, 0.15);\n",
              "      filter: drop-shadow(0px 1px 2px rgba(0, 0, 0, 0.3));\n",
              "      fill: #FFFFFF;\n",
              "    }\n",
              "  </style>\n",
              "\n",
              "    <script>\n",
              "      const buttonEl =\n",
              "        document.querySelector('#df-ef3cd74f-8b29-4f43-83e7-09a0a739e697 button.colab-df-convert');\n",
              "      buttonEl.style.display =\n",
              "        google.colab.kernel.accessAllowed ? 'block' : 'none';\n",
              "\n",
              "      async function convertToInteractive(key) {\n",
              "        const element = document.querySelector('#df-ef3cd74f-8b29-4f43-83e7-09a0a739e697');\n",
              "        const dataTable =\n",
              "          await google.colab.kernel.invokeFunction('convertToInteractive',\n",
              "                                                    [key], {});\n",
              "        if (!dataTable) return;\n",
              "\n",
              "        const docLinkHtml = 'Like what you see? Visit the ' +\n",
              "          '<a target=\"_blank\" href=https://colab.research.google.com/notebooks/data_table.ipynb>data table notebook</a>'\n",
              "          + ' to learn more about interactive tables.';\n",
              "        element.innerHTML = '';\n",
              "        dataTable['output_type'] = 'display_data';\n",
              "        await google.colab.output.renderOutput(dataTable, element);\n",
              "        const docLink = document.createElement('div');\n",
              "        docLink.innerHTML = docLinkHtml;\n",
              "        element.appendChild(docLink);\n",
              "      }\n",
              "    </script>\n",
              "  </div>\n",
              "\n",
              "\n",
              "<div id=\"df-8b45060b-5ab9-4cf4-87c5-0f9378739842\">\n",
              "  <button class=\"colab-df-quickchart\" onclick=\"quickchart('df-8b45060b-5ab9-4cf4-87c5-0f9378739842')\"\n",
              "            title=\"Suggest charts\"\n",
              "            style=\"display:none;\">\n",
              "\n",
              "<svg xmlns=\"http://www.w3.org/2000/svg\" height=\"24px\"viewBox=\"0 0 24 24\"\n",
              "     width=\"24px\">\n",
              "    <g>\n",
              "        <path d=\"M19 3H5c-1.1 0-2 .9-2 2v14c0 1.1.9 2 2 2h14c1.1 0 2-.9 2-2V5c0-1.1-.9-2-2-2zM9 17H7v-7h2v7zm4 0h-2V7h2v10zm4 0h-2v-4h2v4z\"/>\n",
              "    </g>\n",
              "</svg>\n",
              "  </button>\n",
              "\n",
              "<style>\n",
              "  .colab-df-quickchart {\n",
              "      --bg-color: #E8F0FE;\n",
              "      --fill-color: #1967D2;\n",
              "      --hover-bg-color: #E2EBFA;\n",
              "      --hover-fill-color: #174EA6;\n",
              "      --disabled-fill-color: #AAA;\n",
              "      --disabled-bg-color: #DDD;\n",
              "  }\n",
              "\n",
              "  [theme=dark] .colab-df-quickchart {\n",
              "      --bg-color: #3B4455;\n",
              "      --fill-color: #D2E3FC;\n",
              "      --hover-bg-color: #434B5C;\n",
              "      --hover-fill-color: #FFFFFF;\n",
              "      --disabled-bg-color: #3B4455;\n",
              "      --disabled-fill-color: #666;\n",
              "  }\n",
              "\n",
              "  .colab-df-quickchart {\n",
              "    background-color: var(--bg-color);\n",
              "    border: none;\n",
              "    border-radius: 50%;\n",
              "    cursor: pointer;\n",
              "    display: none;\n",
              "    fill: var(--fill-color);\n",
              "    height: 32px;\n",
              "    padding: 0;\n",
              "    width: 32px;\n",
              "  }\n",
              "\n",
              "  .colab-df-quickchart:hover {\n",
              "    background-color: var(--hover-bg-color);\n",
              "    box-shadow: 0 1px 2px rgba(60, 64, 67, 0.3), 0 1px 3px 1px rgba(60, 64, 67, 0.15);\n",
              "    fill: var(--button-hover-fill-color);\n",
              "  }\n",
              "\n",
              "  .colab-df-quickchart-complete:disabled,\n",
              "  .colab-df-quickchart-complete:disabled:hover {\n",
              "    background-color: var(--disabled-bg-color);\n",
              "    fill: var(--disabled-fill-color);\n",
              "    box-shadow: none;\n",
              "  }\n",
              "\n",
              "  .colab-df-spinner {\n",
              "    border: 2px solid var(--fill-color);\n",
              "    border-color: transparent;\n",
              "    border-bottom-color: var(--fill-color);\n",
              "    animation:\n",
              "      spin 1s steps(1) infinite;\n",
              "  }\n",
              "\n",
              "  @keyframes spin {\n",
              "    0% {\n",
              "      border-color: transparent;\n",
              "      border-bottom-color: var(--fill-color);\n",
              "      border-left-color: var(--fill-color);\n",
              "    }\n",
              "    20% {\n",
              "      border-color: transparent;\n",
              "      border-left-color: var(--fill-color);\n",
              "      border-top-color: var(--fill-color);\n",
              "    }\n",
              "    30% {\n",
              "      border-color: transparent;\n",
              "      border-left-color: var(--fill-color);\n",
              "      border-top-color: var(--fill-color);\n",
              "      border-right-color: var(--fill-color);\n",
              "    }\n",
              "    40% {\n",
              "      border-color: transparent;\n",
              "      border-right-color: var(--fill-color);\n",
              "      border-top-color: var(--fill-color);\n",
              "    }\n",
              "    60% {\n",
              "      border-color: transparent;\n",
              "      border-right-color: var(--fill-color);\n",
              "    }\n",
              "    80% {\n",
              "      border-color: transparent;\n",
              "      border-right-color: var(--fill-color);\n",
              "      border-bottom-color: var(--fill-color);\n",
              "    }\n",
              "    90% {\n",
              "      border-color: transparent;\n",
              "      border-bottom-color: var(--fill-color);\n",
              "    }\n",
              "  }\n",
              "</style>\n",
              "\n",
              "  <script>\n",
              "    async function quickchart(key) {\n",
              "      const quickchartButtonEl =\n",
              "        document.querySelector('#' + key + ' button');\n",
              "      quickchartButtonEl.disabled = true;  // To prevent multiple clicks.\n",
              "      quickchartButtonEl.classList.add('colab-df-spinner');\n",
              "      try {\n",
              "        const charts = await google.colab.kernel.invokeFunction(\n",
              "            'suggestCharts', [key], {});\n",
              "      } catch (error) {\n",
              "        console.error('Error during call to suggestCharts:', error);\n",
              "      }\n",
              "      quickchartButtonEl.classList.remove('colab-df-spinner');\n",
              "      quickchartButtonEl.classList.add('colab-df-quickchart-complete');\n",
              "    }\n",
              "    (() => {\n",
              "      let quickchartButtonEl =\n",
              "        document.querySelector('#df-8b45060b-5ab9-4cf4-87c5-0f9378739842 button');\n",
              "      quickchartButtonEl.style.display =\n",
              "        google.colab.kernel.accessAllowed ? 'block' : 'none';\n",
              "    })();\n",
              "  </script>\n",
              "</div>\n",
              "    </div>\n",
              "  </div>\n"
            ],
            "application/vnd.google.colaboratory.intrinsic+json": {
              "type": "dataframe",
              "variable_name": "data",
              "summary": "{\n  \"name\": \"data\",\n  \"rows\": 240,\n  \"fields\": [\n    {\n      \"column\": \"CustomerID\",\n      \"properties\": {\n        \"dtype\": \"number\",\n        \"std\": 63,\n        \"min\": 1,\n        \"max\": 213,\n        \"num_unique_values\": 213,\n        \"samples\": [\n          10,\n          198,\n          67\n        ],\n        \"semantic_type\": \"\",\n        \"description\": \"\"\n      }\n    },\n    {\n      \"column\": \"Gender\",\n      \"properties\": {\n        \"dtype\": \"category\",\n        \"num_unique_values\": 2,\n        \"samples\": [\n          \"Female\",\n          \"Male\"\n        ],\n        \"semantic_type\": \"\",\n        \"description\": \"\"\n      }\n    },\n    {\n      \"column\": \"Age\",\n      \"properties\": {\n        \"dtype\": \"number\",\n        \"std\": 45,\n        \"min\": 18,\n        \"max\": 410,\n        \"num_unique_values\": 56,\n        \"samples\": [\n          19,\n          22\n        ],\n        \"semantic_type\": \"\",\n        \"description\": \"\"\n      }\n    },\n    {\n      \"column\": \"AnnualIncome\",\n      \"properties\": {\n        \"dtype\": \"number\",\n        \"std\": 145,\n        \"min\": 15,\n        \"max\": 1207,\n        \"num_unique_values\": 67,\n        \"samples\": [\n          65,\n          38\n        ],\n        \"semantic_type\": \"\",\n        \"description\": \"\"\n      }\n    },\n    {\n      \"column\": \"SpendingScore\",\n      \"properties\": {\n        \"dtype\": \"number\",\n        \"std\": 31,\n        \"min\": 1,\n        \"max\": 192,\n        \"num_unique_values\": 88,\n        \"samples\": [\n          86,\n          39\n        ],\n        \"semantic_type\": \"\",\n        \"description\": \"\"\n      }\n    }\n  ]\n}"
            }
          },
          "metadata": {},
          "execution_count": 26
        }
      ]
    },
    {
      "cell_type": "code",
      "source": [
        "# Tulis di sini\n",
        "X =data[['Age', 'AnnualIncome', 'SpendingScore']].values\n",
        "X"
      ],
      "metadata": {
        "colab": {
          "base_uri": "https://localhost:8080/"
        },
        "id": "t6HCLkMwEOCz",
        "outputId": "9acdde91-a165-4828-bbb8-5b91518baede"
      },
      "execution_count": null,
      "outputs": [
        {
          "output_type": "execute_result",
          "data": {
            "text/plain": [
              "array([[  19,   15,   39],\n",
              "       [  21,   15,   81],\n",
              "       [  20,   16,    6],\n",
              "       [  23,   16,   77],\n",
              "       [  31,   17,   40],\n",
              "       [  22,   17,   76],\n",
              "       [  35,   18,    6],\n",
              "       [  23,   18,   94],\n",
              "       [  64,   19,    3],\n",
              "       [  30,   19,   72],\n",
              "       [  67,   19,   14],\n",
              "       [  35,   19,   99],\n",
              "       [  58,   20,   15],\n",
              "       [  24,   20,   77],\n",
              "       [  37,   20,   13],\n",
              "       [  22,   20,   79],\n",
              "       [  35,   21,   35],\n",
              "       [  20,   21,   66],\n",
              "       [  52,   23,   29],\n",
              "       [  35,   23,   98],\n",
              "       [  35,   24,   35],\n",
              "       [  25,   24,   73],\n",
              "       [  46,   25,    5],\n",
              "       [  31,   25,   73],\n",
              "       [  54,   28,   14],\n",
              "       [  29,   28,   82],\n",
              "       [  45,   28,   32],\n",
              "       [  35,   28,   61],\n",
              "       [  40,   29,   31],\n",
              "       [  23,   29,   87],\n",
              "       [  60,   30,    4],\n",
              "       [  21,   30,   73],\n",
              "       [  53,   33,    4],\n",
              "       [  18,   33,   92],\n",
              "       [  49,   33,   14],\n",
              "       [  21,   33,   81],\n",
              "       [  42,   34,   17],\n",
              "       [  30,   34,   73],\n",
              "       [  36,   37,   26],\n",
              "       [  20,   37,   75],\n",
              "       [  65,   38,   35],\n",
              "       [  24,   38,   92],\n",
              "       [  48,   39,   36],\n",
              "       [  31,   39,   61],\n",
              "       [  49,   39,   28],\n",
              "       [  24,   39,   65],\n",
              "       [  50,   40,   55],\n",
              "       [  27,   40,   47],\n",
              "       [  29,   40,   42],\n",
              "       [  31,   40,   42],\n",
              "       [  49,   42,   52],\n",
              "       [  33,   42,   60],\n",
              "       [  31,   43,   54],\n",
              "       [  59,   43,   60],\n",
              "       [  50,   43,   45],\n",
              "       [  47,   43,   41],\n",
              "       [  51,   44,   50],\n",
              "       [  69,   44,   46],\n",
              "       [  27,   46,   51],\n",
              "       [  53,   46,   46],\n",
              "       [  70,   46,   56],\n",
              "       [  19,   46,   55],\n",
              "       [  67,   47,   52],\n",
              "       [  54,   47,   59],\n",
              "       [  63,   48,   51],\n",
              "       [  18,   48,   59],\n",
              "       [  43,   48,   50],\n",
              "       [  68,   48,   48],\n",
              "       [  19,   48,   59],\n",
              "       [  32,   48,   47],\n",
              "       [  70,   49,   55],\n",
              "       [  47,   49,   42],\n",
              "       [  60,   50,   49],\n",
              "       [  60,   50,   56],\n",
              "       [  59,   54,   47],\n",
              "       [  26,   54,   54],\n",
              "       [  45,   54,   53],\n",
              "       [  40,   54,   48],\n",
              "       [  23,   54,   52],\n",
              "       [  49,   54,   42],\n",
              "       [  57,   54,   51],\n",
              "       [  38,   54,   55],\n",
              "       [  67,   54,   41],\n",
              "       [  46,   54,   44],\n",
              "       [  21,   54,   57],\n",
              "       [  48,   54,   46],\n",
              "       [  55,   57,   58],\n",
              "       [  22,   57,   55],\n",
              "       [  34,   58,   60],\n",
              "       [  50,   58,   46],\n",
              "       [  68,   59,   55],\n",
              "       [  18,   59,   41],\n",
              "       [  48,   60,   49],\n",
              "       [  40,   60,   40],\n",
              "       [  32,   60,   42],\n",
              "       [  24,   60,   52],\n",
              "       [  47,   60,   47],\n",
              "       [  27,   60,   50],\n",
              "       [  48,   61,   42],\n",
              "       [  20,   61,   49],\n",
              "       [  23,   62,   41],\n",
              "       [  49,   62,   48],\n",
              "       [  67,   62,   59],\n",
              "       [  26,   62,   55],\n",
              "       [  49,   62,   56],\n",
              "       [  21,   62,   42],\n",
              "       [  66,   63,   50],\n",
              "       [  54,   63,   46],\n",
              "       [  68,   63,   43],\n",
              "       [  66,   63,   48],\n",
              "       [  65,   63,   52],\n",
              "       [  19,   63,   54],\n",
              "       [  38,   64,   42],\n",
              "       [  19,   64,   46],\n",
              "       [  18,   65,   48],\n",
              "       [  19,   65,   50],\n",
              "       [  63,   65,   43],\n",
              "       [  49,   65,   59],\n",
              "       [  51,   67,   43],\n",
              "       [  50,   67,   57],\n",
              "       [  27,   67,   56],\n",
              "       [  38,   67,   40],\n",
              "       [  40,   69,   58],\n",
              "       [  39,   69,   91],\n",
              "       [  23,   70,   29],\n",
              "       [  31,   70,   77],\n",
              "       [  43,   71,   35],\n",
              "       [  40,   71,   95],\n",
              "       [  59,   71,   11],\n",
              "       [  38,   71,   75],\n",
              "       [  47,   71,    9],\n",
              "       [  39,   71,   75],\n",
              "       [  25,   72,   34],\n",
              "       [  31,   72,   71],\n",
              "       [  20,   73,    5],\n",
              "       [  29,   73,   88],\n",
              "       [  44,   73,    7],\n",
              "       [  32,   73,   73],\n",
              "       [  19,   74,   10],\n",
              "       [  35,   74,   72],\n",
              "       [  57,   75,    5],\n",
              "       [  32,   75,   93],\n",
              "       [  28,   76,   40],\n",
              "       [  32,   76,   87],\n",
              "       [  25,   77,   12],\n",
              "       [  28,   77,   97],\n",
              "       [  48,   77,   36],\n",
              "       [  32,   77,   74],\n",
              "       [  34,   78,   22],\n",
              "       [  34,   78,   90],\n",
              "       [  43,   78,   17],\n",
              "       [  39,   78,   88],\n",
              "       [  44,   78,   20],\n",
              "       [  38,   78,   76],\n",
              "       [  47,   78,   16],\n",
              "       [  27,   78,   89],\n",
              "       [  37,   78,    1],\n",
              "       [  30,   78,   78],\n",
              "       [  34,   78,    1],\n",
              "       [  30,   78,   73],\n",
              "       [  56,   79,   35],\n",
              "       [  29,   79,   83],\n",
              "       [  19,   81,    5],\n",
              "       [  31,   81,   93],\n",
              "       [  50,   85,   26],\n",
              "       [  36,   85,   75],\n",
              "       [  42,   86,   20],\n",
              "       [  33,   86,   95],\n",
              "       [  36,   87,   27],\n",
              "       [  32,   87,   63],\n",
              "       [  40,   87,   13],\n",
              "       [  28,   87,   75],\n",
              "       [  36,   87,   10],\n",
              "       [  36,   87,   92],\n",
              "       [  52,   88,   13],\n",
              "       [  30,   88,   86],\n",
              "       [  58,   88,   15],\n",
              "       [  27,   88,   69],\n",
              "       [  59,   93,   14],\n",
              "       [  35,   93,   90],\n",
              "       [  37,   97,   32],\n",
              "       [  32,   97,   86],\n",
              "       [  46,   98,   15],\n",
              "       [  29,   98,   88],\n",
              "       [  41,   99,   39],\n",
              "       [  30,   99,   97],\n",
              "       [  54,  101,   24],\n",
              "       [  28,  101,   68],\n",
              "       [  41,  103,   17],\n",
              "       [  36,  103,   85],\n",
              "       [  34,  103,   23],\n",
              "       [  32,  103,   69],\n",
              "       [  33,  113,    8],\n",
              "       [  38,  113,   91],\n",
              "       [  47,  120,   16],\n",
              "       [  35,  120,   79],\n",
              "       [  45,  126,   28],\n",
              "       [  32,  126,   74],\n",
              "       [  32,  137,   18],\n",
              "       [  30,  137,   83],\n",
              "       [  37,   20,   13],\n",
              "       [  22,   20,   79],\n",
              "       [  35,   21,   35],\n",
              "       [  20,   21,   66],\n",
              "       [  52,   23,   29],\n",
              "       [  35,   23,   98],\n",
              "       [  35,   24,   35],\n",
              "       [  25,   24,   73],\n",
              "       [  46,   25,    5],\n",
              "       [  31,   25,   73],\n",
              "       [  54,   28,   14],\n",
              "       [  29,   28,   82],\n",
              "       [  45,   28,   32],\n",
              "       [  35,   28,   61],\n",
              "       [  40,   29,   31],\n",
              "       [  23,   29,   87],\n",
              "       [  60,   30,    4],\n",
              "       [  21,   30,   73],\n",
              "       [  53,   33,    4],\n",
              "       [  18,   33,   92],\n",
              "       [  49,   33,   14],\n",
              "       [  21,   33,   81],\n",
              "       [  42,   34,   17],\n",
              "       [  30,   34,   73],\n",
              "       [  36,   37,   26],\n",
              "       [  20,   37,   75],\n",
              "       [  65,   38,   35],\n",
              "       [ 250,  101,   68],\n",
              "       [ 410,  103,   17],\n",
              "       [ 367,  103,   85],\n",
              "       [ 348,  103,   23],\n",
              "       [ 322,  103,   69],\n",
              "       [  33, 1130,    8],\n",
              "       [  38, 1130,   91],\n",
              "       [  47, 1201,   16],\n",
              "       [  35, 1207,   79],\n",
              "       [  45,  126,  182],\n",
              "       [  32,  126,  174],\n",
              "       [  32,  137,  192],\n",
              "       [  30,  137,  183]])"
            ]
          },
          "metadata": {},
          "execution_count": 27
        }
      ]
    },
    {
      "cell_type": "code",
      "source": [
        "import scipy.cluster.hierarchy as sch"
      ],
      "metadata": {
        "id": "i-C65YVFFdkN"
      },
      "execution_count": null,
      "outputs": []
    },
    {
      "cell_type": "code",
      "source": [
        "plt.figure(figsize=(10, 7))\n",
        "dendrogram = sch.dendrogram(sch.linkage(X, method='ward'))\n",
        "plt.title('Dendrogram (AHC)')\n",
        "plt.xlabel('Customers')\n",
        "plt.ylabel('Euclidean distances')\n",
        "plt.show()"
      ],
      "metadata": {
        "colab": {
          "base_uri": "https://localhost:8080/",
          "height": 542
        },
        "id": "oij1ZvalFkig",
        "outputId": "a5752657-2c29-46bc-82d4-e2d80278a9a9"
      },
      "execution_count": null,
      "outputs": [
        {
          "output_type": "display_data",
          "data": {
            "text/plain": [
              "<Figure size 1000x700 with 1 Axes>"
            ],
            "image/png": "[encoded data removed]"
          },
          "metadata": {}
        }
      ]
    },
    {
      "cell_type": "code",
      "source": [
        "from sklearn.cluster import KMeans\n",
        "from sklearn.metrics import silhouette_score"
      ],
      "metadata": {
        "id": "OdXSAFZRFrbY"
      },
      "execution_count": null,
      "outputs": []
    },
    {
      "cell_type": "code",
      "source": [
        "# Langkah 3: Clustering Menggunakan K-Means\n",
        "from sklearn.cluster import KMeans\n",
        "from sklearn.metrics import silhouette_score\n",
        "\n",
        "# Mencari nilai K terbaik untuk K-Means menggunakan metode Elbow\n",
        "inertia_values = []\n",
        "silhouette_scores = []\n",
        "K_range = range(2, 11)  # Coba nilai K dari 2 hingga 10\n",
        "\n",
        "for k in K_range:\n",
        "    kmeans = KMeans(n_clusters=k, random_state=42)\n",
        "    kmeans.fit(X)\n",
        "    inertia_values.append(kmeans.inertia_)\n",
        "    silhouette_scores.append(silhouette_score(X, kmeans.labels_))\n"
      ],
      "metadata": {
        "colab": {
          "base_uri": "https://localhost:8080/"
        },
        "id": "IdWxMklLFs2v",
        "outputId": "fc6a885c-c317-4e4c-a92c-4db4f2bca137"
      },
      "execution_count": null,
      "outputs": [
        {
          "output_type": "stream",
          "name": "stderr",
          "text": [
            "/usr/local/lib/python3.10/dist-packages/sklearn/cluster/_kmeans.py:870: FutureWarning: The default value of `n_init` will change from 10 to 'auto' in 1.4. Set the value of `n_init` explicitly to suppress the warning\n",
            "  warnings.warn(\n",
            "/usr/local/lib/python3.10/dist-packages/sklearn/cluster/_kmeans.py:870: FutureWarning: The default value of `n_init` will change from 10 to 'auto' in 1.4. Set the value of `n_init` explicitly to suppress the warning\n",
            "  warnings.warn(\n",
            "/usr/local/lib/python3.10/dist-packages/sklearn/cluster/_kmeans.py:870: FutureWarning: The default value of `n_init` will change from 10 to 'auto' in 1.4. Set the value of `n_init` explicitly to suppress the warning\n",
            "  warnings.warn(\n",
            "/usr/local/lib/python3.10/dist-packages/sklearn/cluster/_kmeans.py:870: FutureWarning: The default value of `n_init` will change from 10 to 'auto' in 1.4. Set the value of `n_init` explicitly to suppress the warning\n",
            "  warnings.warn(\n",
            "/usr/local/lib/python3.10/dist-packages/sklearn/cluster/_kmeans.py:870: FutureWarning: The default value of `n_init` will change from 10 to 'auto' in 1.4. Set the value of `n_init` explicitly to suppress the warning\n",
            "  warnings.warn(\n",
            "/usr/local/lib/python3.10/dist-packages/sklearn/cluster/_kmeans.py:870: FutureWarning: The default value of `n_init` will change from 10 to 'auto' in 1.4. Set the value of `n_init` explicitly to suppress the warning\n",
            "  warnings.warn(\n",
            "/usr/local/lib/python3.10/dist-packages/sklearn/cluster/_kmeans.py:870: FutureWarning: The default value of `n_init` will change from 10 to 'auto' in 1.4. Set the value of `n_init` explicitly to suppress the warning\n",
            "  warnings.warn(\n",
            "/usr/local/lib/python3.10/dist-packages/sklearn/cluster/_kmeans.py:870: FutureWarning: The default value of `n_init` will change from 10 to 'auto' in 1.4. Set the value of `n_init` explicitly to suppress the warning\n",
            "  warnings.warn(\n",
            "/usr/local/lib/python3.10/dist-packages/sklearn/cluster/_kmeans.py:870: FutureWarning: The default value of `n_init` will change from 10 to 'auto' in 1.4. Set the value of `n_init` explicitly to suppress the warning\n",
            "  warnings.warn(\n"
          ]
        }
      ]
    },
    {
      "cell_type": "code",
      "source": [
        "plt.plot(K_range, inertia_values, marker='o')\n",
        "plt.title('Elbow Curve for K-Means')\n",
        "plt.xlabel('Number of clusters (K)')\n",
        "plt.ylabel('Inertia')\n",
        "plt.show()"
      ],
      "metadata": {
        "colab": {
          "base_uri": "https://localhost:8080/",
          "height": 524
        },
        "id": "L4tJvHjPGJIk",
        "outputId": "ca49eb55-e31b-458f-9342-b96cd401696f"
      },
      "execution_count": null,
      "outputs": [
        {
          "output_type": "display_data",
          "data": {
            "text/plain": [
              "<Figure size 800x550 with 1 Axes>"
            ],
            "image/png": "[encoded data removed]"
          },
          "metadata": {}
        }
      ]
    },
    {
      "cell_type": "code",
      "source": [
        "best_K_KMeans = silhouette_scores.index(max(silhouette_scores)) + 2"
      ],
      "metadata": {
        "id": "w4xm5O7pGP0L"
      },
      "execution_count": null,
      "outputs": []
    },
    {
      "cell_type": "code",
      "source": [
        "kmeans_best = KMeans(n_clusters=best_K_KMeans, random_state=42)\n",
        "kmeans_best.fit(X)\n",
        "labels_kmeans = kmeans_best.labels_"
      ],
      "metadata": {
        "colab": {
          "base_uri": "https://localhost:8080/"
        },
        "id": "G5JR-BviGRKV",
        "outputId": "13c921b7-fca0-40f5-e2cd-4957c2504596"
      },
      "execution_count": null,
      "outputs": [
        {
          "output_type": "stream",
          "name": "stderr",
          "text": [
            "/usr/local/lib/python3.10/dist-packages/sklearn/cluster/_kmeans.py:870: FutureWarning: The default value of `n_init` will change from 10 to 'auto' in 1.4. Set the value of `n_init` explicitly to suppress the warning\n",
            "  warnings.warn(\n"
          ]
        }
      ]
    },
    {
      "cell_type": "code",
      "source": [
        "# Langkah 4: Bandingkan Kinerja AHC dan K-Means\n",
        "from sklearn.cluster import AgglomerativeClustering  # Tambahkan import yang diperlukan\n",
        "\n",
        "# Membuat model AHC dengan nilai K terbaik\n",
        "ahc_best = AgglomerativeClustering(n_clusters=best_K_KMeans, affinity='euclidean', linkage='ward')\n",
        "labels_ahc = ahc_best.fit_predict(X)\n"
      ],
      "metadata": {
        "colab": {
          "base_uri": "https://localhost:8080/"
        },
        "id": "s18fb9E0GT7C",
        "outputId": "9a55c8e5-bdd3-474c-d68c-f666f032bb3f"
      },
      "execution_count": null,
      "outputs": [
        {
          "output_type": "stream",
          "name": "stderr",
          "text": [
            "/usr/local/lib/python3.10/dist-packages/sklearn/cluster/_agglomerative.py:983: FutureWarning: Attribute `affinity` was deprecated in version 1.2 and will be removed in 1.4. Use `metric` instead\n",
            "  warnings.warn(\n"
          ]
        }
      ]
    },
    {
      "cell_type": "code",
      "source": [
        "kmeans_best = KMeans(n_clusters=best_K_KMeans, random_state=42)\n",
        "kmeans_best.fit(X)\n",
        "labels_kmeans = kmeans_best.labels_"
      ],
      "metadata": {
        "colab": {
          "base_uri": "https://localhost:8080/"
        },
        "id": "56mmcStuHwvO",
        "outputId": "6a2d833d-3256-4a0d-faea-02bfc05dd78b"
      },
      "execution_count": 42,
      "outputs": [
        {
          "output_type": "stream",
          "name": "stderr",
          "text": [
            "/usr/local/lib/python3.10/dist-packages/sklearn/cluster/_kmeans.py:870: FutureWarning: The default value of `n_init` will change from 10 to 'auto' in 1.4. Set the value of `n_init` explicitly to suppress the warning\n",
            "  warnings.warn(\n"
          ]
        }
      ]
    },
    {
      "cell_type": "code",
      "source": [
        "ahc_best = AgglomerativeClustering(n_clusters=best_K_KMeans, affinity='euclidean', linkage='ward')\n",
        "labels_ahc = ahc_best.fit_predict(X)"
      ],
      "metadata": {
        "colab": {
          "base_uri": "https://localhost:8080/"
        },
        "id": "kBA6K_9vH81l",
        "outputId": "4b38edb3-f46d-46c3-8857-bf50b36fb917"
      },
      "execution_count": 43,
      "outputs": [
        {
          "output_type": "stream",
          "name": "stderr",
          "text": [
            "/usr/local/lib/python3.10/dist-packages/sklearn/cluster/_agglomerative.py:983: FutureWarning: Attribute `affinity` was deprecated in version 1.2 and will be removed in 1.4. Use `metric` instead\n",
            "  warnings.warn(\n"
          ]
        }
      ]
    },
    {
      "cell_type": "code",
      "source": [
        "silhouette_score_KMeans = silhouette_score(X, labels_kmeans)\n",
        "silhouette_score_AHC = silhouette_score(X, labels_ahc)\n",
        "print(\"Nilai Silhouette Score untuk K-Means:\", silhouette_score_KMeans)\n",
        "print(\"Nilai Silhouette Score untuk AHC:\", silhouette_score_AHC)"
      ],
      "metadata": {
        "colab": {
          "base_uri": "https://localhost:8080/"
        },
        "id": "RVY8SBq2IAeb",
        "outputId": "021bc892-f226-4b4d-bbdd-cb7753d050e1"
      },
      "execution_count": 45,
      "outputs": [
        {
          "output_type": "stream",
          "name": "stdout",
          "text": [
            "Nilai Silhouette Score untuk K-Means: 0.9403779673399484\n",
            "Nilai Silhouette Score untuk AHC: 0.9403779673399484\n"
          ]
        }
      ]
    },
    {
      "cell_type": "code",
      "source": [
        "if silhouette_score_KMeans > silhouette_score_AHC:\n",
        "    print(\"K-Means memberikan performa yang lebih baik.\")\n",
        "elif silhouette_score_KMeans < silhouette_score_AHC:\n",
        "    print(\"AHC memberikan performa yang lebih baik.\")\n",
        "else:\n",
        "    print(\"K-Means dan AHC memiliki performa yang sama.\")"
      ],
      "metadata": {
        "colab": {
          "base_uri": "https://localhost:8080/"
        },
        "id": "P-RoRjHSIKrw",
        "outputId": "aaeae6f0-c444-4127-96ae-265a00416a2c"
      },
      "execution_count": 46,
      "outputs": [
        {
          "output_type": "stream",
          "name": "stdout",
          "text": [
            "K-Means dan AHC memiliki performa yang sama.\n"
          ]
        }
      ]
    },
    {
      "cell_type": "markdown",
      "source": [
        "## Activity 2"
      ],
      "metadata": {
        "id": "wrMygf8nSS5i"
      }
    },
    {
      "cell_type": "markdown",
      "source": [
        "1. Buat kelompok\n",
        "2. Carilah dataset untuk kasus clustering di sekitarmu atau di internet\n",
        "3. Lakukan clustering menggunakan algortima K-Means (ikuti step pada hands-on ini)\n",
        "4. Buat kesimpulan clustering\n",
        "5. Kumpulkan ke HC"
      ],
      "metadata": {
        "id": "gNTtjS8fKR56"
      }
    },
    {
      "cell_type": "code",
      "source": [],
      "metadata": {
        "id": "H8qXPw2YSWmD"
      },
      "execution_count": null,
      "outputs": []
    }
  ]
}