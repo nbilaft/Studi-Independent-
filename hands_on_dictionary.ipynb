{
  "nbformat": 4,
  "nbformat_minor": 0,
  "metadata": {
    "colab": {
      "provenance": [],
      "include_colab_link": true
    },
    "kernelspec": {
      "name": "python3",
      "display_name": "Python 3"
    },
    "language_info": {
      "name": "python"
    }
  },
  "cells": [
    {
      "cell_type": "markdown",
      "metadata": {
        "id": "view-in-github",
        "colab_type": "text"
      },
      "source": [
        "<a href=\"https://colab.research.google.com/github/nbilaft/Studi-Independent-/blob/main/hands_on_dictionary.ipynb\" target=\"_parent\"><img src=\"https://colab.research.google.com/assets/colab-badge.svg\" alt=\"Open In Colab\"/></a>"
      ]
    },
    {
      "cell_type": "markdown",
      "source": [
        "# Dictionary Python"
      ],
      "metadata": {
        "id": "dSTR1Y8H19cl"
      }
    },
    {
      "cell_type": "code",
      "source": [
        "kode_negara = {'India': 'ind', 'Indonesia': 'ina', 'United States': 'usa'}"
      ],
      "metadata": {
        "id": "RMbXiRT_18m6"
      },
      "execution_count": null,
      "outputs": []
    },
    {
      "cell_type": "markdown",
      "source": [
        "## mengetahui type data"
      ],
      "metadata": {
        "id": "hqy8n-W5I07l"
      }
    },
    {
      "cell_type": "code",
      "source": [
        "print(type(kode_negara))"
      ],
      "metadata": {
        "colab": {
          "base_uri": "https://localhost:8080/"
        },
        "id": "h4nxNiRlIcuz",
        "outputId": "9008d034-349e-4e25-f163-3ce5d0294efc"
      },
      "execution_count": null,
      "outputs": [
        {
          "output_type": "stream",
          "name": "stdout",
          "text": [
            "<class 'dict'>\n"
          ]
        }
      ]
    },
    {
      "cell_type": "markdown",
      "source": [
        "## Mengakses key dan value pada Dictionary"
      ],
      "metadata": {
        "id": "VbMWZK9c1pt4"
      }
    },
    {
      "cell_type": "code",
      "source": [
        "# Mengakses nilai berdasarkan kunci (key)\n",
        "print(kode_negara['India'])  # Output: ind"
      ],
      "metadata": {
        "colab": {
          "base_uri": "https://localhost:8080/"
        },
        "id": "di2NE6u616rD",
        "outputId": "47003323-d9c4-4178-e93f-91281d70187b"
      },
      "execution_count": null,
      "outputs": [
        {
          "output_type": "stream",
          "name": "stdout",
          "text": [
            "ind\n"
          ]
        }
      ]
    },
    {
      "cell_type": "markdown",
      "source": [
        "## Menambahkan elemen baru ke dictionary"
      ],
      "metadata": {
        "id": "718BwgUm51bo"
      }
    },
    {
      "cell_type": "code",
      "source": [
        "kode_negara['China'] = 'chn'\n",
        "print(kode_negara)  # Output: {'India': 'ind', 'Indonesia': 'ina', 'United States': 'usa', 'China': 'chn'}"
      ],
      "metadata": {
        "colab": {
          "base_uri": "https://localhost:8080/"
        },
        "id": "NxtwOWmv53ZE",
        "outputId": "8f8abc5a-d44b-4ff8-c8fd-75c0302d5ee2"
      },
      "execution_count": null,
      "outputs": [
        {
          "output_type": "stream",
          "name": "stdout",
          "text": [
            "{'India': 'ind', 'Indonesia': 'ina', 'United States': 'usa', 'China': 'chn'}\n"
          ]
        }
      ]
    },
    {
      "cell_type": "markdown",
      "source": [
        "## Mengubah nilai elemen dalam dictionary"
      ],
      "metadata": {
        "id": "sCxbUnls6GZN"
      }
    },
    {
      "cell_type": "code",
      "source": [
        "kode_negara['Indonesia'] = 'idn'\n",
        "print(kode_negara)  # Output: {'India': 'ind', 'Indonesia': 'idn', 'United States': 'usa', 'China': 'chn'}"
      ],
      "metadata": {
        "colab": {
          "base_uri": "https://localhost:8080/"
        },
        "id": "8iNT67KS6EXs",
        "outputId": "ff138b95-b56c-4996-b84b-77699c3a66e5"
      },
      "execution_count": null,
      "outputs": [
        {
          "output_type": "stream",
          "name": "stdout",
          "text": [
            "{'India': 'ind', 'Indonesia': 'idn', 'United States': 'usa', 'China': 'chn'}\n"
          ]
        }
      ]
    },
    {
      "cell_type": "markdown",
      "source": [
        "## Menghapus elemen dari dictionary\n"
      ],
      "metadata": {
        "id": "Rg1ibSPd6OlD"
      }
    },
    {
      "cell_type": "code",
      "source": [
        "del kode_negara['United States']\n",
        "print(kode_negara)  # Output: {'India': 'ind', 'Indonesia': 'idn', 'China': 'chn'}\n"
      ],
      "metadata": {
        "colab": {
          "base_uri": "https://localhost:8080/"
        },
        "id": "TA-ajhns6Q1Y",
        "outputId": "45d25f2d-4ece-4560-8729-7d7142ccfbfd"
      },
      "execution_count": null,
      "outputs": [
        {
          "output_type": "stream",
          "name": "stdout",
          "text": [
            "{'India': 'ind', 'Indonesia': 'idn', 'China': 'chn'}\n"
          ]
        }
      ]
    },
    {
      "cell_type": "markdown",
      "source": [
        "## Menghitung jumlah elemen dalam dictionary"
      ],
      "metadata": {
        "id": "siey5TGX6YFo"
      }
    },
    {
      "cell_type": "code",
      "source": [
        "print(len(kode_negara))  # Output: 3"
      ],
      "metadata": {
        "colab": {
          "base_uri": "https://localhost:8080/"
        },
        "id": "9dRPRYB96WBw",
        "outputId": "4786af81-77ab-40fb-ee51-e50b68a08f96"
      },
      "execution_count": null,
      "outputs": [
        {
          "output_type": "stream",
          "name": "stdout",
          "text": [
            "3\n"
          ]
        }
      ]
    },
    {
      "cell_type": "markdown",
      "source": [
        "## Memeriksa keberadaan kunci dalam dictionary"
      ],
      "metadata": {
        "id": "fnyxJArj6fqq"
      }
    },
    {
      "cell_type": "code",
      "source": [
        "print('India' in kode_negara)  # Output: True\n",
        "print('Germany' in kode_negara)  # Output: False"
      ],
      "metadata": {
        "colab": {
          "base_uri": "https://localhost:8080/"
        },
        "id": "UxfZ9UAS6XlJ",
        "outputId": "1dfd76b5-34e5-4b05-ec19-4b61e709489e"
      },
      "execution_count": null,
      "outputs": [
        {
          "output_type": "stream",
          "name": "stdout",
          "text": [
            "True\n",
            "False\n"
          ]
        }
      ]
    },
    {
      "cell_type": "markdown",
      "source": [
        "## Mengambil semua kunci dalam dictionary"
      ],
      "metadata": {
        "id": "Im3J_piS6nZp"
      }
    },
    {
      "cell_type": "code",
      "source": [
        "kunci = kode_negara.keys()\n",
        "print(kunci)  # Output: dict_keys(['India', 'Indonesia', 'China'])"
      ],
      "metadata": {
        "colab": {
          "base_uri": "https://localhost:8080/"
        },
        "id": "zWU0omvg6lZ-",
        "outputId": "418db055-ed16-4387-fb81-8e74230fdfee"
      },
      "execution_count": null,
      "outputs": [
        {
          "output_type": "stream",
          "name": "stdout",
          "text": [
            "dict_keys(['India', 'Indonesia', 'China'])\n"
          ]
        }
      ]
    },
    {
      "cell_type": "markdown",
      "source": [
        "## Mengambil semua nilai dalam dictionary"
      ],
      "metadata": {
        "id": "YjLSvY6d7P2I"
      }
    },
    {
      "cell_type": "code",
      "source": [
        "nilai = kode_negara.values()\n",
        "print(nilai)  # Output: dict_values(['ind', 'idn', 'chn'])"
      ],
      "metadata": {
        "colab": {
          "base_uri": "https://localhost:8080/"
        },
        "id": "-K30lV2g7N9N",
        "outputId": "47b5ff1c-4832-4988-9db7-ab43759c752a"
      },
      "execution_count": null,
      "outputs": [
        {
          "output_type": "stream",
          "name": "stdout",
          "text": [
            "dict_values(['ind', 'idn', 'chn'])\n"
          ]
        }
      ]
    },
    {
      "cell_type": "markdown",
      "source": [
        "\n",
        "\n",
        "\n",
        "\n",
        "## Mengambil pasangan kunci-nilai dalam dictionary"
      ],
      "metadata": {
        "id": "QbIa9Bq17Tvt"
      }
    },
    {
      "cell_type": "code",
      "execution_count": null,
      "metadata": {
        "colab": {
          "base_uri": "https://localhost:8080/"
        },
        "id": "MLnsEd9IFCJz",
        "outputId": "1455ce66-2452-4264-aa17-66f3928c7aa5"
      },
      "outputs": [
        {
          "output_type": "stream",
          "name": "stdout",
          "text": [
            "dict_items([('India', 'ind'), ('Indonesia', 'idn'), ('China', 'chn')])\n"
          ]
        }
      ],
      "source": [
        "pasangan = kode_negara.items()\n",
        "print(pasangan)  # Output: dict_items([('India', 'ind'), ('Indonesia', 'idn'), ('China', 'chn')])\n"
      ]
    },
    {
      "cell_type": "markdown",
      "source": [
        "# Nested Dictionary Python"
      ],
      "metadata": {
        "id": "wb9YXfhE7ueg"
      }
    },
    {
      "cell_type": "markdown",
      "source": [
        "## Membuat sebuah nested dictionary"
      ],
      "metadata": {
        "id": "bc5ocSCa8gZY"
      }
    },
    {
      "cell_type": "code",
      "source": [
        "student = {\n",
        "    'nama': 'John Doe',\n",
        "    'usia': 20,\n",
        "    'nilai': {\n",
        "        'matematika': 85,\n",
        "        'fisika': 90,\n",
        "        'kimia': 80\n",
        "    }\n",
        "}"
      ],
      "metadata": {
        "id": "m5mejn4k8cUx"
      },
      "execution_count": null,
      "outputs": []
    },
    {
      "cell_type": "markdown",
      "source": [
        "\n",
        "\n",
        "## Mengakses nilai dalam nested dictionary"
      ],
      "metadata": {
        "id": "9l-1l8xU8nHa"
      }
    },
    {
      "cell_type": "code",
      "source": [
        "print(\"Nilai matematika:\", student['nilai']['matematika'])\n",
        "print(\"Nilai fisika:\", student['nilai']['fisika'])\n",
        "print(\"Nilai kimia:\", student['nilai']['kimia'])"
      ],
      "metadata": {
        "colab": {
          "base_uri": "https://localhost:8080/"
        },
        "id": "KtRValHN8o5f",
        "outputId": "8ad320c5-bf6b-41fc-901e-01b98321f1ba"
      },
      "execution_count": null,
      "outputs": [
        {
          "output_type": "stream",
          "name": "stdout",
          "text": [
            "Nilai matematika: 85\n",
            "Nilai fisika: 90\n",
            "Nilai kimia: 80\n"
          ]
        }
      ]
    },
    {
      "cell_type": "markdown",
      "source": [
        "## Menambahkan nilai baru dalam nested dictionary\n"
      ],
      "metadata": {
        "id": "obDzk-6A8v-l"
      }
    },
    {
      "cell_type": "code",
      "source": [
        "student['nilai']['biologi'] = 75\n",
        "print(\"Nilai biologi setelah penambahan:\", student['nilai']['biologi'])"
      ],
      "metadata": {
        "colab": {
          "base_uri": "https://localhost:8080/"
        },
        "id": "ATxNIlRM8xwZ",
        "outputId": "d1bab832-091c-495f-d3f0-ab333c1736b6"
      },
      "execution_count": null,
      "outputs": [
        {
          "output_type": "stream",
          "name": "stdout",
          "text": [
            "Nilai biologi setelah penambahan: 75\n"
          ]
        }
      ]
    },
    {
      "cell_type": "markdown",
      "source": [
        "\n",
        "## Menghapus nilai dalam nested dictionary\n"
      ],
      "metadata": {
        "id": "SN_Kv0GQ831D"
      }
    },
    {
      "cell_type": "code",
      "source": [
        "del student['nilai']['fisika']\n",
        "print(\"Data nilai fisika telah dihapus:\", student['nilai'])"
      ],
      "metadata": {
        "colab": {
          "base_uri": "https://localhost:8080/"
        },
        "id": "mZo0koaq86Ip",
        "outputId": "a2b97cc9-111b-491d-aba9-9c3dc485fd6f"
      },
      "execution_count": null,
      "outputs": [
        {
          "output_type": "stream",
          "name": "stdout",
          "text": [
            "Data nilai fisika telah dihapus: {'matematika': 85, 'kimia': 80, 'biologi': 75}\n"
          ]
        }
      ]
    },
    {
      "cell_type": "markdown",
      "source": [
        "## Menghapus seluruh nilai dalam nested dictionary"
      ],
      "metadata": {
        "id": "X8pX8_3D899J"
      }
    },
    {
      "cell_type": "code",
      "source": [
        "student['nilai'].clear()\n",
        "print(\"Data nilai telah dihapus:\", student['nilai'])\n"
      ],
      "metadata": {
        "colab": {
          "base_uri": "https://localhost:8080/"
        },
        "id": "GOBHjzjA7xaK",
        "outputId": "7ba8a39e-1232-4f8d-874c-9e19496ee2c9"
      },
      "execution_count": null,
      "outputs": [
        {
          "output_type": "stream",
          "name": "stdout",
          "text": [
            "Data nilai telah dihapus: {}\n"
          ]
        }
      ]
    },
    {
      "cell_type": "markdown",
      "source": [
        "# Metode-metode dalam dictionary\n",
        "\n",
        "![image.png](data:image/png;base64,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)"
      ],
      "metadata": {
        "id": "v2-dIQfo9UdM"
      }
    },
    {
      "cell_type": "markdown",
      "source": [
        "## Membuat sebuah kamus\n"
      ],
      "metadata": {
        "id": "GORXteCLCk19"
      }
    },
    {
      "cell_type": "code",
      "source": [
        "data = {'nama': 'John', 'usia': 25, 'pekerjaan': 'programmer'}"
      ],
      "metadata": {
        "id": "5X1BsjTKCmcw"
      },
      "execution_count": null,
      "outputs": []
    },
    {
      "cell_type": "markdown",
      "source": [
        "## clear()\n"
      ],
      "metadata": {
        "id": "nTkhnj7HCq6q"
      }
    },
    {
      "cell_type": "code",
      "source": [
        "data.clear()\n",
        "print(\"Setelah clear():\", data)"
      ],
      "metadata": {
        "colab": {
          "base_uri": "https://localhost:8080/"
        },
        "id": "aU9_BooLCuKF",
        "outputId": "d9380174-bec9-48e2-c376-fd8f14ea3964"
      },
      "execution_count": null,
      "outputs": [
        {
          "output_type": "stream",
          "name": "stdout",
          "text": [
            "Setelah clear(): {}\n"
          ]
        }
      ]
    },
    {
      "cell_type": "markdown",
      "source": [
        "# copy()\n"
      ],
      "metadata": {
        "id": "DV1gc7rnDXQI"
      }
    },
    {
      "cell_type": "code",
      "source": [
        "data1 = {'nama': 'John', 'usia': 25, 'pekerjaan': 'programmer'}\n",
        "data2 = data1.copy()\n",
        "print(\"Hasil copy():\", data2)"
      ],
      "metadata": {
        "colab": {
          "base_uri": "https://localhost:8080/"
        },
        "id": "9r-oGSmvDZE_",
        "outputId": "c9c98e1a-7948-4069-a42a-d6511d0f1056"
      },
      "execution_count": null,
      "outputs": [
        {
          "output_type": "stream",
          "name": "stdout",
          "text": [
            "Hasil copy(): {'nama': 'John', 'usia': 25, 'pekerjaan': 'programmer'}\n"
          ]
        }
      ]
    },
    {
      "cell_type": "markdown",
      "source": [
        "## get()\n"
      ],
      "metadata": {
        "id": "sNsUSOtlFKwo"
      }
    },
    {
      "cell_type": "code",
      "source": [
        "usia = data1.get('usia')\n",
        "gaji = data1.get('gaji', 0)\n",
        "print(\"Usia:\", usia)\n",
        "print(\"Gaji:\", gaji)"
      ],
      "metadata": {
        "colab": {
          "base_uri": "https://localhost:8080/"
        },
        "id": "hxrKlV2DFOR3",
        "outputId": "61e5bbe2-8bbe-47ee-f88b-16055bbd599a"
      },
      "execution_count": null,
      "outputs": [
        {
          "output_type": "stream",
          "name": "stdout",
          "text": [
            "Usia: 25\n",
            "Gaji: 0\n"
          ]
        }
      ]
    },
    {
      "cell_type": "markdown",
      "source": [
        "\n",
        "\n",
        "## items()\n"
      ],
      "metadata": {
        "id": "MmSfHk0PFNgL"
      }
    },
    {
      "cell_type": "code",
      "source": [
        "items = data1.items()\n",
        "print(\"Hasil items():\", items)"
      ],
      "metadata": {
        "colab": {
          "base_uri": "https://localhost:8080/"
        },
        "id": "SzfQsnCwFUMz",
        "outputId": "1f802ba0-53b4-4e68-fda5-49b9ed78df89"
      },
      "execution_count": null,
      "outputs": [
        {
          "output_type": "stream",
          "name": "stdout",
          "text": [
            "Hasil items(): dict_items([('nama', 'John'), ('usia', 25), ('pekerjaan', 'programmer')])\n"
          ]
        }
      ]
    },
    {
      "cell_type": "markdown",
      "source": [
        "\n",
        "\n",
        "## keys()\n"
      ],
      "metadata": {
        "id": "reL2hz_cFXQP"
      }
    },
    {
      "cell_type": "code",
      "source": [
        "keys = data1.keys()\n",
        "print(\"Hasil keys():\", keys)"
      ],
      "metadata": {
        "colab": {
          "base_uri": "https://localhost:8080/"
        },
        "id": "9p5Mq4awFZHx",
        "outputId": "c319555e-56ca-4d60-b1a4-c291d5002709"
      },
      "execution_count": null,
      "outputs": [
        {
          "output_type": "stream",
          "name": "stdout",
          "text": [
            "Hasil keys(): dict_keys(['nama', 'usia', 'pekerjaan'])\n"
          ]
        }
      ]
    },
    {
      "cell_type": "markdown",
      "source": [
        "\n",
        "\n",
        "## update()\n"
      ],
      "metadata": {
        "id": "7hREC6z5FcLu"
      }
    },
    {
      "cell_type": "code",
      "source": [
        "data1.update({'gaji': 5000000, 'alamat': 'Jakarta'})\n",
        "print(\"Setelah update():\", data1)"
      ],
      "metadata": {
        "colab": {
          "base_uri": "https://localhost:8080/"
        },
        "id": "V2LVQVngFe1O",
        "outputId": "9c98978a-291c-4080-a4d0-7b80aa172a71"
      },
      "execution_count": null,
      "outputs": [
        {
          "output_type": "stream",
          "name": "stdout",
          "text": [
            "Setelah update(): {'nama': 'John', 'usia': 25, 'pekerjaan': 'programmer', 'gaji': 5000000, 'alamat': 'Jakarta'}\n"
          ]
        }
      ]
    },
    {
      "cell_type": "markdown",
      "source": [
        "\n",
        "\n",
        "## values()\n"
      ],
      "metadata": {
        "id": "P18zErEVFhYo"
      }
    },
    {
      "cell_type": "code",
      "source": [
        "values = data1.values()\n",
        "print(\"Hasil values():\", values)"
      ],
      "metadata": {
        "colab": {
          "base_uri": "https://localhost:8080/"
        },
        "id": "QgCcEtzJFjVb",
        "outputId": "de61e06f-cf83-4336-ba00-737294a8f939"
      },
      "execution_count": null,
      "outputs": [
        {
          "output_type": "stream",
          "name": "stdout",
          "text": [
            "Hasil values(): dict_values(['John', 25, 'programmer', 5000000, 'Jakarta'])\n"
          ]
        }
      ]
    },
    {
      "cell_type": "markdown",
      "source": [
        "\n",
        "\n",
        "## pop()\n"
      ],
      "metadata": {
        "id": "cvJTo-ZtFldJ"
      }
    },
    {
      "cell_type": "code",
      "source": [
        "pekerjaan = data1.pop('pekerjaan')\n",
        "print(\"Pekerjaan yang dihapus:\", pekerjaan)\n",
        "print(\"Setelah pop():\", data1)"
      ],
      "metadata": {
        "colab": {
          "base_uri": "https://localhost:8080/"
        },
        "id": "biqvehXNFm7b",
        "outputId": "70689453-524a-467a-868b-6e3c9df570fb"
      },
      "execution_count": null,
      "outputs": [
        {
          "output_type": "stream",
          "name": "stdout",
          "text": [
            "Pekerjaan yang dihapus: programmer\n",
            "Setelah pop(): {'nama': 'John', 'usia': 25, 'gaji': 5000000, 'alamat': 'Jakarta'}\n"
          ]
        }
      ]
    },
    {
      "cell_type": "markdown",
      "source": [
        "\n",
        "\n",
        "## popitem()\n"
      ],
      "metadata": {
        "id": "EYE58MeCFqRc"
      }
    },
    {
      "cell_type": "code",
      "source": [
        "item = data1.popitem()\n",
        "print(\"Pasangan kunci-nilai yang dihapus:\", item)\n",
        "print(\"Setelah popitem():\", data1)"
      ],
      "metadata": {
        "colab": {
          "base_uri": "https://localhost:8080/"
        },
        "id": "tXJL2XK0Fshh",
        "outputId": "f42b766c-4eeb-4ec0-d299-c8dad13e172e"
      },
      "execution_count": null,
      "outputs": [
        {
          "output_type": "stream",
          "name": "stdout",
          "text": [
            "Pasangan kunci-nilai yang dihapus: ('alamat', 'Jakarta')\n",
            "Setelah popitem(): {'nama': 'John', 'usia': 25, 'gaji': 5000000}\n"
          ]
        }
      ]
    },
    {
      "cell_type": "markdown",
      "source": [
        "\n",
        "\n",
        "## setdefault()\n"
      ],
      "metadata": {
        "id": "GioiFkrPFupp"
      }
    },
    {
      "cell_type": "code",
      "source": [
        "gaji = data1.setdefault('gaji', 0)\n",
        "print(\"Gaji setelah setdefault():\", gaji)"
      ],
      "metadata": {
        "colab": {
          "base_uri": "https://localhost:8080/"
        },
        "id": "BqEkF3LeFwns",
        "outputId": "70590f59-1156-47df-c5e4-1680bbffcb9c"
      },
      "execution_count": null,
      "outputs": [
        {
          "output_type": "stream",
          "name": "stdout",
          "text": [
            "Gaji setelah setdefault(): 5000000\n"
          ]
        }
      ]
    },
    {
      "cell_type": "markdown",
      "source": [
        "## menggunakan operator 'in' untuk memeriksa keberadaan kunci"
      ],
      "metadata": {
        "id": "0-9HfAatFzER"
      }
    },
    {
      "cell_type": "code",
      "source": [
        "has_name = 'nama' in data1\n",
        "has_email = 'email' in data1\n",
        "print(\"Has key 'nama':\", has_name)\n",
        "print(\"Has key 'email':\", has_email)\n"
      ],
      "metadata": {
        "colab": {
          "base_uri": "https://localhost:8080/"
        },
        "id": "wb6N_bwc9YSI",
        "outputId": "73b82393-1069-42c7-88c9-eb4f29b1682c"
      },
      "execution_count": null,
      "outputs": [
        {
          "output_type": "stream",
          "name": "stdout",
          "text": [
            "Has key 'nama': True\n",
            "Has key 'email': False\n"
          ]
        }
      ]
    }
  ]
}