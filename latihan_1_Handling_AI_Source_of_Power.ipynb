{
  "nbformat": 4,
  "nbformat_minor": 0,
  "metadata": {
    "colab": {
      "provenance": [],
      "toc_visible": true,
      "authorship_tag": "ABX9TyPAdKB4IQ3JTF6UNUtcnyrq",
      "include_colab_link": true
    },
    "kernelspec": {
      "name": "python3",
      "display_name": "Python 3"
    },
    "language_info": {
      "name": "python"
    }
  },
  "cells": [
    {
      "cell_type": "markdown",
      "metadata": {
        "id": "view-in-github",
        "colab_type": "text"
      },
      "source": [
        "<a href=\"https://colab.research.google.com/github/nbilaft/Studi-Independent-/blob/main/latihan_1_Handling_AI_Source_of_Power.ipynb\" target=\"_parent\"><img src=\"https://colab.research.google.com/assets/colab-badge.svg\" alt=\"Open In Colab\"/></a>"
      ]
    },
    {
      "cell_type": "code",
      "execution_count": 1,
      "metadata": {
        "colab": {
          "base_uri": "https://localhost:8080/",
          "height": 36
        },
        "id": "bBr7XJS9S1h3",
        "outputId": "9c5848ac-60c8-4cba-dcbd-560e998b6682"
      },
      "outputs": [
        {
          "output_type": "execute_result",
          "data": {
            "text/plain": [
              "'/content/my fav.txt'"
            ],
            "application/vnd.google.colaboratory.intrinsic+json": {
              "type": "string"
            }
          },
          "metadata": {},
          "execution_count": 1
        }
      ],
      "source": [
        "import os\n",
        "os.path.abspath(\"/content/my fav.txt\")"
      ]
    },
    {
      "cell_type": "code",
      "source": [
        "f = open('/content/my fav.txt')"
      ],
      "metadata": {
        "id": "se-O1AoUTKNv"
      },
      "execution_count": 3,
      "outputs": []
    },
    {
      "cell_type": "code",
      "source": [
        "import os\n",
        "\n",
        "# Mendapatkan path absolut dari file \"the zen of python.txt\"\n",
        "abs_path = os.path.abspath(\"/content/my fav.txt\")\n",
        "\n",
        "print(abs_path)\n"
      ],
      "metadata": {
        "colab": {
          "base_uri": "https://localhost:8080/"
        },
        "id": "ea--sB2ETOXY",
        "outputId": "913166ac-f818-4212-f174-a91c283bfb37"
      },
      "execution_count": 4,
      "outputs": [
        {
          "output_type": "stream",
          "name": "stdout",
          "text": [
            "/content/my fav.txt\n"
          ]
        }
      ]
    },
    {
      "cell_type": "code",
      "source": [
        "f = open('/content/my fav.txt')\n",
        "f.seek(0)\n",
        "print(f.read())"
      ],
      "metadata": {
        "colab": {
          "base_uri": "https://localhost:8080/"
        },
        "id": "_PT1WP66Tc3E",
        "outputId": "e092e70e-0998-4b61-cd26-a278b1014fd2"
      },
      "execution_count": 5,
      "outputs": [
        {
          "output_type": "stream",
          "name": "stdout",
          "text": [
            "﻿long story short, i suvirved. Tylor swieft\n"
          ]
        }
      ]
    },
    {
      "cell_type": "code",
      "source": [
        "f = open('/content/my fav.txt')\n",
        "f.seek(0)\n",
        "teks = f.read()\n",
        "f.close()\n",
        "print(teks)"
      ],
      "metadata": {
        "colab": {
          "base_uri": "https://localhost:8080/"
        },
        "id": "guY0aux8TnEX",
        "outputId": "1d33ed74-5677-4dad-d99d-091c5db02173"
      },
      "execution_count": 6,
      "outputs": [
        {
          "output_type": "stream",
          "name": "stdout",
          "text": [
            "﻿long story short, i suvirved. Tylor swieft\n"
          ]
        }
      ]
    },
    {
      "cell_type": "code",
      "source": [
        "f = open('/content/my fav.txt', 'r+')\n",
        "f.write('tumbuh')\n",
        "f.seek(0)\n",
        "print(f.read())\n",
        "f.close()"
      ],
      "metadata": {
        "colab": {
          "base_uri": "https://localhost:8080/"
        },
        "id": "S5aHwL2oTtGT",
        "outputId": "78732097-1047-4740-c725-2cf6787c02fb"
      },
      "execution_count": 10,
      "outputs": [
        {
          "output_type": "stream",
          "name": "stdout",
          "text": [
            "tumbuhis  mutiarart, i suvirved. Tylor swieft\n"
          ]
        }
      ]
    },
    {
      "cell_type": "code",
      "source": [
        "f = open('/content/my fav.txt', 'r+')\n",
        "f.write('terbang')\n",
        "f.seek(0)\n",
        "print(f.read())\n",
        "f.close()"
      ],
      "metadata": {
        "colab": {
          "base_uri": "https://localhost:8080/"
        },
        "id": "QgacNJXDUP7f",
        "outputId": "5e4b2965-147b-487f-d9b4-fc43ef429d11"
      },
      "execution_count": 11,
      "outputs": [
        {
          "output_type": "stream",
          "name": "stdout",
          "text": [
            "terbangs  mutiarart, i suvirved. Tylor swieft\n"
          ]
        }
      ]
    },
    {
      "cell_type": "code",
      "source": [
        "f = open('/content/my fav.txt', 'w+')\n",
        "f.write('i love you its ruining my life')\n",
        "f.seek(0)\n",
        "print(f.read())\n",
        "f.close()"
      ],
      "metadata": {
        "colab": {
          "base_uri": "https://localhost:8080/"
        },
        "id": "x-pLdfi_Uo39",
        "outputId": "81ebea30-8fa1-4857-e804-eff23d60deb6"
      },
      "execution_count": 13,
      "outputs": [
        {
          "output_type": "stream",
          "name": "stdout",
          "text": [
            "i love you its ruining my life\n"
          ]
        }
      ]
    },
    {
      "cell_type": "code",
      "source": [
        "f = open('/content/my fav.txt', 'a+')\n",
        "f.write(' look like taylor')\n",
        "f.seek(0)\n",
        "print(f.read())\n",
        "f.close()"
      ],
      "metadata": {
        "colab": {
          "base_uri": "https://localhost:8080/"
        },
        "id": "UatKWs5sU4GC",
        "outputId": "9cbe2837-34fd-42a8-b5bd-6ddcf127b06a"
      },
      "execution_count": 15,
      "outputs": [
        {
          "output_type": "stream",
          "name": "stdout",
          "text": [
            "i love you its ruining my lifeloook like taylor look like taylor\n"
          ]
        }
      ]
    },
    {
      "cell_type": "code",
      "source": [],
      "metadata": {
        "id": "WevuVtyDVOQU"
      },
      "execution_count": null,
      "outputs": []
    }
  ]
}